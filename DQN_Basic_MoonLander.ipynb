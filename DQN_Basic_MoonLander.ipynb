{
 "cells": [
  {
   "cell_type": "code",
   "execution_count": 1,
   "metadata": {},
   "outputs": [],
   "source": [
    "import gym\n",
    "import numpy as np\n",
    "import ptan\n",
    "\n",
    "import torch\n",
    "import torch.nn as nn\n",
    "import torch.optim as optim\n",
    "\n",
    "import collections\n",
    "\n",
    "import warnings\n",
    "warnings.filterwarnings('ignore')"
   ]
  },
  {
   "cell_type": "markdown",
   "metadata": {},
   "source": [
    "## Deep Q-Network"
   ]
  },
  {
   "cell_type": "code",
   "execution_count": 2,
   "metadata": {},
   "outputs": [],
   "source": [
    "HIDDEN_SIZE = 512\n",
    "class DQN(nn.Module):\n",
    "    def __init__(self, input_shape, n_actions):\n",
    "        super(DQN, self).__init__()\n",
    "\n",
    "        self.fc = nn.Sequential(\n",
    "            nn.Linear(input_shape, HIDDEN_SIZE),\n",
    "            nn.ReLU(),\n",
    "            nn.Linear(HIDDEN_SIZE, n_actions)\n",
    "        )\n",
    "\n",
    "    def forward(self, x):\n",
    "        return self.fc(x)"
   ]
  },
  {
   "cell_type": "markdown",
   "metadata": {},
   "source": [
    "## Agent"
   ]
  },
  {
   "cell_type": "code",
   "execution_count": 3,
   "metadata": {},
   "outputs": [],
   "source": [
    "# an agent has an env, an experience buffer, a Q(s,a) network\n",
    "class DQNAgent:\n",
    "    def __init__(self, dqn_model, action_selector, device=\"cpu\"):\n",
    "        self.dqn_model = dqn_model\n",
    "        self.action_selector = action_selector\n",
    "        self.device = device\n",
    "\n",
    "    @torch.no_grad()\n",
    "    def __call__(self, states):\n",
    "        np_states = np.array(states, dtype=np.float32)\n",
    "        states = torch.FloatTensor(np_states).to(self.device)\n",
    "        q_v = self.dqn_model(states)\n",
    "        q = q_v.data.cpu().numpy()\n",
    "        actions = self.action_selector(q)\n",
    "        return actions\n",
    "\n",
    "class EpsilonGreedyActionSelector():\n",
    "    def __init__(self, epsilon = 0.05):\n",
    "        self.epsilon = epsilon\n",
    "    \n",
    "    def __call__(self, Qs):\n",
    "        batch_size, n_actions = Qs.shape\n",
    "        mask = np.random.random(size=batch_size) < self.epsilon\n",
    "        actions = np.argmax(Qs, axis=1)\n",
    "        rand_actions = np.random.choice(n_actions, sum(mask))\n",
    "        actions[mask] = rand_actions\n",
    "        return actions"
   ]
  },
  {
   "cell_type": "code",
   "execution_count": 4,
   "metadata": {},
   "outputs": [],
   "source": [
    "# test it\n",
    "device = \"cpu\"\n",
    "env = gym.make('CartPole-v0')\n",
    "net = DQN(env.observation_space.shape[0], env.action_space.n)\n",
    "selector = EpsilonGreedyActionSelector(epsilon = 1.0)\n",
    "agent = DQNAgent(net, selector, device=device)"
   ]
  },
  {
   "cell_type": "code",
   "execution_count": 5,
   "metadata": {},
   "outputs": [
    {
     "name": "stdout",
     "output_type": "stream",
     "text": [
      "env s0:  [-0.02215074 -0.00430021  0.03783235  0.04190287]\n",
      "Q(s0,a) =  tensor([[ 0.0398, -0.1935]], grad_fn=<AddmmBackward>)\n"
     ]
    },
    {
     "data": {
      "text/plain": [
       "array([0], dtype=int64)"
      ]
     },
     "execution_count": 5,
     "metadata": {},
     "output_type": "execute_result"
    }
   ],
   "source": [
    "s0 = env.reset()\n",
    "print('env s0: ', s0)\n",
    "\n",
    "s0_v = torch.FloatTensor([s0]).to(device)\n",
    "print('Q(s0,a) = ',net(s0_v)) # Q(s0, a) -- values for a = 0,1\n",
    "\n",
    "agent([s0])"
   ]
  },
  {
   "cell_type": "markdown",
   "metadata": {},
   "source": [
    "## Experience Buffer"
   ]
  },
  {
   "cell_type": "code",
   "execution_count": 6,
   "metadata": {},
   "outputs": [],
   "source": [
    "# each experience is a tuple (s,a,r,s')\n",
    "ExperienceFirstLast = collections.namedtuple('ExperienceFirstLast',('state', 'action', 'reward', 'last_state'))\n",
    "Experience = collections.namedtuple('Experience',('state','action', 'reward', 'done'))\n",
    "\n",
    "# make a class that runs the env with the choosen agent + action selection method for n-steps\n",
    "# and yields an experience object\n",
    "class ExperienceSourceFirstLast():\n",
    "    def __init__(self, env, agent, gamma, steps_count=1):\n",
    "        self.env = env\n",
    "        self.agent = agent\n",
    "        self.gamma = gamma\n",
    "        self.steps = steps_count + 1\n",
    "\n",
    "    def __iter__(self):\n",
    "        state = self.env.reset() # initialization of the environment\n",
    "        \n",
    "        while True:\n",
    "            exp_chain = [] # store a chain of experiences\n",
    "            \n",
    "            # take n-steps under the chosen agent policy\n",
    "            for step in range(self.steps):\n",
    "                action = self.agent([state])[0]\n",
    "                new_state, reward, done, info = self.env.step(action)\n",
    "                exp_chain.append(Experience(state,action,reward,done))\n",
    "                state = new_state\n",
    "                if done:\n",
    "                    state = self.env.reset() # reset for the next iteration\n",
    "                    break\n",
    "            \n",
    "            # if the chain ends prematurely fill the last state value with None\n",
    "            if done and len(exp_chain) <= self.steps:\n",
    "                last_state = None\n",
    "                elems = exp_chain\n",
    "            else:\n",
    "                last_state = exp_chain[-1].state\n",
    "                elems = exp_chain[:-1]\n",
    "            \n",
    "            # compute the discounted reward along the n-step experience chain\n",
    "            total_reward = 0.0\n",
    "            for e in reversed(elems):\n",
    "                total_reward *= self.gamma\n",
    "                total_reward += e.reward\n",
    "                \n",
    "            yield ExperienceFirstLast(state=exp_chain[0].state, action=exp_chain[0].action,\n",
    "                                      reward=total_reward, last_state=last_state)"
   ]
  },
  {
   "cell_type": "code",
   "execution_count": 7,
   "metadata": {},
   "outputs": [],
   "source": [
    "# testing the experience generator\n",
    "exp_source = ExperienceSourceFirstLast(env, agent, gamma=0.99, steps_count=1)"
   ]
  },
  {
   "cell_type": "code",
   "execution_count": 8,
   "metadata": {},
   "outputs": [],
   "source": [
    "xp_iterator = exp_source.__iter__()"
   ]
  },
  {
   "cell_type": "code",
   "execution_count": 9,
   "metadata": {},
   "outputs": [
    {
     "data": {
      "text/plain": [
       "ExperienceFirstLast(state=array([0.03009645, 0.01775688, 0.00613529, 0.02895319]), action=0, reward=1.0, last_state=array([ 0.03045159, -0.17745252,  0.00671435,  0.32356553]))"
      ]
     },
     "execution_count": 9,
     "metadata": {},
     "output_type": "execute_result"
    }
   ],
   "source": [
    "next(xp_iterator)"
   ]
  },
  {
   "cell_type": "markdown",
   "metadata": {},
   "source": [
    "## Priority Experience Replay Buffer"
   ]
  },
  {
   "cell_type": "code",
   "execution_count": 10,
   "metadata": {},
   "outputs": [],
   "source": [
    "class PriorityReplayBuffer:\n",
    "    def __init__(self, exp_source, buf_size, prob_alpha=0.6):\n",
    "        self.exp_source_iter = iter(exp_source)\n",
    "        self.prob_alpha = prob_alpha\n",
    "        self.capacity = buf_size\n",
    "        self.pos = 0\n",
    "        self.buffer = []\n",
    "        # each experience in the buffer will be assigned a \"priority\"\n",
    "        # initialize each priority to 0\n",
    "        # the priorities will be the loss for each experience, this\n",
    "        # will be used to set the probablity of selecting that \n",
    "        # experience in other batches, where the more wrong the loss\n",
    "        # the more likely it is to be selected, so it can train on it better\n",
    "        self.priorities = np.zeros((buf_size,), dtype=np.float32)\n",
    "    \n",
    "    def __len__(self):\n",
    "        return len(self.buffer)\n",
    "    \n",
    "    def populate(self, count):\n",
    "        # what is the maximum priority in the buffer if it is not empty?\n",
    "        max_prio = self.priorities.max() if self.buffer else 1.0\n",
    "        \n",
    "        # sample \"count,\" experiences, and keep track of the oldest experience in the buffer\n",
    "        # by tracking it's position within the buffer\n",
    "        for _ in range(count):\n",
    "            sample = next(self.exp_source_iter) # generate/get the next experience (s,a,r,s')\n",
    "            \n",
    "            if len(self.buffer) < self.capacity:\n",
    "                self.buffer.append(sample) # append to the buffer if the buffer isn't full\n",
    "            else:\n",
    "                self.buffer[self.pos] = sample # replace the oldest experience in the buffer with the new one\n",
    "                \n",
    "            self.priorities[self.pos] = max_prio # set the priority of the current experience to the max so,\n",
    "                                                 # that its very likely to get sampled, since it hasn't\n",
    "                                                 # been seen before in any batch\n",
    "            \n",
    "            self.pos = (self.pos + 1) % self.capacity # cyclic the oldest xp index to the next one\n",
    "    \n",
    "    def sample(self, batch_size, beta=0.4):\n",
    "        \n",
    "        if len(self.buffer) == self.capacity:\n",
    "            prios = self.priorities\n",
    "        else:\n",
    "            prios = self.priorities[:self.pos]\n",
    "        \n",
    "        # convert priority numbers to probabilities via\n",
    "        # P(i) = priority_i**alpha/(sum(priority_i**alpha))\n",
    "        probs = prios ** self.prob_alpha\n",
    "        probs /= probs.sum()\n",
    "        \n",
    "        # randomly select from the experience buffer, a batch size sample, with probabilities\n",
    "        # of experience selection = probs\n",
    "        indices = np.random.choice(len(self.buffer), batch_size, p=probs, replace=True)\n",
    "        samples = [self.buffer[idx] for idx in indices]\n",
    "        \n",
    "        # because we pull from from a non-uniform sample\n",
    "        # we need compute the importance sampling weight for \n",
    "        # SGD to work, we kind of cheat here by adding a beta\n",
    "        # in pure importance sampling beta = 1\n",
    "        total = len(self.buffer)\n",
    "        weights = (total*probs[indices])**(-beta)\n",
    "        weights /= weights.max()\n",
    "        \n",
    "        # return the samples, the weights, and indices, where the indices\n",
    "        # are going to be used to update their priorities after the loss\n",
    "        # is computed on them\n",
    "        return(samples, indices, np.array(weights, dtype=np.float32))\n",
    "    \n",
    "    def update_priorities(self, batch_indices, batch_priorities):\n",
    "        for idx, prio in zip(batch_indices, batch_priorities):\n",
    "            self.priorities[idx] = prio"
   ]
  },
  {
   "cell_type": "code",
   "execution_count": 11,
   "metadata": {},
   "outputs": [],
   "source": [
    "# Testing the Priority Experience Replay Buffer\n",
    "PRIO_REPLAY_ALPHA = 0.6\n",
    "BETA_START = 0.4\n",
    "BETA_FRAMES = 100000\n",
    "\n",
    "buffer = PriorityReplayBuffer(exp_source, buf_size=100000, prob_alpha=PRIO_REPLAY_ALPHA)"
   ]
  },
  {
   "cell_type": "code",
   "execution_count": 12,
   "metadata": {},
   "outputs": [],
   "source": [
    "buffer.populate(100)"
   ]
  },
  {
   "cell_type": "code",
   "execution_count": 13,
   "metadata": {},
   "outputs": [
    {
     "data": {
      "text/plain": [
       "([ExperienceFirstLast(state=array([-0.01005748,  0.40064179,  0.02100685, -0.51869182]), action=0, reward=1.0, last_state=array([-0.00204464,  0.20523048,  0.01063302, -0.21946397])),\n",
       "  ExperienceFirstLast(state=array([-0.07766751, -0.40483128,  0.12547994,  0.70022646]), action=0, reward=1.0, last_state=array([-0.08576413, -0.60144877,  0.13948446,  1.02962826]))],\n",
       " array([28, 85]),\n",
       " array([1., 1.], dtype=float32))"
      ]
     },
     "execution_count": 13,
     "metadata": {},
     "output_type": "execute_result"
    }
   ],
   "source": [
    "buffer.sample(2)"
   ]
  },
  {
   "cell_type": "code",
   "execution_count": 14,
   "metadata": {},
   "outputs": [],
   "source": [
    "buffer.update_priorities([38,75],[0.1,0.5])"
   ]
  },
  {
   "cell_type": "code",
   "execution_count": 15,
   "metadata": {},
   "outputs": [
    {
     "data": {
      "text/plain": [
       "array([1., 1., 1., ..., 0., 0., 0.], dtype=float32)"
      ]
     },
     "execution_count": 15,
     "metadata": {},
     "output_type": "execute_result"
    }
   ],
   "source": [
    "buffer.priorities"
   ]
  },
  {
   "cell_type": "markdown",
   "metadata": {},
   "source": [
    "## Mean Square Error Loss Function"
   ]
  },
  {
   "cell_type": "code",
   "execution_count": 16,
   "metadata": {},
   "outputs": [],
   "source": [
    "#MSE loss on priority replay\n",
    "def calc_loss(batch, net, tgt_net, gamma, device=\"cpu\"):\n",
    "    # grab a collection of random experiences\n",
    "    # E - {(s1,a1,r1,d1,s'1),(s2,a2,r2,d2,s'2),...}\n",
    "    \n",
    "    # unpack the batch\n",
    "    states, actions, rewards, dones, next_states = [],[],[],[],[]\n",
    "    for exp in batch:\n",
    "        states.append(exp.state)\n",
    "        actions.append(exp.action)\n",
    "        rewards.append(exp.reward)\n",
    "        if (exp.last_state is None):\n",
    "            dones.append(True)\n",
    "            next_states.append(exp.state)\n",
    "        else:\n",
    "            dones.append(False)\n",
    "            next_states.append(exp.last_state)\n",
    "    \n",
    "    # convert to pytorch vars\n",
    "    states_v = torch.FloatTensor(states).to(device)\n",
    "    next_states_v = torch.FloatTensor(next_states).to(device)\n",
    "    actions_v = torch.LongTensor(actions).to(device)\n",
    "    rewards_v = torch.FloatTensor(rewards).to(device)\n",
    "    done_mask = torch.ByteTensor(dones).to(device)\n",
    "    \n",
    "    # Q(s,a) for each (s,a) pair in the batch \n",
    "    Q_sa = net(states_v).gather(1, actions_v.unsqueeze(-1)).squeeze(-1)\n",
    "    \n",
    "    # max_a' Q_tgt(s', a') for each s' in the batch\n",
    "    maxQ_sa = tgt_net(next_states_v).max(1)[0] # max in pytorch gives (values, indices) so you want part 0\n",
    "    \n",
    "    # terminal states dont have a max_a' Q_tgt(s',a'), the target for Q_sa is just r(s,a)\n",
    "    maxQ_sa[done_mask] = 0.0\n",
    "    \n",
    "    # build the Q(s,a) target\n",
    "    # y(s,a) = r(s,a) + gamma * max_a' Q_tgt(s',a')\n",
    "    y_sa = rewards_v + gamma*maxQ_sa.detach() # i use detach because I dont want the parameters of Q_tgt to change \n",
    "    \n",
    "    # sampling MSE loss,\n",
    "    # l_i = (Q(s_i,a_i) - y(s_i,a_i))**2\n",
    "    loss_v = (Q_sa - y_sa)**2\n",
    "    \n",
    "    #  L = 1/N sum_i(l_i), l_i + delta -- passed back for updating priorities\n",
    "    return(loss_v.mean(), loss_v + 1e-5) # avoid divide by zero issue with 1e-5"
   ]
  },
  {
   "cell_type": "markdown",
   "metadata": {},
   "source": [
    "## Build Environment"
   ]
  },
  {
   "cell_type": "code",
   "execution_count": 17,
   "metadata": {},
   "outputs": [],
   "source": [
    "def test_agent(test_env, net, nsamples=10, device='cpu'):\n",
    "    total_rewards = []\n",
    "    for sample in range(nsamples):\n",
    "        s = test_env.reset()\n",
    "        episode_reward = 0.0\n",
    "        while True:\n",
    "            # we dont want any randomness within the network at evaluation time\n",
    "            s_v = torch.FloatTensor([s]).to(device)\n",
    "            Qsa = net(s_v).data.cpu().numpy()\n",
    "            a = np.argmax(Qsa[0])\n",
    "            s,r,d,_ = test_env.step(a)\n",
    "            episode_reward += r\n",
    "            if d:\n",
    "                total_rewards.append(episode_reward)\n",
    "                break\n",
    "    \n",
    "    return np.mean(total_rewards)"
   ]
  },
  {
   "cell_type": "code",
   "execution_count": 18,
   "metadata": {},
   "outputs": [
    {
     "name": "stdout",
     "output_type": "stream",
     "text": [
      "best reward update 3000: -1147.1116 -> -573.9162\n",
      "best reward update 6000: -573.9162 -> -462.5730\n",
      "best reward update 7000: -462.5730 -> -378.4195\n",
      "best reward update 8000: -378.4195 -> -286.5469\n",
      "best reward update 9000: -286.5469 -> -206.8502\n",
      "best reward update 14000: -206.8502 -> -203.4667\n",
      "best reward update 15000: -203.4667 -> -177.9194\n",
      "best reward update 21000: -177.9194 -> -153.8277\n",
      "best reward update 25000: -153.8277 -> -132.2453\n",
      "best reward update 35000: -132.2453 -> -123.6414\n",
      "best reward update 42000: -123.6414 -> -123.1981\n",
      "best reward update 58000: -123.1981 -> -104.2973\n",
      "best reward update 61000: -104.2973 -> -102.9125\n",
      "best reward update 94000: -102.9125 -> -86.4467\n",
      "best reward update 97000: -86.4467 -> -82.6966\n",
      "best reward update 98000: -82.6966 -> -66.0012\n",
      "best reward update 107000: -66.0012 -> -31.4728\n",
      "best reward update 121000: -31.4728 -> -4.5756\n",
      "best reward update 122000: -4.5756 -> 1.9438\n",
      "best reward update 150000: 1.9438 -> 7.2027\n",
      "best reward update 156000: 7.2027 -> 26.2132\n",
      "best reward update 162000: 26.2132 -> 67.0547\n",
      "best reward update 183000: 67.0547 -> 79.9257\n"
     ]
    },
    {
     "ename": "KeyboardInterrupt",
     "evalue": "",
     "output_type": "error",
     "traceback": [
      "\u001b[1;31m---------------------------------------------------------------------------\u001b[0m",
      "\u001b[1;31mKeyboardInterrupt\u001b[0m                         Traceback (most recent call last)",
      "\u001b[1;32m<ipython-input-18-2d9e8a9982de>\u001b[0m in \u001b[0;36m<module>\u001b[1;34m\u001b[0m\n\u001b[0;32m     59\u001b[0m \u001b[1;33m\u001b[0m\u001b[0m\n\u001b[0;32m     60\u001b[0m     \u001b[1;32mif\u001b[0m \u001b[1;33m(\u001b[0m\u001b[0mframe_idx\u001b[0m \u001b[1;33m%\u001b[0m \u001b[0mTEST_NET_RATE\u001b[0m\u001b[1;33m)\u001b[0m \u001b[1;33m==\u001b[0m \u001b[1;36m0\u001b[0m \u001b[1;32mand\u001b[0m \u001b[1;33m(\u001b[0m\u001b[0mlen\u001b[0m\u001b[1;33m(\u001b[0m\u001b[0mbuffer\u001b[0m\u001b[1;33m)\u001b[0m \u001b[1;33m>\u001b[0m \u001b[0mREPLAY_START_SIZE\u001b[0m\u001b[1;33m)\u001b[0m\u001b[1;33m:\u001b[0m\u001b[1;33m\u001b[0m\u001b[1;33m\u001b[0m\u001b[0m\n\u001b[1;32m---> 61\u001b[1;33m         \u001b[0mmean_reward\u001b[0m \u001b[1;33m=\u001b[0m \u001b[0mtest_agent\u001b[0m\u001b[1;33m(\u001b[0m\u001b[0mtest_env\u001b[0m\u001b[1;33m,\u001b[0m \u001b[0mnet\u001b[0m\u001b[1;33m,\u001b[0m \u001b[0mdevice\u001b[0m\u001b[1;33m=\u001b[0m\u001b[0mDEVICE\u001b[0m\u001b[1;33m)\u001b[0m\u001b[1;33m\u001b[0m\u001b[1;33m\u001b[0m\u001b[0m\n\u001b[0m\u001b[0;32m     62\u001b[0m \u001b[1;33m\u001b[0m\u001b[0m\n\u001b[0;32m     63\u001b[0m         \u001b[1;31m# record progress\u001b[0m\u001b[1;33m\u001b[0m\u001b[1;33m\u001b[0m\u001b[1;33m\u001b[0m\u001b[0m\n",
      "\u001b[1;32m<ipython-input-17-fc1383ab207c>\u001b[0m in \u001b[0;36mtest_agent\u001b[1;34m(test_env, net, nsamples, device)\u001b[0m\n\u001b[0;32m      6\u001b[0m         \u001b[1;32mwhile\u001b[0m \u001b[1;32mTrue\u001b[0m\u001b[1;33m:\u001b[0m\u001b[1;33m\u001b[0m\u001b[1;33m\u001b[0m\u001b[0m\n\u001b[0;32m      7\u001b[0m             \u001b[1;31m# we dont want any randomness within the network at evaluation time\u001b[0m\u001b[1;33m\u001b[0m\u001b[1;33m\u001b[0m\u001b[1;33m\u001b[0m\u001b[0m\n\u001b[1;32m----> 8\u001b[1;33m             \u001b[0ms_v\u001b[0m \u001b[1;33m=\u001b[0m \u001b[0mtorch\u001b[0m\u001b[1;33m.\u001b[0m\u001b[0mFloatTensor\u001b[0m\u001b[1;33m(\u001b[0m\u001b[1;33m[\u001b[0m\u001b[0ms\u001b[0m\u001b[1;33m]\u001b[0m\u001b[1;33m)\u001b[0m\u001b[1;33m.\u001b[0m\u001b[0mto\u001b[0m\u001b[1;33m(\u001b[0m\u001b[0mdevice\u001b[0m\u001b[1;33m)\u001b[0m\u001b[1;33m\u001b[0m\u001b[1;33m\u001b[0m\u001b[0m\n\u001b[0m\u001b[0;32m      9\u001b[0m             \u001b[0mQsa\u001b[0m \u001b[1;33m=\u001b[0m \u001b[0mnet\u001b[0m\u001b[1;33m(\u001b[0m\u001b[0ms_v\u001b[0m\u001b[1;33m)\u001b[0m\u001b[1;33m.\u001b[0m\u001b[0mdata\u001b[0m\u001b[1;33m.\u001b[0m\u001b[0mcpu\u001b[0m\u001b[1;33m(\u001b[0m\u001b[1;33m)\u001b[0m\u001b[1;33m.\u001b[0m\u001b[0mnumpy\u001b[0m\u001b[1;33m(\u001b[0m\u001b[1;33m)\u001b[0m\u001b[1;33m\u001b[0m\u001b[1;33m\u001b[0m\u001b[0m\n\u001b[0;32m     10\u001b[0m             \u001b[0ma\u001b[0m \u001b[1;33m=\u001b[0m \u001b[0mnp\u001b[0m\u001b[1;33m.\u001b[0m\u001b[0margmax\u001b[0m\u001b[1;33m(\u001b[0m\u001b[0mQsa\u001b[0m\u001b[1;33m[\u001b[0m\u001b[1;36m0\u001b[0m\u001b[1;33m]\u001b[0m\u001b[1;33m)\u001b[0m\u001b[1;33m\u001b[0m\u001b[1;33m\u001b[0m\u001b[0m\n",
      "\u001b[1;31mKeyboardInterrupt\u001b[0m: "
     ]
    }
   ],
   "source": [
    "# Environment and Computation setup\n",
    "DEVICE = \"cuda\" if torch.cuda.is_available() else \"cpu\"\n",
    "ENV_NAME = 'LunarLander-v2'\n",
    "env = gym.make(ENV_NAME)\n",
    "test_env = gym.make(ENV_NAME)\n",
    "\n",
    "# learning and game parameters\n",
    "GAMMA = 0.99\n",
    "LEARNING_RATE = 0.0001\n",
    "STOP_REWARD = 100\n",
    "BATCH_SIZE = 64\n",
    "TARGET_NET_SYNC_RATE = 3000\n",
    "TEST_NET_RATE = 1000\n",
    "\n",
    "# epsilon greedy parameters\n",
    "EPSILON_FINAL = 0.1\n",
    "EPSILON_START = 1.0\n",
    "EPSILON_DECAY_LAST_FRAME = 100000\n",
    "\n",
    "# replay buffer parameters\n",
    "REPLAY_START_SIZE = 1000\n",
    "REPLAY_BUFFER_SIZE = 100000\n",
    "PRIO_REPLAY_ALPHA = 0.5\n",
    "BETA_START = 0.5\n",
    "BETA_FRAMES = 100000\n",
    "EXPERIENCE_ROLLOUT_STEPS = 2\n",
    "# -------------------- #\n",
    "\n",
    "# Q train network\n",
    "net = DQN(env.observation_space.shape[0], env.action_space.n).to(DEVICE)\n",
    "# target network\n",
    "tgt_net = DQN(env.observation_space.shape[0], env.action_space.n).to(DEVICE)\n",
    "\n",
    "# Agent with an epsilon greedy action selector\n",
    "selector = EpsilonGreedyActionSelector(epsilon = 1.0)\n",
    "agent = DQNAgent(net, selector, device=DEVICE)\n",
    "\n",
    "# experience buffer to hold recent experiences\n",
    "exp_source = ExperienceSourceFirstLast(env, agent, gamma=GAMMA, steps_count=EXPERIENCE_ROLLOUT_STEPS)\n",
    "buffer = PriorityReplayBuffer(exp_source, buf_size=REPLAY_BUFFER_SIZE, prob_alpha=PRIO_REPLAY_ALPHA)\n",
    "\n",
    "# training optimizer initialization\n",
    "optimizer = optim.Adam(net.parameters(), lr=LEARNING_RATE)\n",
    "\n",
    "# Training Visualization Records\n",
    "epsilon_trace = []\n",
    "mean_reward_trace = []\n",
    "loss_trace = []\n",
    "\n",
    "# training loop\n",
    "frame_idx = 0\n",
    "best_reward = None\n",
    "while True:\n",
    "    frame_idx += 1 # count the number of n-steps samples that have been generated\n",
    "    buffer.populate(1) # add a n-step sample to the buffer with the agent\n",
    "    \n",
    "    beta = min(1.0, BETA_START + frame_idx * (1.0 - BETA_START) / BETA_FRAMES)\n",
    "    selector.epsilon = max(EPSILON_FINAL, EPSILON_START - frame_idx / EPSILON_DECAY_LAST_FRAME)\n",
    "    \n",
    "    if (frame_idx % TEST_NET_RATE) == 0 and (len(buffer) > REPLAY_START_SIZE):\n",
    "        mean_reward = test_agent(test_env, net, device=DEVICE)\n",
    "        \n",
    "        # record progress\n",
    "        mean_reward_trace.append(mean_reward)\n",
    "        epsilon_trace.append(selector.epsilon)\n",
    "        loss_trace.append(loss_v.item())\n",
    "        \n",
    "        if (best_reward is None) or (mean_reward > best_reward):\n",
    "            if best_reward is not None:\n",
    "                print('best reward update %d: %.4f -> %.4f'%(frame_idx, best_reward, mean_reward))\n",
    "            best_reward = mean_reward\n",
    "        \n",
    "        if best_reward >= STOP_REWARD:\n",
    "            print('Solved in %d n-step frames'%frame_idx)\n",
    "            break\n",
    "    \n",
    "    if len(buffer) < REPLAY_START_SIZE:\n",
    "        continue\n",
    "\n",
    "    optimizer.zero_grad()\n",
    "    batch, batch_indices, batch_weights = buffer.sample(BATCH_SIZE, beta)\n",
    "    loss_v, sample_prios_v = calc_loss(batch, net, tgt_net, GAMMA, device=DEVICE)\n",
    "    \n",
    "    loss_v.backward()\n",
    "    optimizer.step()\n",
    "    buffer.update_priorities(batch_indices, sample_prios_v.data.cpu().numpy())\n",
    "\n",
    "    # after the trainable Q-net has had time to sync up to the tgt net\n",
    "    # update the tgt net\n",
    "    if (frame_idx % TARGET_NET_SYNC_RATE) == 0:\n",
    "        tgt_net.load_state_dict(net.state_dict())"
   ]
  },
  {
   "cell_type": "code",
   "execution_count": 20,
   "metadata": {},
   "outputs": [],
   "source": [
    "import matplotlib.pyplot as plt"
   ]
  },
  {
   "cell_type": "code",
   "execution_count": 21,
   "metadata": {},
   "outputs": [
    {
     "data": {
      "image/png": "[encoded data removed]",
      "text/plain": [
       "<Figure size 1000x400 with 1 Axes>"
      ]
     },
     "metadata": {
      "needs_background": "light"
     },
     "output_type": "display_data"
    },
    {
     "data": {
      "image/png": "[encoded data removed]",
      "text/plain": [
       "<Figure size 1000x400 with 1 Axes>"
      ]
     },
     "metadata": {
      "needs_background": "light"
     },
     "output_type": "display_data"
    },
    {
     "data": {
      "image/png": "[encoded data removed]",
      "text/plain": [
       "<Figure size 1000x400 with 1 Axes>"
      ]
     },
     "metadata": {
      "needs_background": "light"
     },
     "output_type": "display_data"
    }
   ],
   "source": [
    "plt.figure(figsize=(10,4), dpi=100)\n",
    "plt.plot(mean_reward_trace)\n",
    "plt.ylabel('Mean Reward');\n",
    "plt.show();\n",
    "\n",
    "plt.figure(figsize=(10,4), dpi=100)\n",
    "plt.plot(epsilon_trace)\n",
    "plt.ylabel('epsilon');\n",
    "plt.show();\n",
    "\n",
    "\n",
    "plt.figure(figsize=(10,4), dpi=100)\n",
    "plt.plot(loss_trace)\n",
    "plt.ylabel('loss');\n",
    "plt.show();"
   ]
  },
  {
   "cell_type": "code",
   "execution_count": 24,
   "metadata": {},
   "outputs": [],
   "source": [
    "s = test_env.reset()\n",
    "episode_reward = 0.0\n",
    "while True:\n",
    "    # we dont want any randomness within the network at evaluation time\n",
    "    s_v = torch.FloatTensor([s]).to(DEVICE)\n",
    "    Qsa = net(s_v).data.cpu().numpy()\n",
    "    a = np.argmax(Qsa[0])\n",
    "    s,r,d,_ = test_env.step(a)\n",
    "    episode_reward += r\n",
    "    test_env.render()\n",
    "    if d:\n",
    "        test_env.close()\n",
    "        break"
   ]
  },
  {
   "cell_type": "code",
   "execution_count": null,
   "metadata": {},
   "outputs": [],
   "source": []
  }
 ],
 "metadata": {
  "kernelspec": {
   "display_name": "Python 3",
   "language": "python",
   "name": "python3"
  },
  "language_info": {
   "codemirror_mode": {
    "name": "ipython",
    "version": 3
   },
   "file_extension": ".py",
   "mimetype": "text/x-python",
   "name": "python",
   "nbconvert_exporter": "python",
   "pygments_lexer": "ipython3",
   "version": "3.7.6"
  }
 },
 "nbformat": 4,
 "nbformat_minor": 2
}
