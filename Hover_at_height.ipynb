{
 "cells": [
  {
   "cell_type": "code",
   "execution_count": 2,
   "metadata": {},
   "outputs": [],
   "source": [
    "import matplotlib.pyplot as plt\n",
    "import seaborn as sns\n",
    "import time\n",
    "\n",
    "import gym\n",
    "import numpy as np\n",
    "import ptan\n",
    "\n",
    "import torch\n",
    "import torch.nn as nn\n",
    "import torch.nn.functional as F\n",
    "import torch.optim as optim\n",
    "\n",
    "import collections\n",
    "\n",
    "sns.set_style('darkgrid')"
   ]
  },
  {
   "cell_type": "markdown",
   "metadata": {},
   "source": [
    "## Solving the System of Equations\n",
    "\n",
    "$\\ddot{r} = - g$\n",
    "\n",
    "### System of Equations\n",
    "\n",
    "$y_0 = r$\n",
    "\n",
    "$y_1 = \\dot{r}$\n",
    "\n",
    "---\n",
    "\n",
    "\n",
    "$\\dot{y}_0 = y_1$\n",
    "\n",
    "$\\dot{y}_1 =  -g$"
   ]
  },
  {
   "cell_type": "code",
   "execution_count": 152,
   "metadata": {},
   "outputs": [],
   "source": [
    "class UniformGravity(gym.Env):\n",
    "    metadata = {'render.modes': ['human']}\n",
    "    \n",
    "    # dt_s -- is the time step in seconds.\n",
    "    def __init__(self, g = 9.8,  dt = 1.0, target_r = 2.0, \n",
    "                 record_history = True, record_rate = 100):\n",
    "        \n",
    "        super(UniformGravity, self).__init__()\n",
    "        self.record_rate = record_rate\n",
    "        self.max_thrust = 1.05\n",
    "    \n",
    "        # Actions\n",
    "        self.action_space = gym.spaces.Box(low=np.array([-self.max_thrust]), \n",
    "                                           high=np.array([self.max_thrust]), \n",
    "                                           dtype=np.float32)\n",
    "        \n",
    "        # Obs (r,rdot)\n",
    "        self.observation_space = gym.spaces.Box(low=np.array([0,0]), \n",
    "                                                high=np.array([5,10]), \n",
    "                                                dtype=np.float32)\n",
    "        \n",
    "        self.record_history = record_history\n",
    "        \n",
    "        # setting the target altitude in natural units\n",
    "        self.target_r = target_r\n",
    "        self.dt = dt\n",
    "        self.g = 1.0\n",
    "        self.max_time = 100.\n",
    "        \n",
    "    def reset(self):\n",
    "        # Reset the state of the environment to an initial state\n",
    "        self.steps = 0\n",
    "        \n",
    "        # Translational Coordinates\n",
    "        self.r = 0.0\n",
    "        self.r_dot = 0.0\n",
    "        self.r_double_dot = 0.0\n",
    "\n",
    "        self.elapsed_time = 0.0 # elapsed sim time in seconds\n",
    "        \n",
    "        # initialize the history array\n",
    "        if self.record_history:\n",
    "            self.trajectory = np.array([[self.r,self.r_dot, 1.0]])\n",
    "        \n",
    "        obs = np.array([self.r,self.r_dot])\n",
    "        \n",
    "        return obs\n",
    "    \n",
    "    # continous actions = (mean thrust, mean counter clockwise rotation thrust)\n",
    "    def step(self, action):\n",
    "        \n",
    "        # actions segragation\n",
    "        thrust = np.clip(action[0], -self.max_thrust, self.max_thrust)\n",
    "\n",
    "        # Execute one time step within the environment using RK4\n",
    "        self.elapsed_time += self.dt\n",
    "\n",
    "        # integrate\n",
    "        y0_k1 = self.r_dot\n",
    "        y1_k1 = -self.g + thrust\n",
    "        \n",
    "        y0_k2 = (self.r_dot + y1_k1*self.dt/2)\n",
    "        y1_k2 = -self.g + thrust\n",
    "         \n",
    "        y0_k3 = (self.r_dot + y1_k2*self.dt/2)\n",
    "        y1_k3 = -self.g + thrust\n",
    "          \n",
    "        y0_k4 = (self.r_dot + y1_k3*self.dt)\n",
    "        y1_k4 = -self.g + thrust\n",
    "\n",
    "        # Update \n",
    "        self.r = self.r + self.dt/6*(y0_k1 + 2*y0_k2 + 2*y0_k3 + y0_k4)\n",
    "        self.r_dot = self.r_dot + self.dt/6*(y1_k1 + 2*y1_k2 + 2*y1_k3 + y0_k4)\n",
    "        \n",
    "        # prepare to output\n",
    "        obs = np.array([self.r,self.r_dot])\n",
    "        \n",
    "        # If recording is enabled record the trajectory\n",
    "        if (self.record_history) and (self.steps % self.record_rate == 0):\n",
    "            self.trajectory = np.append(self.trajectory,[[self.r,self.r_dot, thrust]],axis=0)\n",
    "        \n",
    "        # reward 1 for every step not done, encouraging staying above ground\n",
    "        # plus a penalty for every step not near the target altitude\n",
    "        reward = (self.dt - self.dt*np.abs(self.r - self.target_r) - self.dt*np.abs(self.r_dot))\n",
    "        \n",
    "        # set if at the terminal state\n",
    "        done = False\n",
    "        \n",
    "        # test for terminal state\n",
    "        if (self.r <= 0.0):\n",
    "            reward = -100.0\n",
    "            done = True\n",
    "        \n",
    "        if (self.elapsed_time > self.max_time):\n",
    "            done = True\n",
    "        \n",
    "        return (obs, reward, done, {})\n",
    "    \n",
    "    def render(self, size=5, sample_traj_rate = 1):\n",
    "        pass"
   ]
  },
  {
   "cell_type": "markdown",
   "metadata": {},
   "source": [
    "## Example Policy\n",
    "\n",
    "$J = {\\rm min}_\\kappa \\ (\\int_0^T\\int_0^t (-g + \\kappa (r(t', \\kappa) - 1)) dt' dt - h)^2 +  (\\int_0^T (-g + \\kappa (r(t',\\kappa) - 1)) dt')^2$"
   ]
  },
  {
   "cell_type": "code",
   "execution_count": 238,
   "metadata": {},
   "outputs": [
    {
     "name": "stderr",
     "output_type": "stream",
     "text": [
      "C:\\Users\\BVPHD\\.conda\\envs\\py_torch\\lib\\site-packages\\gym\\logger.py:30: UserWarning: \u001b[33mWARN: Box bound precision lowered by casting to float32\u001b[0m\n",
      "  warnings.warn(colorize('%s: %s'%('WARN', msg % args), 'yellow'))\n"
     ]
    }
   ],
   "source": [
    "test_env = UniformGravity(dt = 0.1, target_r = 1.0, record_history = True)"
   ]
  },
  {
   "cell_type": "code",
   "execution_count": 239,
   "metadata": {},
   "outputs": [],
   "source": [
    "s = test_env.reset()\n",
    "\n",
    "while True:\n",
    "    a = [-2.0*(s[0]-1) - 0.8*(s[1])]\n",
    "        \n",
    "    s, r, d, _ = test_env.step(a)\n",
    "\n",
    "    if d == True:\n",
    "        break"
   ]
  },
  {
   "cell_type": "code",
   "execution_count": 241,
   "metadata": {},
   "outputs": [
    {
     "data": {
      "image/png": "[encoded data removed]",
      "text/plain": [
       "<Figure size 432x288 with 1 Axes>"
      ]
     },
     "metadata": {},
     "output_type": "display_data"
    },
    {
     "data": {
      "image/png": "[encoded data removed]",
      "text/plain": [
       "<Figure size 432x288 with 1 Axes>"
      ]
     },
     "metadata": {},
     "output_type": "display_data"
    },
    {
     "data": {
      "image/png": "[encoded data removed]",
      "text/plain": [
       "<Figure size 432x288 with 1 Axes>"
      ]
     },
     "metadata": {},
     "output_type": "display_data"
    }
   ],
   "source": [
    "plt.plot(test_env.trajectory[:,0])\n",
    "plt.ylabel('r')\n",
    "plt.xlabel('time')\n",
    "plt.show();\n",
    "\n",
    "plt.plot(test_env.trajectory[:,1])\n",
    "plt.ylabel('$\\dot{r}$')\n",
    "plt.xlabel('time')\n",
    "plt.show();\n",
    "\n",
    "plt.plot(test_env.trajectory[:,2])\n",
    "plt.ylabel('$a$')\n",
    "plt.xlabel('time')\n",
    "plt.show();"
   ]
  },
  {
   "cell_type": "code",
   "execution_count": 242,
   "metadata": {},
   "outputs": [],
   "source": [
    "def calc_logprob(mu_v, var_v, actions_v):\n",
    "    p1 = - ((mu_v - actions_v) ** 2) / (2*var_v.clamp(min=1e-3))\n",
    "    p2 = - torch.log(torch.sqrt(2 * np.pi * var_v))\n",
    "    return p1 + p2"
   ]
  },
  {
   "cell_type": "code",
   "execution_count": 255,
   "metadata": {},
   "outputs": [],
   "source": [
    "HID_SIZE = 128\n",
    "\n",
    "class ModelA2C(nn.Module):\n",
    "    def __init__(self, obs_size, act_size):\n",
    "        super(ModelA2C, self).__init__()\n",
    "\n",
    "        self.mu = nn.Sequential(\n",
    "            nn.Linear(obs_size, HID_SIZE),\n",
    "            nn.ReLU(),\n",
    "            nn.Linear(HID_SIZE, act_size)\n",
    "        )\n",
    "\n",
    "        self.var = self.mu = nn.Sequential(\n",
    "            nn.Linear(obs_size, HID_SIZE),\n",
    "            nn.ReLU(),\n",
    "            nn.Linear(HID_SIZE, act_size)\n",
    "        )\n",
    "\n",
    "        self.value = self.mu = nn.Sequential(\n",
    "            nn.Linear(obs_size, HID_SIZE),\n",
    "            nn.ReLU(),\n",
    "            nn.Linear(HID_SIZE, 1)\n",
    "        )\n",
    "\n",
    "    def forward(self, x):\n",
    "        return self.mu(x), torch.abs(self.var(x)), self.value(x)\n",
    "    \n",
    "class Policy(nn.Module):\n",
    "    def __init__(self, obs_size, act_size):\n",
    "        super(Policy, self).__init__()\n",
    "\n",
    "        self.mu = nn.Sequential(\n",
    "            nn.Linear(obs_size, HID_SIZE),\n",
    "            nn.ReLU(),\n",
    "            nn.Linear(HID_SIZE, act_size)\n",
    "        )\n",
    "\n",
    "        self.var = nn.Sequential(\n",
    "            nn.Linear(obs_size, HID_SIZE),\n",
    "            nn.ReLU(),\n",
    "            nn.Linear(HID_SIZE, act_size)\n",
    "        )\n",
    "\n",
    "\n",
    "    def forward(self, x):\n",
    "        return self.mu(x), torch.abs(self.var(x))"
   ]
  },
  {
   "cell_type": "code",
   "execution_count": 244,
   "metadata": {},
   "outputs": [],
   "source": [
    "class AgentA2C(ptan.agent.BaseAgent):\n",
    "    def __init__(self, net, device=\"cpu\"):\n",
    "        self.net = net\n",
    "        self.device = device\n",
    "\n",
    "    def __call__(self, states, agent_states):\n",
    "        states_v = ptan.agent.float32_preprocessor(states)\n",
    "        states_v = states_v.to(self.device)\n",
    "\n",
    "        mu_v, var_v, _ = self.net(states_v)\n",
    "        mu = mu_v.data.cpu().numpy()\n",
    "        sigma = torch.sqrt(var_v).data.cpu().numpy()\n",
    "        actions = np.random.normal(mu, sigma)\n",
    "        return actions, agent_states\n",
    "    \n",
    "class AgentPolicy(ptan.agent.BaseAgent):\n",
    "    def __init__(self, net, device=\"cpu\"):\n",
    "        self.net = net\n",
    "        self.device = device\n",
    "\n",
    "    def __call__(self, states):\n",
    "        states_v = ptan.agent.float32_preprocessor(states)\n",
    "        states_v = states_v.to(self.device)\n",
    "\n",
    "        mu_v, var_v = self.net(states_v)\n",
    "        \n",
    "        mu = mu_v.data.cpu().numpy()\n",
    "        sigma = torch.sqrt(var_v).data.cpu().numpy()\n",
    "        actions = np.random.normal(mu, sigma)\n",
    "        return actions"
   ]
  },
  {
   "cell_type": "code",
   "execution_count": 245,
   "metadata": {},
   "outputs": [],
   "source": [
    "def unpack_batch_a2c(batch, net, last_val_gamma, device=\"cpu\"):\n",
    "    \"\"\"\n",
    "    Convert batch into training tensors\n",
    "    :param batch:\n",
    "    :param net:\n",
    "    :return: states variable, actions tensor, reference values variable\n",
    "    \"\"\"\n",
    "    states = []\n",
    "    actions = []\n",
    "    rewards = []\n",
    "    not_done_idx = []\n",
    "    last_states = []\n",
    "    \n",
    "    for idx, exp in enumerate(batch):\n",
    "        states.append(exp.state)\n",
    "        actions.append(exp.action)\n",
    "        rewards.append(exp.reward)\n",
    "        if exp.last_state is not None:\n",
    "            not_done_idx.append(idx)\n",
    "            last_states.append(exp.last_state)\n",
    "    \n",
    "    states_v = ptan.agent.float32_preprocessor(states).to(device)\n",
    "    actions_v = torch.FloatTensor(actions).to(device)\n",
    "\n",
    "    # handle rewards\n",
    "    rewards_np = np.array(rewards, dtype=np.float32)\n",
    "    if not_done_idx:\n",
    "        last_states_v = ptan.agent.float32_preprocessor(last_states).to(device)\n",
    "        last_vals_v = net(last_states_v)[2]\n",
    "        last_vals_np = last_vals_v.data.cpu().numpy()[:, 0]\n",
    "        rewards_np[not_done_idx] += last_val_gamma * last_vals_np\n",
    "\n",
    "    ref_vals_v = torch.FloatTensor(rewards_np).to(device)\n",
    "    return states_v, actions_v, ref_vals_v"
   ]
  },
  {
   "cell_type": "code",
   "execution_count": 256,
   "metadata": {},
   "outputs": [
    {
     "name": "stderr",
     "output_type": "stream",
     "text": [
      "C:\\Users\\BVPHD\\.conda\\envs\\py_torch\\lib\\site-packages\\gym\\logger.py:30: UserWarning: \u001b[33mWARN: Box bound precision lowered by casting to float32\u001b[0m\n",
      "  warnings.warn(colorize('%s: %s'%('WARN', msg % args), 'yellow'))\n"
     ]
    }
   ],
   "source": [
    "device = torch.device(\"cuda\" if torch.cuda.is_available() else \"cpu\")\n",
    "\n",
    "env = UniformGravity(dt = 0.01, target_r = 1.0, record_history = False)\n",
    "test_env = UniformGravity(dt = 0.01, target_r = 1.0, record_history = True)\n",
    "\n",
    "policy_net = Policy(env.observation_space.shape[0], env.action_space.shape[0]).to(device)\n",
    "policy_action = AgentPolicy(policy_net,device=device)"
   ]
  },
  {
   "cell_type": "markdown",
   "metadata": {},
   "source": [
    "### Test Net Is Neutral (near zero means, near zero variances)"
   ]
  },
  {
   "cell_type": "code",
   "execution_count": 247,
   "metadata": {},
   "outputs": [
    {
     "data": {
      "text/plain": [
       "(tensor([[0.1901]], device='cuda:0', grad_fn=<AddmmBackward>),\n",
       " tensor([[0.1901]], device='cuda:0', grad_fn=<AbsBackward>))"
      ]
     },
     "execution_count": 247,
     "metadata": {},
     "output_type": "execute_result"
    }
   ],
   "source": [
    "s = env.reset()\n",
    "s_v = torch.FloatTensor([s]).to(device)\n",
    "policy_net(s_v)"
   ]
  },
  {
   "cell_type": "code",
   "execution_count": 248,
   "metadata": {},
   "outputs": [
    {
     "data": {
      "text/plain": [
       "array([1.10967268])"
      ]
     },
     "execution_count": 248,
     "metadata": {},
     "output_type": "execute_result"
    }
   ],
   "source": [
    "policy_action(s)"
   ]
  },
  {
   "cell_type": "markdown",
   "metadata": {},
   "source": [
    "### Pretrain so that we have good initial settings (the mentor) of a linear proportional controller"
   ]
  },
  {
   "cell_type": "code",
   "execution_count": 299,
   "metadata": {},
   "outputs": [],
   "source": [
    "batch_s = []\n",
    "batch_a = []\n",
    "\n",
    "s = env.reset()\n",
    "while True:\n",
    "    batch_s.append(s)\n",
    "    desired_a = [-2.0*(s[0]-1) - 0.8*(s[1])]\n",
    "    desired_a = np.clip(desired_a, a_min=-env.max_thrust, a_max = env.max_thrust)\n",
    "    batch_a.append(desired_a)\n",
    "    s, r, d, _ = env.step(a)\n",
    "    if d:\n",
    "        break"
   ]
  },
  {
   "cell_type": "code",
   "execution_count": 305,
   "metadata": {},
   "outputs": [
    {
     "name": "stdout",
     "output_type": "stream",
     "text": [
      "loss: 126770200576.000000\n",
      "loss: 355863.093750\n",
      "loss: 30.117525\n",
      "loss: 1.126866\n",
      "loss: 1.126524\n",
      "loss: 1.126256\n",
      "loss: 1.125949\n",
      "loss: 1.125580\n",
      "loss: 1.125241\n",
      "loss: 1.124673\n"
     ]
    }
   ],
   "source": [
    "policy_net = Policy(env.observation_space.shape[0], env.action_space.shape[0]).to(device)\n",
    "optimizer = optim.Adam(policy_net.parameters(), lr=0.005)\n",
    "\n",
    "# this pumps the variance parameters so we start off with high exploration\n",
    "s_v = torch.FloatTensor(batch_s).to(device)\n",
    "a_v = torch.FloatTensor(batch_a).to(device)\n",
    "\n",
    "for idx in range(1000):        \n",
    "    optimizer.zero_grad()\n",
    "    \n",
    "    mu_v, var_v = policy_net(s_v)\n",
    "    ent_v = -(torch.log(2*np.pi*var_v) + 1)/2\n",
    "    entropy_loss_v =  1e-7*ent_v.mean()\n",
    "    mu_loss_v = ((mu_v - a_v)**2).mean()\n",
    "    \n",
    "    loss_v = mu_loss_v - entropy_loss_v\n",
    "    \n",
    "    if (idx % 100) == 0:\n",
    "        print('loss: %.6f'%(loss_v.item()))\n",
    "    \n",
    "    loss_v.backward()\n",
    "    optimizer.step()"
   ]
  },
  {
   "cell_type": "code",
   "execution_count": 306,
   "metadata": {},
   "outputs": [],
   "source": [
    "s = test_env.reset()\n",
    "\n",
    "while True:\n",
    "    s_v = torch.FloatTensor([s]).to(device)\n",
    "    mu_v, var_v = policy_net(s_v)\n",
    "    a = mu_v.data.cpu().numpy()[0]\n",
    "    s, r, d, _ = test_env.step(a)\n",
    "    if d:\n",
    "        break"
   ]
  },
  {
   "cell_type": "code",
   "execution_count": 307,
   "metadata": {},
   "outputs": [
    {
     "data": {
      "image/png": "[encoded data removed]",
      "text/plain": [
       "<Figure size 432x288 with 1 Axes>"
      ]
     },
     "metadata": {},
     "output_type": "display_data"
    },
    {
     "data": {
      "image/png": "[encoded data removed]",
      "text/plain": [
       "<Figure size 432x288 with 1 Axes>"
      ]
     },
     "metadata": {},
     "output_type": "display_data"
    },
    {
     "data": {
      "image/png": "[encoded data removed]",
      "text/plain": [
       "<Figure size 432x288 with 1 Axes>"
      ]
     },
     "metadata": {},
     "output_type": "display_data"
    }
   ],
   "source": [
    "plt.plot(test_env.trajectory[:,0])\n",
    "plt.ylabel('r')\n",
    "plt.xlabel('time')\n",
    "plt.show();\n",
    "\n",
    "plt.plot(test_env.trajectory[:,1])\n",
    "plt.ylabel('$\\dot{r}$')\n",
    "plt.xlabel('time')\n",
    "plt.show();\n",
    "\n",
    "plt.plot(test_env.trajectory[:,2])\n",
    "plt.ylabel('$a$')\n",
    "plt.xlabel('time')\n",
    "plt.show();"
   ]
  },
  {
   "cell_type": "code",
   "execution_count": 308,
   "metadata": {},
   "outputs": [],
   "source": [
    "def compute_discounted_rewards(epi_rewards):\n",
    "    batch_R = []\n",
    "    R = 0.0\n",
    "    for r in reversed(epi_rewards):\n",
    "        R = r + GAMMA*R\n",
    "        batch_R.append(R)\n",
    "    q = list(reversed(batch_R))\n",
    "    return q"
   ]
  },
  {
   "cell_type": "code",
   "execution_count": 328,
   "metadata": {},
   "outputs": [
    {
     "ename": "ValueError",
     "evalue": "all the input arrays must have same number of dimensions, but the array at index 0 has 2 dimension(s) and the array at index 1 has 1 dimension(s)",
     "output_type": "error",
     "traceback": [
      "\u001b[1;31m---------------------------------------------------------------------------\u001b[0m",
      "\u001b[1;31mValueError\u001b[0m                                Traceback (most recent call last)",
      "\u001b[1;32m<ipython-input-328-2b62bba474bb>\u001b[0m in \u001b[0;36m<module>\u001b[1;34m\u001b[0m\n\u001b[0;32m     30\u001b[0m \u001b[1;33m\u001b[0m\u001b[0m\n\u001b[0;32m     31\u001b[0m     \u001b[1;31m# store the experience\u001b[0m\u001b[1;33m\u001b[0m\u001b[1;33m\u001b[0m\u001b[1;33m\u001b[0m\u001b[0m\n\u001b[1;32m---> 32\u001b[1;33m     \u001b[0mbatch_states\u001b[0m \u001b[1;33m=\u001b[0m \u001b[0mnp\u001b[0m\u001b[1;33m.\u001b[0m\u001b[0mappend\u001b[0m\u001b[1;33m(\u001b[0m\u001b[0mbatch_states\u001b[0m\u001b[1;33m,\u001b[0m \u001b[0mstate\u001b[0m\u001b[1;33m,\u001b[0m \u001b[0maxis\u001b[0m\u001b[1;33m=\u001b[0m\u001b[1;36m1\u001b[0m\u001b[1;33m)\u001b[0m\u001b[1;33m\u001b[0m\u001b[1;33m\u001b[0m\u001b[0m\n\u001b[0m\u001b[0;32m     33\u001b[0m     \u001b[0mbatch_actions\u001b[0m \u001b[1;33m=\u001b[0m \u001b[0mnp\u001b[0m\u001b[1;33m.\u001b[0m\u001b[0mappend\u001b[0m\u001b[1;33m(\u001b[0m\u001b[0mbatch_actions\u001b[0m\u001b[1;33m,\u001b[0m \u001b[0ma\u001b[0m\u001b[1;33m,\u001b[0m \u001b[0maxis\u001b[0m\u001b[1;33m=\u001b[0m\u001b[1;36m1\u001b[0m\u001b[1;33m)\u001b[0m\u001b[1;33m\u001b[0m\u001b[1;33m\u001b[0m\u001b[0m\n\u001b[0;32m     34\u001b[0m     \u001b[0mbatch_rewards\u001b[0m\u001b[1;33m.\u001b[0m\u001b[0mappend\u001b[0m\u001b[1;33m(\u001b[0m\u001b[0mr\u001b[0m\u001b[1;33m)\u001b[0m\u001b[1;33m\u001b[0m\u001b[1;33m\u001b[0m\u001b[0m\n",
      "\u001b[1;32m<__array_function__ internals>\u001b[0m in \u001b[0;36mappend\u001b[1;34m(*args, **kwargs)\u001b[0m\n",
      "\u001b[1;32m~\\.conda\\envs\\py_torch\\lib\\site-packages\\numpy\\lib\\function_base.py\u001b[0m in \u001b[0;36mappend\u001b[1;34m(arr, values, axis)\u001b[0m\n\u001b[0;32m   4691\u001b[0m         \u001b[0mvalues\u001b[0m \u001b[1;33m=\u001b[0m \u001b[0mravel\u001b[0m\u001b[1;33m(\u001b[0m\u001b[0mvalues\u001b[0m\u001b[1;33m)\u001b[0m\u001b[1;33m\u001b[0m\u001b[1;33m\u001b[0m\u001b[0m\n\u001b[0;32m   4692\u001b[0m         \u001b[0maxis\u001b[0m \u001b[1;33m=\u001b[0m \u001b[0marr\u001b[0m\u001b[1;33m.\u001b[0m\u001b[0mndim\u001b[0m\u001b[1;33m-\u001b[0m\u001b[1;36m1\u001b[0m\u001b[1;33m\u001b[0m\u001b[1;33m\u001b[0m\u001b[0m\n\u001b[1;32m-> 4693\u001b[1;33m     \u001b[1;32mreturn\u001b[0m \u001b[0mconcatenate\u001b[0m\u001b[1;33m(\u001b[0m\u001b[1;33m(\u001b[0m\u001b[0marr\u001b[0m\u001b[1;33m,\u001b[0m \u001b[0mvalues\u001b[0m\u001b[1;33m)\u001b[0m\u001b[1;33m,\u001b[0m \u001b[0maxis\u001b[0m\u001b[1;33m=\u001b[0m\u001b[0maxis\u001b[0m\u001b[1;33m)\u001b[0m\u001b[1;33m\u001b[0m\u001b[1;33m\u001b[0m\u001b[0m\n\u001b[0m\u001b[0;32m   4694\u001b[0m \u001b[1;33m\u001b[0m\u001b[0m\n\u001b[0;32m   4695\u001b[0m \u001b[1;33m\u001b[0m\u001b[0m\n",
      "\u001b[1;32m<__array_function__ internals>\u001b[0m in \u001b[0;36mconcatenate\u001b[1;34m(*args, **kwargs)\u001b[0m\n",
      "\u001b[1;31mValueError\u001b[0m: all the input arrays must have same number of dimensions, but the array at index 0 has 2 dimension(s) and the array at index 1 has 1 dimension(s)"
     ]
    }
   ],
   "source": [
    "policy_action = AgentPolicy(policy_net,device=device)\n",
    "\n",
    "# Reset the optimizer\n",
    "optimizer = optim.Adam(policy_net.parameters(), lr=0.0001)\n",
    "\n",
    "GAMMA = 0.99\n",
    "BATCH_SIZE = 32\n",
    "ENTROPY_BETA = 1e-5\n",
    "\n",
    "\n",
    "batch_states, batch_actions, batch_R = np.array([[0.0, 0.0]]), np.array([0.0]), np.array([])\n",
    "batch_rewards = []\n",
    "\n",
    "total_rewards = collections.deque(maxlen=100)\n",
    "\n",
    "step_idx = 0\n",
    "episode_length = 0\n",
    "batch_episodes = 0\n",
    "done_episodes = 0\n",
    "\n",
    "state = env.reset()\n",
    "\n",
    "while True:\n",
    "    step_idx += 1\n",
    "    episode_length += 1\n",
    "    \n",
    "    # select an action based on the current policy\n",
    "    a = policy_action(state)\n",
    "    new_state, r, done, _ = env.step(a)\n",
    "    \n",
    "    # store the experience\n",
    "    batch_states = np.append(batch_states, state, axis=1)\n",
    "    batch_actions = np.append(batch_actions, a, axis=1)\n",
    "    batch_rewards.append(r)\n",
    "\n",
    "    if done:\n",
    "        discounted_rewards = compute_discounted_rewards(batch_rewards)\n",
    "        batch_R = np.append(batch_R, discounted_rewards, axis=1)\n",
    "        \n",
    "        new_reward = np.sum(batch_rewards)\n",
    "        total_rewards.append(new_reward)\n",
    "        \n",
    "        batch_rewards.clear()\n",
    "        batch_episodes += 1\n",
    "        done_episodes += 1\n",
    "        \n",
    "        state = env.reset()\n",
    "        \n",
    "        mean_rewards = np.mean(total_rewards)\n",
    "        if done_episodes % 20 == 0:\n",
    "            print(\"%d: reward: %6.2f, mean_100: %6.2f, episodes: %d, epi_length: %d\" % (\n",
    "                        step_idx, new_reward, mean_rewards, done_episodes, episode_length))\n",
    "        \n",
    "        if mean_rewards > 80:\n",
    "            print('Solved in %d steps and in %d eps'%(step_idx, done_episodes))\n",
    "            break\n",
    "        \n",
    "        episode_length = 0\n",
    "    else:\n",
    "        state = new_state\n",
    "\n",
    "    if done_episodes < BATCH_SIZE:\n",
    "        continue\n",
    "    \n",
    "    r_idx = np.random.choice(range(len(batch_states)), 2048)\n",
    "    \n",
    "    batch_states = batch_states[r_idx]\n",
    "    batch_actions = batch_actions[r_idx]\n",
    "    batch_R = batch_R[r_idx]\n",
    "    \n",
    "    # done acquiring events, time to train\n",
    "    batch_episodes = 0\n",
    "    \n",
    "    \n",
    "    optimizer.zero_grad()\n",
    "    batch_state_v = torch.FloatTensor(batch_states).to(device)\n",
    "    batch_actions_v = torch.LongTensor(batch_actions).to(device)\n",
    "    batch_R_v = torch.FloatTensor(batch_R).to(device)\n",
    "    \n",
    "    mu_v, var_v = policy_net(batch_state_v)\n",
    "    \n",
    "    ent_v = -(torch.log(2*np.pi*var_v) + 1)/2\n",
    "    entropy_loss_v =  ENTROPY_BETA*ent_v.mean()\n",
    "    \n",
    "    log_prob_v = (batch_R_v)*calc_logprob(mu_v, var_v, batch_actions_v)\n",
    "    loss_v = -(log_prob_v.mean())\n",
    "    \n",
    "    loss_v = loss_v - entropy_loss_v #push entropy towards max uncertianty for all states as a threshold\n",
    "    \n",
    "    loss_v.backward()\n",
    "    #nn_utils.clip_grad_norm_(policy_net.parameters(), CLIP_GRAD)\n",
    "    optimizer.step()\n",
    "    \n",
    "    batch_states.clear()\n",
    "    batch_actions.clear()\n",
    "    batch_R.clear()"
   ]
  },
  {
   "cell_type": "code",
   "execution_count": 326,
   "metadata": {},
   "outputs": [
    {
     "data": {
      "text/plain": [
       "array([2.83277572e-05, 1.79029294e-05, 1.67417964e-03, ...,\n",
       "       8.35695833e-04, 2.00319583e-05, 7.80220328e-04])"
      ]
     },
     "execution_count": 326,
     "metadata": {},
     "output_type": "execute_result"
    }
   ],
   "source": [
    "batch_states"
   ]
  },
  {
   "cell_type": "code",
   "execution_count": null,
   "metadata": {},
   "outputs": [],
   "source": []
  }
 ],
 "metadata": {
  "kernelspec": {
   "display_name": "Python 3",
   "language": "python",
   "name": "python3"
  },
  "language_info": {
   "codemirror_mode": {
    "name": "ipython",
    "version": 3
   },
   "file_extension": ".py",
   "mimetype": "text/x-python",
   "name": "python",
   "nbconvert_exporter": "python",
   "pygments_lexer": "ipython3",
   "version": "3.7.6"
  }
 },
 "nbformat": 4,
 "nbformat_minor": 2
}
