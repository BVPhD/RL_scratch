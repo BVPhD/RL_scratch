{
 "cells": [
  {
   "cell_type": "code",
   "execution_count": 1,
   "metadata": {},
   "outputs": [],
   "source": [
    "import matplotlib.pyplot as plt\n",
    "import seaborn as sns\n",
    "import time\n",
    "\n",
    "import gym\n",
    "import numpy as np\n",
    "import os\n",
    "import ptan\n",
    "\n",
    "import torch\n",
    "import torch.nn as nn\n",
    "import torch.nn.functional as F\n",
    "import torch.optim as optim\n",
    "\n",
    "import collections\n",
    "\n",
    "import seaborn as sns\n",
    "\n",
    "sns.set_style('darkgrid')"
   ]
  },
  {
   "cell_type": "markdown",
   "metadata": {},
   "source": [
    "## Solving the System of Equations\n",
    "\n",
    "$\\ddot{r} = - g$\n",
    "\n",
    "### System of Equations\n",
    "\n",
    "$y_0 = r$\n",
    "\n",
    "$y_1 = \\dot{r}$\n",
    "\n",
    "---\n",
    "\n",
    "\n",
    "$\\dot{y}_0 = y_1$\n",
    "\n",
    "$\\dot{y}_1 =  -g$"
   ]
  },
  {
   "cell_type": "code",
   "execution_count": 2,
   "metadata": {},
   "outputs": [],
   "source": [
    "class UniformGravity(gym.Env):\n",
    "    metadata = {'render.modes': ['human']}\n",
    "    \n",
    "    # dt_s -- is the time step in seconds.\n",
    "    def __init__(self, g = 9.8,  dt = 1.0, target_alt = 2.0, \n",
    "                 thrust_gs= 1.5, verbose = False, \n",
    "                 record_history = True, record_rate = 100):\n",
    "        \n",
    "        super(UniformGravity, self).__init__()\n",
    "        self.record_rate = record_rate\n",
    "        self.max_thrust = g*1.5\n",
    "    \n",
    "        # Actions\n",
    "        self.action_space = gym.spaces.Box(low=np.array([-self.max_thrust]), \n",
    "                                           high=np.array([self.max_thrust]), \n",
    "                                           dtype=np.float32)\n",
    "        \n",
    "        # Obs (r,rdot,theta,theta_dot)\n",
    "        self.observation_space = gym.spaces.Box(low=np.array([0,0]), \n",
    "                                                high=np.array([10**9,10**9]), \n",
    "                                                dtype=np.float32)\n",
    "        \n",
    "        self.record_history = record_history\n",
    "        \n",
    "        # setting the target altitude in natural units\n",
    "        self.target_alt = target_alt\n",
    "        \n",
    "        self.dt = dt\n",
    "        self.g = g\n",
    "        \n",
    "        self.max_time = 100.\n",
    "        \n",
    "    def reset(self):\n",
    "        # Reset the state of the environment to an initial state\n",
    "        self.steps = 0\n",
    "        \n",
    "        # Translational Coordinates\n",
    "        self.r = 1.0\n",
    "        self.r_dot = 0.0\n",
    "        self.r_double_dot = 0.0\n",
    "\n",
    "        self.elapsed_time = 0.0 # elapsed sim time in seconds\n",
    "        \n",
    "        # initialize the history array\n",
    "        if self.record_history:\n",
    "            self.trajectory = np.array([[self.r,self.r_dot]])\n",
    "        \n",
    "        obs = np.array([self.r,self.r_dot])\n",
    "        \n",
    "        return obs\n",
    "    \n",
    "    # continous actions = (mean thrust, mean counter clockwise rotation thrust)\n",
    "    def step(self, action):\n",
    "        \n",
    "        # actions segragation\n",
    "        thrust = np.clip(action[0], -self.max_thrust, self.max_thrust)\n",
    "\n",
    "        # Execute one time step within the environment using RK4\n",
    "        self.elapsed_time += self.dt\n",
    "\n",
    "        # integrate\n",
    "        y0_k1 = self.r_dot\n",
    "        y1_k1 = -self.g + thrust\n",
    "        \n",
    "        y0_k2 = (self.r_dot + y1_k1*self.dt/2)\n",
    "        y1_k2 = -self.g + thrust\n",
    "         \n",
    "        y0_k3 = (self.r_dot + y1_k2*self.dt/2)\n",
    "        y1_k3 = -self.g + thrust\n",
    "          \n",
    "        y0_k4 = (self.r_dot + y1_k3*self.dt)\n",
    "        y1_k4 = -self.g + thrust\n",
    "\n",
    "        # Update \n",
    "        self.r = self.r + self.dt/6*(y0_k1 + 2*y0_k2 + 2*y0_k3 + y0_k4)\n",
    "        self.r_dot = self.r_dot + self.dt/6*(y1_k1 + 2*y1_k2 + 2*y1_k3 + y0_k4)\n",
    "        \n",
    "        # prepare to output\n",
    "        obs = np.array([self.r,self.r_dot])\n",
    "        \n",
    "        # If recording is enabled record the trajectory\n",
    "        if (self.record_history) and (self.steps % self.record_rate == 0):\n",
    "            self.trajectory = np.append(self.trajectory,[[self.r,self.r_dot]],axis=0)\n",
    "        \n",
    "        # reward 1 for every step not done, encouraging staying above ground\n",
    "        # plus a penalty for every step not near the target altitude\n",
    "        reward = (1.0 - 0.001*thrust/self.max_thrust + 0.01*np.abs(self.target_alt - self.r)/self.target_alt)\n",
    "        \n",
    "        # set if at the terminal state\n",
    "        done = False\n",
    "        \n",
    "        # test for terminal state\n",
    "        if ((self.r <= 1.0) | \n",
    "            (self.r > self.target_alt*3.0) | \n",
    "            (self.elapsed_time > self.max_time)):\n",
    "            done = True\n",
    "        \n",
    "        return (obs, reward, done, {})\n",
    "    \n",
    "    def render(self, size=5, sample_traj_rate = 1):\n",
    "        pass"
   ]
  },
  {
   "cell_type": "markdown",
   "metadata": {},
   "source": [
    "## Example Policy"
   ]
  },
  {
   "cell_type": "code",
   "execution_count": 3,
   "metadata": {},
   "outputs": [
    {
     "name": "stderr",
     "output_type": "stream",
     "text": [
      "C:\\Users\\BVPHD\\.conda\\envs\\py_torch\\lib\\site-packages\\gym\\logger.py:30: UserWarning: \u001b[33mWARN: Box bound precision lowered by casting to float32\u001b[0m\n",
      "  warnings.warn(colorize('%s: %s'%('WARN', msg % args), 'yellow'))\n"
     ]
    }
   ],
   "source": [
    "env = UniformGravity(dt = 0.1, verbose=True, target_alt = 1.75)"
   ]
  },
  {
   "cell_type": "code",
   "execution_count": 10,
   "metadata": {},
   "outputs": [],
   "source": [
    "env.reset()\n",
    "\n",
    "for t in range(20):\n",
    "    if t < 8:\n",
    "        a = [11.0]\n",
    "    elif t < 8.5:\n",
    "        a = [-1.0]\n",
    "    else:\n",
    "        a = [9.8]\n",
    "        \n",
    "    env.step(a)"
   ]
  },
  {
   "cell_type": "code",
   "execution_count": 11,
   "metadata": {},
   "outputs": [
    {
     "data": {
      "image/png": "[encoded data removed]",
      "text/plain": [
       "<Figure size 432x288 with 1 Axes>"
      ]
     },
     "metadata": {},
     "output_type": "display_data"
    },
    {
     "data": {
      "image/png": "[encoded data removed]",
      "text/plain": [
       "<Figure size 432x288 with 1 Axes>"
      ]
     },
     "metadata": {},
     "output_type": "display_data"
    }
   ],
   "source": [
    "plt.plot(env.trajectory[:,0])\n",
    "plt.show();\n",
    "\n",
    "plt.plot(env.trajectory[:,1])\n",
    "plt.show();"
   ]
  },
  {
   "cell_type": "code",
   "execution_count": 12,
   "metadata": {},
   "outputs": [],
   "source": [
    "def test_net(net, env, count=10, device=\"cpu\"):\n",
    "    rewards = 0.0\n",
    "    steps = 0\n",
    "    # play count episodes\n",
    "    for _ in range(count):\n",
    "        obs = env.reset()\n",
    "        while True:\n",
    "            obs_v = ptan.agent.float32_preprocessor([obs])\n",
    "            obs_v = obs_v.to(device)\n",
    "            mu_v = net(obs_v)[0]\n",
    "            action = mu_v.squeeze(dim=0).data.cpu().numpy()\n",
    "            state, reward, done, _ = env.step(action)\n",
    "            rewards += reward\n",
    "            steps += 1\n",
    "            if done:\n",
    "                break\n",
    "    return rewards / count, steps / count"
   ]
  },
  {
   "cell_type": "code",
   "execution_count": 77,
   "metadata": {},
   "outputs": [],
   "source": [
    "def calc_logprob(mu_v, var_v, actions_v):\n",
    "    p1 = - ((mu_v - actions_v) ** 2) / (2*var_v.clamp(min=1e-3))\n",
    "    p2 = - torch.log(torch.sqrt(2 * np.pi * var_v))\n",
    "    return p1 + p2"
   ]
  },
  {
   "cell_type": "code",
   "execution_count": 79,
   "metadata": {},
   "outputs": [],
   "source": [
    "HID_SIZE = 16\n",
    "\n",
    "class ModelA2C(nn.Module):\n",
    "    def __init__(self, obs_size, act_size):\n",
    "        super(ModelA2C, self).__init__()\n",
    "\n",
    "        self.mu = nn.Sequential(\n",
    "            nn.Linear(obs_size, HID_SIZE),\n",
    "            nn.ReLU(),\n",
    "            nn.Linear(HID_SIZE, act_size)\n",
    "        )\n",
    "\n",
    "        self.var = self.mu = nn.Sequential(\n",
    "            nn.Linear(obs_size, HID_SIZE),\n",
    "            nn.ReLU(),\n",
    "            nn.Linear(HID_SIZE, act_size)\n",
    "        )\n",
    "\n",
    "        self.value = self.mu = nn.Sequential(\n",
    "            nn.Linear(obs_size, HID_SIZE),\n",
    "            nn.ReLU(),\n",
    "            nn.Linear(HID_SIZE, 1)\n",
    "        )\n",
    "\n",
    "    def forward(self, x):\n",
    "        return self.mu(x), torch.abs(self.var(x)), self.value(x)"
   ]
  },
  {
   "cell_type": "code",
   "execution_count": 80,
   "metadata": {},
   "outputs": [],
   "source": [
    "class AgentA2C(ptan.agent.BaseAgent):\n",
    "    def __init__(self, net, device=\"cpu\"):\n",
    "        self.net = net\n",
    "        self.device = device\n",
    "\n",
    "    def __call__(self, states, agent_states):\n",
    "        states_v = ptan.agent.float32_preprocessor(states)\n",
    "        states_v = states_v.to(self.device)\n",
    "\n",
    "        mu_v, var_v, _ = self.net(states_v)\n",
    "        mu = mu_v.data.cpu().numpy()\n",
    "        sigma = torch.sqrt(var_v).data.cpu().numpy()\n",
    "        actions = np.random.normal(mu, sigma)\n",
    "        return actions, agent_states"
   ]
  },
  {
   "cell_type": "code",
   "execution_count": 81,
   "metadata": {},
   "outputs": [],
   "source": [
    "def unpack_batch_a2c(batch, net, last_val_gamma, device=\"cpu\"):\n",
    "    \"\"\"\n",
    "    Convert batch into training tensors\n",
    "    :param batch:\n",
    "    :param net:\n",
    "    :return: states variable, actions tensor, reference values variable\n",
    "    \"\"\"\n",
    "    states = []\n",
    "    actions = []\n",
    "    rewards = []\n",
    "    not_done_idx = []\n",
    "    last_states = []\n",
    "    \n",
    "    for idx, exp in enumerate(batch):\n",
    "        states.append(exp.state)\n",
    "        actions.append(exp.action)\n",
    "        rewards.append(exp.reward)\n",
    "        if exp.last_state is not None:\n",
    "            not_done_idx.append(idx)\n",
    "            last_states.append(exp.last_state)\n",
    "    \n",
    "    states_v = ptan.agent.float32_preprocessor(states).to(device)\n",
    "    actions_v = torch.FloatTensor(actions).to(device)\n",
    "\n",
    "    # handle rewards\n",
    "    rewards_np = np.array(rewards, dtype=np.float32)\n",
    "    if not_done_idx:\n",
    "        last_states_v = ptan.agent.float32_preprocessor(last_states).to(device)\n",
    "        last_vals_v = net(last_states_v)[2]\n",
    "        last_vals_np = last_vals_v.data.cpu().numpy()[:, 0]\n",
    "        rewards_np[not_done_idx] += last_val_gamma * last_vals_np\n",
    "\n",
    "    ref_vals_v = torch.FloatTensor(rewards_np).to(device)\n",
    "    return states_v, actions_v, ref_vals_v"
   ]
  },
  {
   "cell_type": "code",
   "execution_count": 82,
   "metadata": {},
   "outputs": [
    {
     "name": "stdout",
     "output_type": "stream",
     "text": [
      "ModelA2C(\n",
      "  (mu): Sequential(\n",
      "    (0): Linear(in_features=2, out_features=16, bias=True)\n",
      "    (1): ReLU()\n",
      "    (2): Linear(in_features=16, out_features=1, bias=True)\n",
      "  )\n",
      "  (var): Sequential(\n",
      "    (0): Linear(in_features=2, out_features=16, bias=True)\n",
      "    (1): ReLU()\n",
      "    (2): Linear(in_features=16, out_features=1, bias=True)\n",
      "  )\n",
      "  (value): Sequential(\n",
      "    (0): Linear(in_features=2, out_features=16, bias=True)\n",
      "    (1): ReLU()\n",
      "    (2): Linear(in_features=16, out_features=1, bias=True)\n",
      "  )\n",
      ")\n"
     ]
    },
    {
     "name": "stderr",
     "output_type": "stream",
     "text": [
      "C:\\Users\\BVPHD\\.conda\\envs\\py_torch\\lib\\site-packages\\gym\\logger.py:30: UserWarning: \u001b[33mWARN: Box bound precision lowered by casting to float32\u001b[0m\n",
      "  warnings.warn(colorize('%s: %s'%('WARN', msg % args), 'yellow'))\n"
     ]
    }
   ],
   "source": [
    "device = torch.device(\"cuda\" if torch.cuda.is_available() else \"cpu\")\n",
    "\n",
    "env = UniformGravity(dt = 1.0, verbose=True, target_alt = 1.75, record_history = False)\n",
    "test_env = UniformGravity(dt = 1.0, verbose=True, target_alt = 1.75, record_rate = 1)\n",
    "\n",
    "net = ModelA2C(env.observation_space.shape[0], env.action_space.shape[0]).to(device)\n",
    "print(net)\n",
    "\n",
    "agent = AgentA2C(net, device=device)"
   ]
  },
  {
   "cell_type": "markdown",
   "metadata": {},
   "source": [
    "### Test Net Is Neutral (near zero means, near zero variances)"
   ]
  },
  {
   "cell_type": "code",
   "execution_count": 83,
   "metadata": {},
   "outputs": [
    {
     "data": {
      "text/plain": [
       "(tensor([[0.2802]], device='cuda:0', grad_fn=<AddmmBackward>),\n",
       " tensor([[0.2363]], device='cuda:0', grad_fn=<AbsBackward>),\n",
       " tensor([[0.2802]], device='cuda:0', grad_fn=<AddmmBackward>))"
      ]
     },
     "execution_count": 83,
     "metadata": {},
     "output_type": "execute_result"
    }
   ],
   "source": [
    "s = env.reset()\n",
    "s_v = torch.FloatTensor([s]).to(device)\n",
    "net(s_v)"
   ]
  },
  {
   "cell_type": "code",
   "execution_count": 84,
   "metadata": {},
   "outputs": [
    {
     "data": {
      "text/plain": [
       "(array([0.48252525]), None)"
      ]
     },
     "execution_count": 84,
     "metadata": {},
     "output_type": "execute_result"
    }
   ],
   "source": [
    "agent(s,None) # s needs to be numpy array"
   ]
  },
  {
   "cell_type": "markdown",
   "metadata": {},
   "source": [
    "### Pretrain so that we have good initial settings (the mentor)"
   ]
  },
  {
   "cell_type": "code",
   "execution_count": 115,
   "metadata": {},
   "outputs": [],
   "source": [
    "net = ModelA2C(env.observation_space.shape[0], env.action_space.shape[0]).to(device)\n",
    "optimizer = optim.Adam(net.parameters(), lr=0.01)\n",
    "\n",
    "go_thrust_v = torch.FloatTensor([[10.0]]).to(device)\n",
    "\n",
    "# this pumps the variance parameters so we start off with high exploration\n",
    "for _ in range(100):\n",
    "    optimizer.zero_grad()\n",
    "    \n",
    "    mu_v, var_v, value_v = net(s_v)\n",
    "    ent_v = -(torch.log(2*np.pi*var_v) + 1)/2\n",
    "    entropy_loss_v =  0.00001*ent_v.mean()\n",
    "    mu_loss_v = ((mu_v - go_thrust_v)**2).mean()\n",
    "    \n",
    "    loss_v = mu_loss_v + entropy_loss_v\n",
    "    \n",
    "    loss_v.backward()\n",
    "    optimizer.step()\n",
    "    \n",
    "agent = AgentA2C(net, device=device)"
   ]
  },
  {
   "cell_type": "code",
   "execution_count": 116,
   "metadata": {},
   "outputs": [
    {
     "data": {
      "text/plain": [
       "(tensor([[9.3695]], device='cuda:0', grad_fn=<AddmmBackward>),\n",
       " tensor([[4.0479]], device='cuda:0', grad_fn=<AbsBackward>),\n",
       " tensor([[9.3695]], device='cuda:0', grad_fn=<AddmmBackward>))"
      ]
     },
     "execution_count": 116,
     "metadata": {},
     "output_type": "execute_result"
    }
   ],
   "source": [
    "net(s_v) # mean near (max_thrust,0) large variances for exploration"
   ]
  },
  {
   "cell_type": "code",
   "execution_count": 117,
   "metadata": {},
   "outputs": [
    {
     "data": {
      "text/plain": [
       "(array([9.77622398]), None)"
      ]
     },
     "execution_count": 117,
     "metadata": {},
     "output_type": "execute_result"
    }
   ],
   "source": [
    "agent(s,None)"
   ]
  },
  {
   "cell_type": "code",
   "execution_count": 126,
   "metadata": {},
   "outputs": [
    {
     "name": "stdout",
     "output_type": "stream",
     "text": [
      "Test done is 0.01 sec, reward 1.029, steps 1\n",
      "Test done is 0.01 sec, reward 1.029, steps 1\n",
      "Test done is 0.01 sec, reward 1.029, steps 1\n",
      "Best reward updated: 1.02928558 -> 1.02929496\n",
      "Test done is 0.01 sec, reward 1.029, steps 1\n",
      "Test done is 0.01 sec, reward 1.029, steps 1\n",
      "Test done is 0.01 sec, reward 1.029, steps 1\n",
      "Test done is 0.01 sec, reward 1.029, steps 1\n",
      "Test done is 0.01 sec, reward 1.029, steps 1\n",
      "Best reward updated: 1.02929496 -> 1.02929613\n",
      "Test done is 0.01 sec, reward 1.029, steps 1\n",
      "Test done is 0.01 sec, reward 1.029, steps 1\n",
      "Test done is 0.01 sec, reward 1.029, steps 1\n",
      "Test done is 0.01 sec, reward 1.029, steps 1\n",
      "Test done is 0.01 sec, reward 1.029, steps 1\n",
      "Best reward updated: 1.02929613 -> 1.02933389\n",
      "Test done is 0.01 sec, reward 1.029, steps 1\n",
      "Test done is 0.01 sec, reward 1.029, steps 1\n",
      "Test done is 0.01 sec, reward 1.029, steps 1\n",
      "Test done is 0.01 sec, reward 1.029, steps 1\n",
      "Test done is 0.01 sec, reward 1.029, steps 1\n",
      "Test done is 0.01 sec, reward 1.028, steps 1\n",
      "Test done is 0.01 sec, reward 1.028, steps 1\n",
      "Test done is 0.01 sec, reward 1.028, steps 1\n",
      "Test done is 0.01 sec, reward 1.028, steps 1\n",
      "Test done is 0.01 sec, reward 1.028, steps 1\n",
      "Test done is 0.01 sec, reward 1.028, steps 1\n",
      "Test done is 0.01 sec, reward 1.028, steps 1\n",
      "Test done is 0.01 sec, reward 1.028, steps 1\n",
      "Test done is 0.01 sec, reward 1.028, steps 1\n"
     ]
    },
    {
     "ename": "KeyboardInterrupt",
     "evalue": "",
     "output_type": "error",
     "traceback": [
      "\u001b[1;31m---------------------------------------------------------------------------\u001b[0m",
      "\u001b[1;31mKeyboardInterrupt\u001b[0m                         Traceback (most recent call last)",
      "\u001b[1;32m<ipython-input-126-08825ad9aab6>\u001b[0m in \u001b[0;36m<module>\u001b[1;34m\u001b[0m\n\u001b[0;32m     17\u001b[0m \u001b[1;31m#reward_100 = collections.deque(maxlen=100)\u001b[0m\u001b[1;33m\u001b[0m\u001b[1;33m\u001b[0m\u001b[1;33m\u001b[0m\u001b[0m\n\u001b[0;32m     18\u001b[0m \u001b[1;33m\u001b[0m\u001b[0m\n\u001b[1;32m---> 19\u001b[1;33m \u001b[1;32mfor\u001b[0m \u001b[0mstep_idx\u001b[0m\u001b[1;33m,\u001b[0m \u001b[0mexp\u001b[0m \u001b[1;32min\u001b[0m \u001b[0menumerate\u001b[0m\u001b[1;33m(\u001b[0m\u001b[0mexp_source\u001b[0m\u001b[1;33m)\u001b[0m\u001b[1;33m:\u001b[0m\u001b[1;33m\u001b[0m\u001b[1;33m\u001b[0m\u001b[0m\n\u001b[0m\u001b[0;32m     20\u001b[0m     '''\n\u001b[0;32m     21\u001b[0m     \u001b[0mrewards_steps\u001b[0m \u001b[1;33m=\u001b[0m \u001b[0mexp_source\u001b[0m\u001b[1;33m.\u001b[0m\u001b[0mpop_rewards_steps\u001b[0m\u001b[1;33m(\u001b[0m\u001b[1;33m)\u001b[0m\u001b[1;33m\u001b[0m\u001b[1;33m\u001b[0m\u001b[0m\n",
      "\u001b[1;32m~\\.conda\\envs\\py_torch\\lib\\site-packages\\ptan-0.6-py3.7.egg\\ptan\\experience.py\u001b[0m in \u001b[0;36m__iter__\u001b[1;34m(self)\u001b[0m\n\u001b[0;32m    174\u001b[0m \u001b[1;33m\u001b[0m\u001b[0m\n\u001b[0;32m    175\u001b[0m     \u001b[1;32mdef\u001b[0m \u001b[0m__iter__\u001b[0m\u001b[1;33m(\u001b[0m\u001b[0mself\u001b[0m\u001b[1;33m)\u001b[0m\u001b[1;33m:\u001b[0m\u001b[1;33m\u001b[0m\u001b[1;33m\u001b[0m\u001b[0m\n\u001b[1;32m--> 176\u001b[1;33m         \u001b[1;32mfor\u001b[0m \u001b[0mexp\u001b[0m \u001b[1;32min\u001b[0m \u001b[0msuper\u001b[0m\u001b[1;33m(\u001b[0m\u001b[0mExperienceSourceFirstLast\u001b[0m\u001b[1;33m,\u001b[0m \u001b[0mself\u001b[0m\u001b[1;33m)\u001b[0m\u001b[1;33m.\u001b[0m\u001b[0m__iter__\u001b[0m\u001b[1;33m(\u001b[0m\u001b[1;33m)\u001b[0m\u001b[1;33m:\u001b[0m\u001b[1;33m\u001b[0m\u001b[1;33m\u001b[0m\u001b[0m\n\u001b[0m\u001b[0;32m    177\u001b[0m             \u001b[1;32mif\u001b[0m \u001b[0mexp\u001b[0m\u001b[1;33m[\u001b[0m\u001b[1;33m-\u001b[0m\u001b[1;36m1\u001b[0m\u001b[1;33m]\u001b[0m\u001b[1;33m.\u001b[0m\u001b[0mdone\u001b[0m \u001b[1;32mand\u001b[0m \u001b[0mlen\u001b[0m\u001b[1;33m(\u001b[0m\u001b[0mexp\u001b[0m\u001b[1;33m)\u001b[0m \u001b[1;33m<=\u001b[0m \u001b[0mself\u001b[0m\u001b[1;33m.\u001b[0m\u001b[0msteps\u001b[0m\u001b[1;33m:\u001b[0m\u001b[1;33m\u001b[0m\u001b[1;33m\u001b[0m\u001b[0m\n\u001b[0;32m    178\u001b[0m                 \u001b[0mlast_state\u001b[0m \u001b[1;33m=\u001b[0m \u001b[1;32mNone\u001b[0m\u001b[1;33m\u001b[0m\u001b[1;33m\u001b[0m\u001b[0m\n",
      "\u001b[1;32m~\\.conda\\envs\\py_torch\\lib\\site-packages\\ptan-0.6-py3.7.egg\\ptan\\experience.py\u001b[0m in \u001b[0;36m__iter__\u001b[1;34m(self)\u001b[0m\n\u001b[0;32m     80\u001b[0m                     \u001b[0mstates_indices\u001b[0m\u001b[1;33m.\u001b[0m\u001b[0mappend\u001b[0m\u001b[1;33m(\u001b[0m\u001b[0midx\u001b[0m\u001b[1;33m)\u001b[0m\u001b[1;33m\u001b[0m\u001b[1;33m\u001b[0m\u001b[0m\n\u001b[0;32m     81\u001b[0m             \u001b[1;32mif\u001b[0m \u001b[0mstates_input\u001b[0m\u001b[1;33m:\u001b[0m\u001b[1;33m\u001b[0m\u001b[1;33m\u001b[0m\u001b[0m\n\u001b[1;32m---> 82\u001b[1;33m                 \u001b[0mstates_actions\u001b[0m\u001b[1;33m,\u001b[0m \u001b[0mnew_agent_states\u001b[0m \u001b[1;33m=\u001b[0m \u001b[0mself\u001b[0m\u001b[1;33m.\u001b[0m\u001b[0magent\u001b[0m\u001b[1;33m(\u001b[0m\u001b[0mstates_input\u001b[0m\u001b[1;33m,\u001b[0m \u001b[0magent_states\u001b[0m\u001b[1;33m)\u001b[0m\u001b[1;33m\u001b[0m\u001b[1;33m\u001b[0m\u001b[0m\n\u001b[0m\u001b[0;32m     83\u001b[0m                 \u001b[1;32mfor\u001b[0m \u001b[0midx\u001b[0m\u001b[1;33m,\u001b[0m \u001b[0maction\u001b[0m \u001b[1;32min\u001b[0m \u001b[0menumerate\u001b[0m\u001b[1;33m(\u001b[0m\u001b[0mstates_actions\u001b[0m\u001b[1;33m)\u001b[0m\u001b[1;33m:\u001b[0m\u001b[1;33m\u001b[0m\u001b[1;33m\u001b[0m\u001b[0m\n\u001b[0;32m     84\u001b[0m                     \u001b[0mg_idx\u001b[0m \u001b[1;33m=\u001b[0m \u001b[0mstates_indices\u001b[0m\u001b[1;33m[\u001b[0m\u001b[0midx\u001b[0m\u001b[1;33m]\u001b[0m\u001b[1;33m\u001b[0m\u001b[1;33m\u001b[0m\u001b[0m\n",
      "\u001b[1;32m<ipython-input-80-a6dfb3cc98a7>\u001b[0m in \u001b[0;36m__call__\u001b[1;34m(self, states, agent_states)\u001b[0m\n\u001b[0;32m      9\u001b[0m \u001b[1;33m\u001b[0m\u001b[0m\n\u001b[0;32m     10\u001b[0m         \u001b[0mmu_v\u001b[0m\u001b[1;33m,\u001b[0m \u001b[0mvar_v\u001b[0m\u001b[1;33m,\u001b[0m \u001b[0m_\u001b[0m \u001b[1;33m=\u001b[0m \u001b[0mself\u001b[0m\u001b[1;33m.\u001b[0m\u001b[0mnet\u001b[0m\u001b[1;33m(\u001b[0m\u001b[0mstates_v\u001b[0m\u001b[1;33m)\u001b[0m\u001b[1;33m\u001b[0m\u001b[1;33m\u001b[0m\u001b[0m\n\u001b[1;32m---> 11\u001b[1;33m         \u001b[0mmu\u001b[0m \u001b[1;33m=\u001b[0m \u001b[0mmu_v\u001b[0m\u001b[1;33m.\u001b[0m\u001b[0mdata\u001b[0m\u001b[1;33m.\u001b[0m\u001b[0mcpu\u001b[0m\u001b[1;33m(\u001b[0m\u001b[1;33m)\u001b[0m\u001b[1;33m.\u001b[0m\u001b[0mnumpy\u001b[0m\u001b[1;33m(\u001b[0m\u001b[1;33m)\u001b[0m\u001b[1;33m\u001b[0m\u001b[1;33m\u001b[0m\u001b[0m\n\u001b[0m\u001b[0;32m     12\u001b[0m         \u001b[0msigma\u001b[0m \u001b[1;33m=\u001b[0m \u001b[0mtorch\u001b[0m\u001b[1;33m.\u001b[0m\u001b[0msqrt\u001b[0m\u001b[1;33m(\u001b[0m\u001b[0mvar_v\u001b[0m\u001b[1;33m)\u001b[0m\u001b[1;33m.\u001b[0m\u001b[0mdata\u001b[0m\u001b[1;33m.\u001b[0m\u001b[0mcpu\u001b[0m\u001b[1;33m(\u001b[0m\u001b[1;33m)\u001b[0m\u001b[1;33m.\u001b[0m\u001b[0mnumpy\u001b[0m\u001b[1;33m(\u001b[0m\u001b[1;33m)\u001b[0m\u001b[1;33m\u001b[0m\u001b[1;33m\u001b[0m\u001b[0m\n\u001b[0;32m     13\u001b[0m         \u001b[0mactions\u001b[0m \u001b[1;33m=\u001b[0m \u001b[0mnp\u001b[0m\u001b[1;33m.\u001b[0m\u001b[0mrandom\u001b[0m\u001b[1;33m.\u001b[0m\u001b[0mnormal\u001b[0m\u001b[1;33m(\u001b[0m\u001b[0mmu\u001b[0m\u001b[1;33m,\u001b[0m \u001b[0msigma\u001b[0m\u001b[1;33m)\u001b[0m\u001b[1;33m\u001b[0m\u001b[1;33m\u001b[0m\u001b[0m\n",
      "\u001b[1;31mKeyboardInterrupt\u001b[0m: "
     ]
    }
   ],
   "source": [
    "GAMMA = 0.999\n",
    "REWARD_STEPS = 2\n",
    "BATCH_SIZE = 32\n",
    "LEARNING_RATE = 0.01\n",
    "ENTROPY_BETA = 0.0\n",
    "\n",
    "TEST_ITERS = 5000\n",
    "\n",
    "exp_source = ptan.experience.ExperienceSourceFirstLast(env, agent, GAMMA, \n",
    "                                                       steps_count=REWARD_STEPS)\n",
    "\n",
    "optimizer = optim.Adam(net.parameters(), lr=LEARNING_RATE)\n",
    "\n",
    "batch = []\n",
    "best_reward = None\n",
    "\n",
    "#reward_100 = collections.deque(maxlen=100)\n",
    "    \n",
    "for step_idx, exp in enumerate(exp_source):\n",
    "    '''\n",
    "    rewards_steps = exp_source.pop_rewards_steps()\n",
    "    if rewards_steps:\n",
    "        rewards, steps = zip(*rewards_steps)\n",
    "        #reward_100.append(rewards[0])\n",
    "    '''\n",
    "\n",
    "    if step_idx % TEST_ITERS == 0:\n",
    "        ts = time.time()\n",
    "        rewards, steps = test_net(net, test_env, device=device)\n",
    "        print(\"Test done is %.2f sec, reward %.3f, steps %d\" %\\\n",
    "              (time.time() - ts, rewards, steps))\n",
    "        #writer.add_scalar(\"test_reward\", rewards, step_idx)\n",
    "        #writer.add_scalar(\"test_steps\", steps, step_idx)\n",
    "        if (best_reward is None) or (best_reward < rewards):\n",
    "            if best_reward is not None:\n",
    "                print(\"Best reward updated: %.8f -> %.8f\" % (best_reward, rewards))\n",
    "            best_reward = rewards\n",
    "\n",
    "    batch.append(exp)\n",
    "    if len(batch) < BATCH_SIZE:\n",
    "        continue\n",
    "\n",
    "    states_v, actions_v, vals_ref_v = unpack_batch_a2c(batch, net, device=device,\n",
    "                                                       last_val_gamma=GAMMA**REWARD_STEPS)\n",
    "    batch.clear()\n",
    "\n",
    "    optimizer.zero_grad()\n",
    "    \n",
    "    mu_v, var_v, value_v = net(states_v)\n",
    "    loss_value_v = F.mse_loss(value_v.squeeze(-1), vals_ref_v)\n",
    "\n",
    "    adv_v = vals_ref_v.unsqueeze(dim=-1) - value_v.detach()\n",
    "    log_prob_v = adv_v * calc_logprob(mu_v, var_v, actions_v)\n",
    "    loss_policy_v = -log_prob_v.mean()\n",
    "    ent_v = -(torch.log(2*np.pi*var_v) + 1)/2\n",
    "    entropy_loss_v = ENTROPY_BETA * ent_v.mean()\n",
    "\n",
    "    loss_v = loss_policy_v + entropy_loss_v + loss_value_v\n",
    "    loss_v.backward()\n",
    "    optimizer.step()"
   ]
  },
  {
   "cell_type": "code",
   "execution_count": 127,
   "metadata": {},
   "outputs": [
    {
     "data": {
      "text/plain": [
       "tensor([[ 1.0000,  0.0000],\n",
       "        [ 1.0000,  0.0000],\n",
       "        [ 1.0000,  0.0000],\n",
       "        [ 3.4500,  4.9000],\n",
       "        [ 3.4609, -4.0615],\n",
       "        [ 1.8494,  0.1616],\n",
       "        [ 1.0000,  0.0000],\n",
       "        [ 1.0000,  0.0000],\n",
       "        [ 1.0000,  0.0000],\n",
       "        [ 3.4500,  4.9000],\n",
       "        [ 4.6877, -1.6079],\n",
       "        [ 1.0000,  0.0000],\n",
       "        [ 1.0000,  0.0000],\n",
       "        [ 1.0000,  0.0000],\n",
       "        [ 2.4468,  2.8936],\n",
       "        [ 1.0000,  0.0000],\n",
       "        [ 1.0000,  0.0000],\n",
       "        [ 3.4500,  4.9000],\n",
       "        [ 4.8614, -1.2606],\n",
       "        [ 3.3184, -2.0354],\n",
       "        [ 1.0000,  0.0000],\n",
       "        [ 1.0000,  0.0000],\n",
       "        [ 1.0000,  0.0000],\n",
       "        [ 1.0000,  0.0000],\n",
       "        [ 3.4500,  4.9000],\n",
       "        [ 1.0000,  0.0000],\n",
       "        [ 3.4500,  4.9000],\n",
       "        [ 4.4045, -2.1744],\n",
       "        [ 1.0000,  0.0000],\n",
       "        [ 3.4500,  4.9000],\n",
       "        [ 2.9802, -5.0230],\n",
       "        [ 1.0000,  0.0000]], device='cuda:0')"
      ]
     },
     "execution_count": 127,
     "metadata": {},
     "output_type": "execute_result"
    }
   ],
   "source": [
    "states_v"
   ]
  },
  {
   "cell_type": "code",
   "execution_count": 128,
   "metadata": {},
   "outputs": [
    {
     "data": {
      "text/plain": [
       "tensor([[-2.1120e+01],\n",
       "        [-1.4923e+01],\n",
       "        [ 1.6742e+01],\n",
       "        [ 2.1845e-02],\n",
       "        [ 4.2477e+01],\n",
       "        [-9.0593e+00],\n",
       "        [ 7.0059e+00],\n",
       "        [ 8.8742e+00],\n",
       "        [ 1.7579e+01],\n",
       "        [ 2.4755e+00],\n",
       "        [ 3.9308e+01],\n",
       "        [-2.1447e+01],\n",
       "        [-4.3363e+00],\n",
       "        [ 1.2694e+01],\n",
       "        [ 7.2891e-01],\n",
       "        [-8.4034e+00],\n",
       "        [ 1.4867e+01],\n",
       "        [ 2.8227e+00],\n",
       "        [ 9.2354e+00],\n",
       "        [-2.2354e+00],\n",
       "        [ 1.6484e+00],\n",
       "        [-5.8090e-01],\n",
       "        [ 3.1807e+00],\n",
       "        [ 1.4880e+01],\n",
       "        [ 7.7962e+00],\n",
       "        [ 2.1539e+01],\n",
       "        [ 1.9090e+00],\n",
       "        [ 2.0480e+00],\n",
       "        [ 1.5098e+01],\n",
       "        [-9.3967e-01],\n",
       "        [ 8.4703e+00],\n",
       "        [-6.3376e+00]], device='cuda:0')"
      ]
     },
     "execution_count": 128,
     "metadata": {},
     "output_type": "execute_result"
    }
   ],
   "source": [
    "actions_v"
   ]
  },
  {
   "cell_type": "code",
   "execution_count": 129,
   "metadata": {},
   "outputs": [
    {
     "data": {
      "text/plain": [
       "tensor([1.0753, 1.0753, 3.3697, 3.5127, 2.0515, 1.0530, 1.0118, 1.0063, 3.4279,\n",
       "        2.0362, 1.0206, 1.0753, 1.0450, 2.0075, 1.0054, 1.0569, 3.4361, 3.4393,\n",
       "        2.0445, 1.0372, 1.0275, 1.0340, 1.0230, 2.0391, 1.0315, 3.4144, 2.0333,\n",
       "        1.0193, 3.2639, 2.0310, 1.0249, 1.0508], device='cuda:0')"
      ]
     },
     "execution_count": 129,
     "metadata": {},
     "output_type": "execute_result"
    }
   ],
   "source": [
    "vals_ref_v"
   ]
  },
  {
   "cell_type": "code",
   "execution_count": 130,
   "metadata": {},
   "outputs": [
    {
     "data": {
      "text/plain": [
       "(tensor([[1.5413]], device='cuda:0', grad_fn=<AddmmBackward>),\n",
       " tensor([[170.5512]], device='cuda:0', grad_fn=<AbsBackward>),\n",
       " tensor([[1.5413]], device='cuda:0', grad_fn=<AddmmBackward>))"
      ]
     },
     "execution_count": 130,
     "metadata": {},
     "output_type": "execute_result"
    }
   ],
   "source": [
    "s = env.reset()\n",
    "s_v = torch.FloatTensor([s]).to(device)\n",
    "net(s_v)"
   ]
  },
  {
   "cell_type": "code",
   "execution_count": 112,
   "metadata": {},
   "outputs": [
    {
     "data": {
      "text/plain": [
       "(1.0288869580103426, 1.0)"
      ]
     },
     "execution_count": 112,
     "metadata": {},
     "output_type": "execute_result"
    }
   ],
   "source": [
    "test_net(net, test_env, count=1, device=device)\n",
    "#test_net(up_net, test_env, count=1)"
   ]
  },
  {
   "cell_type": "code",
   "execution_count": 114,
   "metadata": {},
   "outputs": [
    {
     "data": {
      "text/plain": [
       "[<matplotlib.lines.Line2D at 0x265a5cb8e48>]"
      ]
     },
     "execution_count": 114,
     "metadata": {},
     "output_type": "execute_result"
    },
    {
     "data": {
      "image/png": "[encoded data removed]",
      "text/plain": [
       "<Figure size 432x288 with 1 Axes>"
      ]
     },
     "metadata": {},
     "output_type": "display_data"
    }
   ],
   "source": [
    "plt.plot(test_env.trajectory[:,0])\n",
    "plt.show()\n",
    "\n"
   ]
  },
  {
   "cell_type": "markdown",
   "metadata": {},
   "source": [
    "## Vanilla Policy Gradient Method"
   ]
  },
  {
   "cell_type": "code",
   "execution_count": 177,
   "metadata": {},
   "outputs": [
    {
     "name": "stdout",
     "output_type": "stream",
     "text": [
      "using device:  cpu\n"
     ]
    },
    {
     "data": {
      "text/plain": [
       "PGN(\n",
       "  (actions_mu): Sequential(\n",
       "    (0): Linear(in_features=4, out_features=128, bias=True)\n",
       "    (1): ReLU()\n",
       "    (2): Linear(in_features=128, out_features=2, bias=True)\n",
       "  )\n",
       "  (actions_var): Sequential(\n",
       "    (0): Linear(in_features=4, out_features=128, bias=True)\n",
       "    (1): ReLU()\n",
       "    (2): Linear(in_features=128, out_features=2, bias=True)\n",
       "  )\n",
       "  (values): Sequential(\n",
       "    (0): Linear(in_features=4, out_features=128, bias=True)\n",
       "    (1): ReLU()\n",
       "    (2): Linear(in_features=128, out_features=1, bias=True)\n",
       "  )\n",
       ")"
      ]
     },
     "execution_count": 177,
     "metadata": {},
     "output_type": "execute_result"
    }
   ],
   "source": [
    "device = torch.device(\"cuda\" if torch.cuda.is_available() else \"cpu\")\n",
    "print('using device: ',device)\n",
    "\n",
    "HIDDEN_SIZE = 128\n",
    "\n",
    "class PGN(nn.Module):\n",
    "    def __init__(self, in_size):\n",
    "        super(PGN,self).__init__()\n",
    "        \n",
    "        self.actions_mu = nn.Sequential(\n",
    "            nn.Linear(in_size, HIDDEN_SIZE),\n",
    "            nn.ReLU(),\n",
    "            nn.Linear(HIDDEN_SIZE, 2)\n",
    "        )\n",
    "    \n",
    "        self.actions_var = nn.Sequential(\n",
    "            nn.Linear(in_size, HIDDEN_SIZE),\n",
    "            nn.ReLU(),\n",
    "            nn.Linear(HIDDEN_SIZE, 2)\n",
    "        )\n",
    "        \n",
    "        self.values =  nn.Sequential(\n",
    "            nn.Linear(in_size, HIDDEN_SIZE),\n",
    "            nn.ReLU(),\n",
    "            nn.Linear(HIDDEN_SIZE, 1)\n",
    "        )\n",
    "    \n",
    "    def __call__(self, x):\n",
    "        return self.actions_mu(x), self.actions_var(x), self.values(x)\n",
    "    \n",
    "policy_net = PGN(4).to(device)\n",
    "\n",
    "policy_net"
   ]
  },
  {
   "cell_type": "code",
   "execution_count": 149,
   "metadata": {},
   "outputs": [],
   "source": [
    "ridx = np.random.choice(range(len(traj_s)),size = 1000)\n",
    "states_v = torch.FloatTensor(np.array(traj_s)[ridx])\n",
    "actions_v = torch.LongTensor(np.array(traj_a)[ridx])\n",
    "#actions_v = torch.eye(4)[traj_a]"
   ]
  },
  {
   "cell_type": "code",
   "execution_count": 178,
   "metadata": {},
   "outputs": [],
   "source": [
    "optimizer = optim.Adam(policy_net.parameters(), lr=0.001)"
   ]
  },
  {
   "cell_type": "code",
   "execution_count": 152,
   "metadata": {},
   "outputs": [
    {
     "name": "stdout",
     "output_type": "stream",
     "text": [
      "0.611042857170105\n",
      "0.07870986312627792\n",
      "0.04247419536113739\n",
      "0.029623961076140404\n",
      "0.0246701892465353\n",
      "0.022615090012550354\n",
      "0.021483683958649635\n",
      "0.020682865753769875\n",
      "0.01997537910938263\n",
      "0.019331539049744606\n",
      "0.01875515654683113\n",
      "0.018252111971378326\n",
      "0.017818685621023178\n",
      "0.01744617521762848\n",
      "0.01712161675095558\n",
      "0.016824597492814064\n",
      "0.01656264252960682\n",
      "0.01633056439459324\n",
      "0.016125833615660667\n",
      "0.015943657606840134\n",
      "0.015776731073856354\n",
      "0.015621383674442768\n",
      "0.015472836792469025\n",
      "0.015327652916312218\n",
      "0.01518517266958952\n",
      "0.015045098960399628\n",
      "0.01490660198032856\n",
      "0.01477011013776064\n",
      "0.014637439511716366\n",
      "0.014506872743368149\n",
      "0.014379916712641716\n",
      "0.014262971468269825\n",
      "0.014149095863103867\n",
      "0.014043898321688175\n",
      "0.013938740827143192\n",
      "0.01384030096232891\n",
      "0.013742691837251186\n",
      "0.013647002167999744\n",
      "0.013478003442287445\n",
      "0.013384887017309666\n",
      "0.013283448293805122\n",
      "0.013193108141422272\n",
      "0.013111486099660397\n",
      "0.01303156465291977\n",
      "0.012958995997905731\n",
      "0.012887602671980858\n",
      "0.012806102633476257\n",
      "0.012738815508782864\n",
      "0.012670562602579594\n",
      "0.01261019054800272\n"
     ]
    }
   ],
   "source": [
    "for e in range(5000):\n",
    "    optimizer.zero_grad()\n",
    "    mu_v, var_v, _ = policy_net(states_v)\n",
    "    \n",
    "    loss_v = ((mu_v - actions_v)**2).mean()\n",
    "    loss_v.backward()\n",
    "    optimizer.step()\n",
    "    \n",
    "    if e % 100 == 0:\n",
    "        print(loss_v.item())"
   ]
  },
  {
   "cell_type": "code",
   "execution_count": 162,
   "metadata": {},
   "outputs": [],
   "source": [
    "state = env.reset()\n",
    "episode_R = 0.0\n",
    "\n",
    "while True:\n",
    "    state_v = torch.FloatTensor([state])\n",
    "    mu_v, var_v, _ = policy_net(state_v)\n",
    "    mu = mu_v.data.cpu().numpy()[0]\n",
    "    \n",
    "    state, reward, is_done, _ = env.step(mu)\n",
    "    episode_R += reward\n",
    "    if is_done:\n",
    "        break"
   ]
  },
  {
   "cell_type": "code",
   "execution_count": 163,
   "metadata": {},
   "outputs": [
    {
     "data": {
      "text/plain": [
       "-631.6050344747143"
      ]
     },
     "execution_count": 163,
     "metadata": {},
     "output_type": "execute_result"
    }
   ],
   "source": [
    "episode_R"
   ]
  },
  {
   "cell_type": "code",
   "execution_count": 164,
   "metadata": {},
   "outputs": [
    {
     "data": {
      "image/png": "[encoded data removed]",
      "text/plain": [
       "<Figure size 500x500 with 1 Axes>"
      ]
     },
     "metadata": {},
     "output_type": "display_data"
    },
    {
     "data": {
      "image/png": "[encoded data removed]",
      "text/plain": [
       "<Figure size 500x500 with 3 Axes>"
      ]
     },
     "metadata": {},
     "output_type": "display_data"
    }
   ],
   "source": [
    "sns.set_style('whitegrid')\n",
    "env.render()"
   ]
  },
  {
   "cell_type": "code",
   "execution_count": 171,
   "metadata": {},
   "outputs": [],
   "source": [
    "def calc_logprob(mu_v, var_v, actions_v):\n",
    "    p1 = - ((mu_v - actions_v) ** 2) / (2*var_v.clamp(min=1e-3))\n",
    "    p2 = - torch.log(torch.sqrt(2 * np.pi * var_v))\n",
    "    return p1 + p2"
   ]
  },
  {
   "cell_type": "code",
   "execution_count": 181,
   "metadata": {},
   "outputs": [
    {
     "name": "stdout",
     "output_type": "stream",
     "text": [
      "tensor([[-0.2690,  0.1209],\n",
      "        [-0.2690,  0.1209],\n",
      "        [-0.2690,  0.1209],\n",
      "        [-0.2690,  0.1209],\n",
      "        [-0.2690,  0.1209],\n",
      "        [-0.2690,  0.1209],\n",
      "        [-0.2690,  0.1209],\n",
      "        [-0.2690,  0.1209],\n",
      "        [-0.2690,  0.1209],\n",
      "        [-0.2690,  0.1209]], grad_fn=<AddBackward0>)\n"
     ]
    },
    {
     "ename": "RuntimeError",
     "evalue": "The size of tensor a (10) must match the size of tensor b (2) at non-singleton dimension 1",
     "output_type": "error",
     "traceback": [
      "\u001b[0;31m---------------------------------------------------------------------------\u001b[0m",
      "\u001b[0;31mRuntimeError\u001b[0m                              Traceback (most recent call last)",
      "\u001b[0;32m<ipython-input-181-a737a5f934d4>\u001b[0m in \u001b[0;36m<module>\u001b[0;34m\u001b[0m\n\u001b[1;32m    106\u001b[0m         \u001b[0mprint\u001b[0m\u001b[0;34m(\u001b[0m\u001b[0mlog_prob_v\u001b[0m\u001b[0;34m)\u001b[0m\u001b[0;34m\u001b[0m\u001b[0;34m\u001b[0m\u001b[0m\n\u001b[1;32m    107\u001b[0m         \u001b[0;31m# Policy Loss\u001b[0m\u001b[0;34m\u001b[0m\u001b[0;34m\u001b[0m\u001b[0;34m\u001b[0m\u001b[0m\n\u001b[0;32m--> 108\u001b[0;31m         \u001b[0mloss_v\u001b[0m \u001b[0;34m=\u001b[0m \u001b[0;34m(\u001b[0m\u001b[0msample_Rs_v\u001b[0m\u001b[0;34m-\u001b[0m\u001b[0mvalues_v\u001b[0m\u001b[0;34m.\u001b[0m\u001b[0mdetach\u001b[0m\u001b[0;34m(\u001b[0m\u001b[0;34m)\u001b[0m\u001b[0;34m)\u001b[0m\u001b[0;34m*\u001b[0m\u001b[0mlog_prob_v\u001b[0m\u001b[0;34m\u001b[0m\u001b[0;34m\u001b[0m\u001b[0m\n\u001b[0m\u001b[1;32m    109\u001b[0m \u001b[0;34m\u001b[0m\u001b[0m\n\u001b[1;32m    110\u001b[0m         \u001b[0;31m# total loss, minimize this\u001b[0m\u001b[0;34m\u001b[0m\u001b[0;34m\u001b[0m\u001b[0;34m\u001b[0m\u001b[0m\n",
      "\u001b[0;31mRuntimeError\u001b[0m: The size of tensor a (10) must match the size of tensor b (2) at non-singleton dimension 1"
     ]
    }
   ],
   "source": []
  },
  {
   "cell_type": "code",
   "execution_count": 174,
   "metadata": {},
   "outputs": [
    {
     "name": "stdout",
     "output_type": "stream",
     "text": [
      "-1572.8280186113989 4055.6625553967274\n"
     ]
    },
    {
     "data": {
      "image/png": "[encoded data removed]",
      "text/plain": [
       "<Figure size 432x288 with 1 Axes>"
      ]
     },
     "metadata": {},
     "output_type": "display_data"
    }
   ],
   "source": [
    "print(np.mean(total_rewards), np.std(total_rewards))\n",
    "sns.distplot(total_rewards,kde=False);"
   ]
  },
  {
   "cell_type": "code",
   "execution_count": 176,
   "metadata": {},
   "outputs": [
    {
     "name": "stdout",
     "output_type": "stream",
     "text": [
      "Episode Reward:  -1105.2090478697733\n"
     ]
    },
    {
     "data": {
      "image/png": "[encoded data removed]",
      "text/plain": [
       "<Figure size 500x500 with 1 Axes>"
      ]
     },
     "metadata": {},
     "output_type": "display_data"
    },
    {
     "data": {
      "image/png": "[encoded data removed]",
      "text/plain": [
       "<Figure size 500x500 with 3 Axes>"
      ]
     },
     "metadata": {},
     "output_type": "display_data"
    }
   ],
   "source": [
    "s = env.reset()\n",
    "\n",
    "episode_reward = 0.0\n",
    "\n",
    "program_cmd_history = []\n",
    "\n",
    "done = False\n",
    "while not done:\n",
    "    s_v = torch.FloatTensor(s).unsqueeze(0).to(device)\n",
    "    mu_v, var_v, _ = policy_net(s_v)\n",
    "    mu = mu_v.data.cpu().numpy()\n",
    "    var = var_v.data.cpu().numpy()\n",
    "    a = [np.random.normal(loc=mu[0,0],scale=np.abs(var[0,0])),\n",
    "         np.random.normal(loc=mu[0,1],scale=np.abs(var[0,1]))]\n",
    "\n",
    "    program_cmd_history.append(a)    \n",
    "    s, r, done,_ = env.step(a)\n",
    "    episode_reward +=r\n",
    "\n",
    "print('Episode Reward: ', episode_reward)\n",
    "sns.set_style('darkgrid')\n",
    "env.render()"
   ]
  },
  {
   "cell_type": "code",
   "execution_count": 95,
   "metadata": {},
   "outputs": [
    {
     "data": {
      "image/png": "[encoded data removed]",
      "text/plain": [
       "<Figure size 1000x300 with 1 Axes>"
      ]
     },
     "metadata": {},
     "output_type": "display_data"
    }
   ],
   "source": [
    "plt.figure(figsize=(10,3), dpi=100)\n",
    "plt.plot(program_cmd_history);"
   ]
  },
  {
   "cell_type": "code",
   "execution_count": null,
   "metadata": {},
   "outputs": [],
   "source": []
  }
 ],
 "metadata": {
  "kernelspec": {
   "display_name": "Python 3",
   "language": "python",
   "name": "python3"
  },
  "language_info": {
   "codemirror_mode": {
    "name": "ipython",
    "version": 3
   },
   "file_extension": ".py",
   "mimetype": "text/x-python",
   "name": "python",
   "nbconvert_exporter": "python",
   "pygments_lexer": "ipython3",
   "version": "3.7.6"
  }
 },
 "nbformat": 4,
 "nbformat_minor": 2
}
