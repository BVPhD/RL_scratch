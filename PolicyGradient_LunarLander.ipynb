{
 "cells": [
  {
   "cell_type": "markdown",
   "metadata": {},
   "source": [
    "# Policy Gradient Lunar Lander (Discrete Actions)"
   ]
  },
  {
   "cell_type": "code",
   "execution_count": 3,
   "metadata": {},
   "outputs": [],
   "source": [
    "import gym\n",
    "import numpy as np\n",
    "import collections\n",
    "\n",
    "import torch\n",
    "import torch.nn as nn\n",
    "import torch.optim as optim\n",
    "import torch.nn.functional as F\n",
    "import torch.nn.utils as nn_utils\n",
    "\n",
    "import warnings\n",
    "warnings.filterwarnings('ignore')"
   ]
  },
  {
   "cell_type": "code",
   "execution_count": 2,
   "metadata": {},
   "outputs": [],
   "source": [
    "GAMMA = 0.99\n",
    "LEARNING_RATE = 0.01\n",
    "BATCH_SIZE = 10\n",
    "ENTROPY_BETA = 0.01\n",
    "CLIP_GRAD = 1.0\n",
    "\n",
    "class Policy(nn.Module):\n",
    "    def __init__(self, input_shape, action_shape):\n",
    "        super(Policy,self).__init__()\n",
    "        \n",
    "        self.logits = nn.Sequential(\n",
    "            nn.Linear(input_shape, 128),\n",
    "            nn.ReLU(),\n",
    "            nn.Linear(128,action_shape)\n",
    "        )\n",
    "    \n",
    "    def forward(self,x):\n",
    "        return self.logits(x)\n",
    "\n",
    "class Policy_A2C(nn.Module):\n",
    "    def __init__(self, input_shape, action_shape):\n",
    "        super(Policy_A2C,self).__init__()\n",
    "        \n",
    "        self.value = nn.Sequential(\n",
    "            nn.Linear(input_shape, 128),\n",
    "            nn.ReLU(),\n",
    "            nn.Linear(128,1)\n",
    "        )\n",
    "        \n",
    "        self.logits = nn.Sequential(\n",
    "            nn.Linear(input_shape, 128),\n",
    "            nn.ReLU(),\n",
    "            nn.Linear(128,action_shape)\n",
    "        )\n",
    "    \n",
    "    def forward(self,x):\n",
    "        return self.logits(x), self.value(x)"
   ]
  },
  {
   "cell_type": "code",
   "execution_count": 93,
   "metadata": {},
   "outputs": [],
   "source": [
    "def compute_discounted_rewards(epi_rewards):\n",
    "    batch_R = []\n",
    "    R = 0.0\n",
    "    for r in reversed(epi_rewards):\n",
    "        R = r + GAMMA*R\n",
    "        batch_R.append(R)\n",
    "    q = list(reversed(batch_R))\n",
    "    return q\n",
    "    #q_mean = np.mean(q)\n",
    "    #return [q_i - q_mean for q_i in q]"
   ]
  },
  {
   "cell_type": "code",
   "execution_count": 94,
   "metadata": {},
   "outputs": [
    {
     "data": {
      "text/plain": [
       "device(type='cpu')"
      ]
     },
     "execution_count": 94,
     "metadata": {},
     "output_type": "execute_result"
    }
   ],
   "source": [
    "env = gym.make('LunarLander-v2')\n",
    "#env = gym.make('CartPole-v0')\n",
    "device = torch.device(\"cuda\" if torch.cuda.is_available() else \"cpu\")\n",
    "device"
   ]
  },
  {
   "cell_type": "code",
   "execution_count": 101,
   "metadata": {},
   "outputs": [],
   "source": [
    "# actions: do nothing, fire left orientation engine, fire main engine, fire right orientation engine\n",
    "pi_logits = Policy_A2C(env.observation_space.shape[0], env.action_space.n).to(device)\n",
    "optimizer = optim.Adam(pi_logits.parameters(), lr = LEARNING_RATE)"
   ]
  },
  {
   "cell_type": "code",
   "execution_count": 102,
   "metadata": {},
   "outputs": [
    {
     "name": "stdout",
     "output_type": "stream",
     "text": [
      "8962: reward: -566.26, mean_100: -157.48, episodes: 100, epi_length: 85\n",
      "18693: reward: -56.27, mean_100: -188.67, episodes: 200, epi_length: 66\n",
      "30268: reward: -113.19, mean_100: -147.16, episodes: 300, epi_length: 84\n",
      "40066: reward: -96.22, mean_100: -107.86, episodes: 400, epi_length: 76\n",
      "53227: reward: -100.81, mean_100: -72.34, episodes: 500, epi_length: 130\n",
      "68507: reward: -228.60, mean_100: -80.84, episodes: 600, epi_length: 122\n"
     ]
    },
    {
     "ename": "KeyboardInterrupt",
     "evalue": "",
     "output_type": "error",
     "traceback": [
      "\u001b[0;31m---------------------------------------------------------------------------\u001b[0m",
      "\u001b[0;31mKeyboardInterrupt\u001b[0m                         Traceback (most recent call last)",
      "\u001b[0;32m<ipython-input-102-587dfa31dce9>\u001b[0m in \u001b[0;36m<module>\u001b[0;34m\u001b[0m\n\u001b[1;32m     18\u001b[0m \u001b[0;34m\u001b[0m\u001b[0m\n\u001b[1;32m     19\u001b[0m     \u001b[0;31m# select an action based on the current policy\u001b[0m\u001b[0;34m\u001b[0m\u001b[0;34m\u001b[0m\u001b[0;34m\u001b[0m\u001b[0m\n\u001b[0;32m---> 20\u001b[0;31m     \u001b[0mstate_v\u001b[0m \u001b[0;34m=\u001b[0m \u001b[0mtorch\u001b[0m\u001b[0;34m.\u001b[0m\u001b[0mFloatTensor\u001b[0m\u001b[0;34m(\u001b[0m\u001b[0;34m[\u001b[0m\u001b[0mstate\u001b[0m\u001b[0;34m]\u001b[0m\u001b[0;34m)\u001b[0m\u001b[0;34m.\u001b[0m\u001b[0mto\u001b[0m\u001b[0;34m(\u001b[0m\u001b[0mdevice\u001b[0m\u001b[0;34m)\u001b[0m\u001b[0;34m\u001b[0m\u001b[0;34m\u001b[0m\u001b[0m\n\u001b[0m\u001b[1;32m     21\u001b[0m \u001b[0;34m\u001b[0m\u001b[0m\n\u001b[1;32m     22\u001b[0m     \u001b[0mlogits_v\u001b[0m\u001b[0;34m,\u001b[0m \u001b[0m_\u001b[0m \u001b[0;34m=\u001b[0m \u001b[0mpi_logits\u001b[0m\u001b[0;34m(\u001b[0m\u001b[0mstate_v\u001b[0m\u001b[0;34m)\u001b[0m\u001b[0;34m\u001b[0m\u001b[0;34m\u001b[0m\u001b[0m\n",
      "\u001b[0;31mKeyboardInterrupt\u001b[0m: "
     ]
    }
   ],
   "source": [
    "#state = [x, y, v_x, v_y, theta, theta_dot, left_leg_contact, right_leg_contact]\n",
    "batch_states, batch_actions, batch_R = [], [], []\n",
    "batch_rewards = []\n",
    "\n",
    "total_rewards = collections.deque(maxlen=100)\n",
    "batch_episodes = 0\n",
    "done_episodes = 0\n",
    "step_idx = 0\n",
    "episode_length = 0\n",
    "\n",
    "state = env.reset()\n",
    "\n",
    "prev_mod_r = None\n",
    "\n",
    "while True:\n",
    "    step_idx += 1\n",
    "    episode_length += 1\n",
    "    \n",
    "    # select an action based on the current policy\n",
    "    state_v = torch.FloatTensor([state]).to(device)\n",
    "\n",
    "    logits_v, _ = pi_logits(state_v)\n",
    "    prob_a = F.softmax(logits_v, dim=1)\n",
    "    prob_a = prob_a.data.cpu().numpy()\n",
    "\n",
    "    a = np.random.choice(env.action_space.n, p=prob_a[0])\n",
    "\n",
    "    new_state, r, done, _ = env.step(a)\n",
    "    \n",
    "    if not done and np.sqrt(state[1]*state[1]+ state[0]*state[0]) < 0.1:\n",
    "        done = True\n",
    "        \n",
    "    \n",
    "    # store the experience\n",
    "    batch_states.append(state)\n",
    "    batch_actions.append(int(a))\n",
    "    batch_rewards.append(r)\n",
    "\n",
    "    if done:        \n",
    "        discounted_rewards = compute_discounted_rewards(batch_rewards)\n",
    "        batch_R.extend(discounted_rewards)\n",
    "        \n",
    "        new_reward = np.sum(batch_rewards)\n",
    "        total_rewards.append(new_reward)\n",
    "        \n",
    "        batch_rewards.clear()\n",
    "        batch_episodes += 1\n",
    "        done_episodes += 1\n",
    "        \n",
    "        state = env.reset()\n",
    "        \n",
    "        mean_rewards = np.mean(total_rewards)\n",
    "        if done_episodes % 100 == 0:\n",
    "            print(\"%d: reward: %6.2f, mean_100: %6.2f, episodes: %d, epi_length: %d\" % (\n",
    "                        step_idx, new_reward, mean_rewards, done_episodes, episode_length))\n",
    "        \n",
    "        if mean_rewards > 80:\n",
    "            print('Solved in %d steps and in %d eps'%(step_idx, done_episodes))\n",
    "            break\n",
    "        \n",
    "        episode_length = 0\n",
    "    else:\n",
    "        state = new_state\n",
    "\n",
    "\n",
    "    if batch_episodes < BATCH_SIZE:\n",
    "        continue\n",
    "    \n",
    "    # done acquiring events, time to train\n",
    "    batch_episodes = 0\n",
    "    \n",
    "    optimizer.zero_grad()\n",
    "    batch_state_v = torch.FloatTensor(batch_states).to(device)\n",
    "    batch_actions_v = torch.LongTensor(batch_actions).to(device)\n",
    "    batch_R_v = torch.FloatTensor(batch_R).to(device)\n",
    "    \n",
    "    policy_logits_v, values_v = pi_logits(batch_state_v)\n",
    "    \n",
    "    loss_value_v = F.mse_loss(values_v.squeeze(-1), batch_R_v)\n",
    "    \n",
    "    log_prob_v = F.log_softmax(policy_logits_v, dim=1)\n",
    "    entropy_loss_v = -ENTROPY_BETA*((F.softmax(policy_logits_v, dim=1)*log_prob_v).sum(dim=1)).mean()\n",
    "    \n",
    "    log_prob_v = (batch_R_v-values_v.detach())*log_prob_v[range(len(batch_state_v)), batch_actions_v]\n",
    "    loss_v = -(log_prob_v.mean())\n",
    "    \n",
    "    loss_v = loss_v-entropy_loss_v + loss_value_v #push entropy towards max uncertianty for all states as a threshold\n",
    "    loss_v.backward()\n",
    "    nn_utils.clip_grad_norm_(pi_logits.parameters(), CLIP_GRAD)\n",
    "    optimizer.step()\n",
    "    \n",
    "    batch_states.clear()\n",
    "    batch_actions.clear()\n",
    "    batch_R.clear()"
   ]
  },
  {
   "cell_type": "code",
   "execution_count": 107,
   "metadata": {},
   "outputs": [],
   "source": [
    "env = gym.make('LunarLander-v2')\n",
    "state = env.reset()\n",
    "for _ in range(800):\n",
    "    state_v = torch.FloatTensor([state])\n",
    "\n",
    "    logits_v,_ = pi_logits(state_v)\n",
    "    prob_a = F.softmax(logits_v, dim=1)\n",
    "    prob_a = prob_a.data.cpu().numpy()\n",
    "\n",
    "    a = np.random.choice(env.action_space.n, p=prob_a[0])\n",
    "    env.render()\n",
    "    state,r,d,_ = env.step(a)\n",
    "    \n",
    "    if not d and np.sqrt(state[1]*state[1]+ state[0]*state[0]) < 0.1:\n",
    "        d = True\n",
    "    if d:\n",
    "        break\n",
    "\n",
    "env.close()"
   ]
  },
  {
   "cell_type": "code",
   "execution_count": 108,
   "metadata": {},
   "outputs": [
    {
     "data": {
      "text/plain": [
       "array([ 0.09706602, -0.01125275, -0.6507874 ,  0.07096584,  0.07540077,\n",
       "       -0.22275634,  0.        ,  0.        ], dtype=float32)"
      ]
     },
     "execution_count": 108,
     "metadata": {},
     "output_type": "execute_result"
    }
   ],
   "source": [
    "state"
   ]
  },
  {
   "cell_type": "code",
   "execution_count": null,
   "metadata": {},
   "outputs": [],
   "source": []
  }
 ],
 "metadata": {
  "kernelspec": {
   "display_name": "Environment (conda_pytorch)",
   "language": "python",
   "name": "conda_pytorch"
  },
  "language_info": {
   "codemirror_mode": {
    "name": "ipython",
    "version": 3
   },
   "file_extension": ".py",
   "mimetype": "text/x-python",
   "name": "python",
   "nbconvert_exporter": "python",
   "pygments_lexer": "ipython3",
   "version": "3.6.9"
  }
 },
 "nbformat": 4,
 "nbformat_minor": 2
}
