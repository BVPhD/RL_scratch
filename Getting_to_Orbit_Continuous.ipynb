{
 "cells": [
  {
   "cell_type": "code",
   "execution_count": 1,
   "metadata": {},
   "outputs": [],
   "source": [
    "import matplotlib.pyplot as plt\n",
    "import seaborn as sns\n",
    "import time\n",
    "\n",
    "import gym\n",
    "import numpy as np\n",
    "import os\n",
    "import ptan\n",
    "\n",
    "import torch\n",
    "import torch.nn as nn\n",
    "import torch.nn.functional as F\n",
    "import torch.optim as optim\n",
    "\n",
    "import collections\n",
    "\n",
    "import seaborn as sns\n",
    "\n",
    "sns.set_style('darkgrid')"
   ]
  },
  {
   "cell_type": "code",
   "execution_count": 2,
   "metadata": {},
   "outputs": [
    {
     "name": "stdout",
     "output_type": "stream",
     "text": [
      "seconds per step:  2.6104357394519746\n"
     ]
    }
   ],
   "source": [
    "X = ((6*10**6)**3/(6.674*10**(-11)*6*10**(24)))**0.5\n",
    "MS = 5000\n",
    "print('seconds per step: ', (2*np.pi*2**1.5)*X/MS)"
   ]
  },
  {
   "cell_type": "markdown",
   "metadata": {},
   "source": [
    "## Solving the System of Equations\n",
    "\n",
    "$\\ddot{r} = r \\dot{\\theta}^2 - \\frac{1}{r^2}$\n",
    "\n",
    "$\\ddot{\\theta} = -2 \\frac{\\dot{r}}{r} \\dot{\\theta}$ \n",
    "\n",
    "### System of Equations\n",
    "\n",
    "$y_0 = r$\n",
    "\n",
    "$y_1 = \\dot{r}$\n",
    "\n",
    "$y_2 = \\theta$\n",
    "\n",
    "$y_3 = \\dot{\\theta}$\n",
    "\n",
    "---\n",
    "\n",
    "\n",
    "$\\dot{y}_0 = y_1$\n",
    "\n",
    "$\\dot{y}_1 = y_0 y_3^2 - \\frac{1}{y_0^2}$\n",
    "\n",
    "$\\dot{y}_2 = y_3$\n",
    "\n",
    "$\\dot{y}_3 = -2 \\frac{y_1}{y_0} y_3$ \n",
    "\n",
    "### RK4 Algorithm\n"
   ]
  },
  {
   "cell_type": "code",
   "execution_count": 172,
   "metadata": {},
   "outputs": [],
   "source": [
    "class OrbitalDynamicsEnv(gym.Env):\n",
    "    metadata = {'render.modes': ['human']}\n",
    "    \n",
    "    # dt_s -- is the time step in seconds.\n",
    "    def __init__(self, planet_Mass_kg = 5.972*10**(24), planet_R_km = 6371.0, \n",
    "                 dt_s = 1.0, target_alt = 2.0, thrust_gs= 1.5, verbose = False, \n",
    "                 record_history = True, record_rate = 100):\n",
    "        super(OrbitalDynamicsEnv, self).__init__()\n",
    "        self.record_rate = record_rate\n",
    "    \n",
    "        # Actions\n",
    "        self.action_space = gym.spaces.Box(low=np.array([0, 0]), \n",
    "                                           high=np.array([2*np.pi, 10**3]), \n",
    "                                           dtype=np.float32)\n",
    "        \n",
    "        # Obs (r,rdot,theta,theta_dot)\n",
    "        self.observation_space = gym.spaces.Box(low=np.array([0,0,0,0]), \n",
    "                                                high=np.array([10**9,10**9,2*np.pi,10**9]), \n",
    "                                                dtype=np.float64)\n",
    "        \n",
    "        \n",
    "        self.record_history = record_history\n",
    "        \n",
    "        # Newton's Gravitational Constant in SI units\n",
    "        G = 6.674*10**(-11) # m^3 kg^-1 s^-2 \n",
    "        \n",
    "        # Convert to Natural Problem Units\n",
    "        # tn_s = (R^3/GM)^1/2 -- where all measures are in SI units\n",
    "        planet_R_m = planet_R_km*10**3\n",
    "        tn_s = (planet_R_m**3/(G*planet_Mass_kg))**0.5\n",
    "        \n",
    "        # define the time step in seconds\n",
    "        self.dts = dt_s\n",
    "        # define the natural length in meters\n",
    "        self.ln_m = planet_R_m\n",
    "        # convert the time step in seconds to natural time\n",
    "        self.dt = dt_s/tn_s\n",
    "        \n",
    "        if verbose:\n",
    "            print('Units')\n",
    "            print('-----')\n",
    "            print('\\ttime: 1 s = ', 1.0/tn_s,' tn')\n",
    "            print('\\tlength: 1 m = ',1.0/planet_R_m,' ln')\n",
    "            print('Simulation parameters')\n",
    "            print('-----')\n",
    "            print('\\tnatural units time step size: ',self.dt)\n",
    "        \n",
    "        # setting the target altitude in natural units\n",
    "        self.target_alt = target_alt\n",
    "        \n",
    "        # solving the oribital angular velocity in natural units\n",
    "        self.oribit_theta_dot = target_alt**(-1.5)\n",
    "        \n",
    "        # solving the maxium allowable natural time to run an episode\n",
    "        self.max_time = 2*np.pi*target_alt**(1.5)\n",
    "        # adding in a buffer to allow it to go a little longer\n",
    "        self.max_time = self.max_time*1.5\n",
    "        # solving the maximum allowable steps given the max time\n",
    "        self.max_steps = np.int32(np.ceil(self.max_time/self.dt))\n",
    "        \n",
    "        if verbose:\n",
    "            print('\\ttarget theta dot: ', self.oribit_theta_dot, ' 1/tn')\n",
    "            print('\\tmax allowable natural time: ', self.max_time, \" tn = \", self.max_time*tn_s,\" s\")\n",
    "            print('\\tmax allowed steps: ', self.max_steps)\n",
    "        \n",
    "        # Choosing how strong the penalty factors will be for taking actions\n",
    "        self.orientation_penalty = 0.1\n",
    "        self.thrust_penalty = 10*self.orientation_penalty\n",
    "        \n",
    "        # max accleration from thrust in natural units (ln/tn^2)\n",
    "        # 1 g = GM/R_planet^2 --in natural units--> 1 g= (ln^3/tn^2)/(ln^2)\n",
    "        # 1 g. = 1 ln/tn^2\n",
    "        self.max_thrust = thrust_gs\n",
    "        self.max_o_thrust = 1.0\n",
    "        \n",
    "        if verbose:\n",
    "            print('Policy Parameters')\n",
    "            print('-----')\n",
    "            max_thrust_SI = self.max_thrust*(self.ln_m)/(tn_s**2)\n",
    "            # as a reference https://www.nasa.gov/pdf/466711main_AP_ST_ShuttleAscent.pdf\n",
    "            # says the spaceshuttle never exceeded 3gs or ~ 30 m/s^2\n",
    "            print('\\tDiscrete thrust acceleration: ', self.max_thrust,' ln/tn^2 = ', max_thrust_SI,' m/s^2')\n",
    "        \n",
    "    def reset(self):\n",
    "        # Reset the state of the environment to an initial state\n",
    "        self.steps = 0\n",
    "        \n",
    "        # Orientation Coordinate in global coordinates\n",
    "        self.orientation_rate = 0.0\n",
    "        self.orientation_angle = 0.01\n",
    "        \n",
    "        # Translational Coordinates\n",
    "        self.r = 1.0\n",
    "        self.r_dot = 0.0\n",
    "        self.r_double_dot = 0.0\n",
    "        \n",
    "        self.theta = 0.0\n",
    "        self.theta_dot = 0.0 # can change this if u want to add planetary rotation\n",
    "        self.theta_double_dot = 0.0\n",
    "        \n",
    "        self.elapsed_time = 0.0 # elapsed sim time in natural units\n",
    "        self.elapsed_time_s = 0.0 # elapsed sim time in seconds\n",
    "        \n",
    "        # initialize the history array\n",
    "        if self.record_history:\n",
    "            self.trajectory = np.array([[self.r*np.cos(self.theta), self.r*np.sin(self.theta), self.orientation_angle]])\n",
    "        \n",
    "        obs = np.array([self.r,self.r_dot,self.theta,self.theta_dot])\n",
    "        \n",
    "        # start off with an impulse to get off the ground\n",
    "        #obs, reward, done, _ = self.step(2)\n",
    "        \n",
    "        return obs\n",
    "    \n",
    "    # continous actions = (mean thrust, mean counter clockwise rotation thrust)\n",
    "    def step(self, action):\n",
    "        self.steps += 1\n",
    "        \n",
    "        # actions segragation\n",
    "        thrust = np.clip(action[0], 0.0, self.max_thrust)\n",
    "        orientation_thrust = np.clip(action[1], -self.max_o_thrust, self.max_o_thrust)\n",
    "        \n",
    "        self.orientation_angle += self.orientation_rate*self.dt + 0.5*orientation_thrust*self.dt**2\n",
    "        self.orientation_rate += orientation_thrust*self.dt \n",
    "        \n",
    "        # Translating the actions into the planet centric coordinate system\n",
    "        action_vector = thrust*np.array([np.cos(self.orientation_angle), \n",
    "                                         np.sin(self.orientation_angle)])\n",
    "        \n",
    "        #print('action v: ', action_vector)\n",
    "        \n",
    "        # current r hat vector and theta hat vector\n",
    "        r_vect = np.array([np.cos(self.theta), np.sin(self.theta)])\n",
    "        theta_vect = np.array([-np.sin(self.theta), np.cos(self.theta)])\n",
    "        \n",
    "        # projection of actions along r and theta \n",
    "        action_along_r = np.dot(r_vect, action_vector)\n",
    "        action_along_theta = np.dot(theta_vect, action_vector)\n",
    "        \n",
    "        #print('r_vect: ', r_vect)\n",
    "        #print(action_along_r)\n",
    "        # Execute one time step within the environment using RK4\n",
    "        self.elapsed_time += self.dt\n",
    "        self.elapsed_time_s += self.dts\n",
    "\n",
    "        # integrate\n",
    "        y0_k1 = self.r_dot\n",
    "        y1_k1 = self.r*self.r_dot**2 - 1./self.r**2 + action_along_r\n",
    "        y2_k1 = self.theta_dot\n",
    "        y3_k1 = -2.0*self.r_dot/self.r*self.theta_dot + action_along_theta\n",
    "        \n",
    "        y0_k2 = (self.r_dot + y1_k1*self.dt/2)\n",
    "        y1_k2 = (self.r + y0_k1*self.dt/2)*(self.r_dot + y1_k1*self.dt/2)**2 - 1./(self.r + y0_k1*self.dt/2)**2 + action_along_r\n",
    "        y2_k2 = (self.theta_dot + y3_k1*self.dt/2)\n",
    "        y3_k2 = -2.0*(self.r_dot + y1_k1*self.dt/2)/(self.r + y0_k1*self.dt/2)*(self.theta_dot + y3_k1*self.dt/2) + action_along_theta\n",
    "        \n",
    "        y0_k3 = (self.r_dot + y1_k2*self.dt/2)\n",
    "        y1_k3 = (self.r + y0_k2*self.dt/2)*(self.r_dot + y1_k2*self.dt/2)**2 - 1./(self.r + y0_k2*self.dt/2)**2 + action_along_r\n",
    "        y2_k3 = (self.theta_dot + y3_k1*self.dt/2)\n",
    "        y3_k3 = -2.0*(self.r_dot + y1_k2*self.dt/2)/(self.r + y0_k2*self.dt/2)*(self.theta_dot + y3_k2*self.dt/2) + action_along_theta\n",
    "        \n",
    "        y0_k4 = (self.r_dot + y1_k3*self.dt)\n",
    "        y1_k4 = (self.r + y0_k3*self.dt)*(self.r_dot + y1_k3*self.dt)**2 - 1./(self.r + y0_k3*self.dt)**2 + action_along_r\n",
    "        y2_k4 = (self.theta_dot + y3_k1*self.dt/2)\n",
    "        y3_k4 = -2.0*(self.r_dot + y1_k2*self.dt/2)/(self.r + y0_k2*self.dt/2)*(self.theta_dot + y3_k2*self.dt) + action_along_theta\n",
    "        \n",
    "        \n",
    "        # Update \n",
    "        self.r = self.r + self.dt/6*(y0_k1 + 2*y0_k2 + 2*y0_k3 + y0_k4)\n",
    "        self.r_dot = self.r_dot + self.dt/6*(y1_k1 + 2*y1_k2 + 2*y1_k3 + y0_k4)\n",
    "\n",
    "        self.theta = self.theta + self.dt/6*(y2_k1 + 2*y2_k2 + 2*y2_k3 + y2_k4)\n",
    "        self.theta_dot = self.theta_dot + self.dt/6*(y3_k1 + 2*y3_k2 + 2*y3_k3 + y3_k4)\n",
    "        \n",
    "        # prepare to output\n",
    "        obs = np.array([self.r,self.r_dot,self.theta,self.theta_dot])\n",
    "        \n",
    "        # If recording is enabled record the trajectory\n",
    "        if (self.record_history) and (self.steps % self.record_rate == 0):\n",
    "            self.trajectory = np.append(self.trajectory, \n",
    "                                        [[self.r*np.cos(self.theta), \n",
    "                                          self.r*np.sin(self.theta), \n",
    "                                          self.orientation_angle]], \n",
    "                                        axis=0)\n",
    "        \n",
    "        # reward 1 for every step not done, encouraging orbit seeking\n",
    "        # penalty for every step not near the target altitude\n",
    "        reward = (1.0 + \n",
    "                  - 0.001*thrust/self.max_thrust \n",
    "                  - 0.0001*np.abs(orientation_thrust)/self.max_o_thrust -\n",
    "                  0.01*np.abs(self.target_alt - self.r)/self.target_alt - \n",
    "                  0.01*np.abs(self.oribit_theta_dot - self.theta_dot)/self.oribit_theta_dot)\n",
    "        \n",
    "        # set if at the terminal state\n",
    "        done = False\n",
    "        \n",
    "        # test for terminal state\n",
    "        if ((self.r <= 1.0) | \n",
    "            (self.r > self.target_alt*3.0) | \n",
    "            (self.elapsed_time > self.max_time*2.0)):\n",
    "            done = True\n",
    "        \n",
    "        return (obs, reward, done, {})\n",
    "    \n",
    "    def render(self, size=5, sample_traj_rate = 1):\n",
    "        \n",
    "        fig = plt.figure(figsize=(size,size), dpi=100)\n",
    "        ax = fig.add_subplot(111)\n",
    "        ax.set_aspect(1) \n",
    "        \n",
    "        # Planet Surface\n",
    "        x = np.linspace(-1,1,100,endpoint=True)\n",
    "        plt.plot(x, np.sqrt(1-x**2), c='k')\n",
    "        plt.plot(x,-np.sqrt(1-x**2), c ='k')\n",
    "        \n",
    "        # Trajectory\n",
    "        plt.plot(self.trajectory[::sample_traj_rate,0], self.trajectory[::sample_traj_rate,1], c='b')\n",
    "        \n",
    "        # orientation vector every Nth\n",
    "        N = (sample_traj_rate-1)+10\n",
    "        xaxis_orientation = self.trajectory[::N,2]\n",
    "        # vector terminal pts\n",
    "        start_pts = self.trajectory[::N,[0,1]]\n",
    "        end_pts = start_pts + 0.05*np.dstack((np.cos(xaxis_orientation), np.sin(xaxis_orientation)))[0]\n",
    "        \n",
    "        for idx in range(len(start_pts)):\n",
    "            plt.plot([start_pts[idx,0],end_pts[idx,0]], [start_pts[idx,1],end_pts[idx,1]], c='r')\n",
    "        plt.show();\n",
    "        \n",
    "        fig, axs = plt.subplots(3, sharex=False, sharey=False, figsize=(size,size), dpi=100)\n",
    "        axs[0].plot(np.sqrt(self.trajectory[::sample_traj_rate,0]**2+self.trajectory[::sample_traj_rate,1]**2), c='b')\n",
    "        axs[0].set_ylabel('altitude (ln)')\n",
    "        axs[0].set_xlabel('time (steps)')\n",
    "        \n",
    "        axs[1].plot(np.arctan2(self.trajectory[::sample_traj_rate,1],self.trajectory[::sample_traj_rate,0])*180/np.pi, c='b')\n",
    "        axs[1].set_ylabel('latitude (degrees)')\n",
    "        axs[1].set_xlabel('time (steps)')\n",
    "        \n",
    "        axs[2].plot((self.trajectory[::sample_traj_rate,2]*180/np.pi) % 360, c='b')\n",
    "        axs[2].set_ylabel('orientation to x-axis (degrees)')\n",
    "        axs[2].set_xlabel('time (steps)')\n",
    "        plt.tight_layout()"
   ]
  },
  {
   "cell_type": "markdown",
   "metadata": {},
   "source": [
    "## Example Policy"
   ]
  },
  {
   "cell_type": "code",
   "execution_count": 189,
   "metadata": {},
   "outputs": [
    {
     "name": "stdout",
     "output_type": "stream",
     "text": [
      "Units\n",
      "-----\n",
      "\ttime: 1 s =  0.0012414853327976582  tn\n",
      "\tlength: 1 m =  1.5696123057604772e-07  ln\n",
      "Simulation parameters\n",
      "-----\n",
      "\tnatural units time step size:  0.00012414853327976584\n",
      "\ttarget theta dot:  0.4319593977248311  1/tn\n",
      "\tmax allowable natural time:  21.818666315423467  tn =  17574.646867760905  s\n",
      "\tmax allowed steps:  175747\n",
      "Policy Parameters\n",
      "-----\n",
      "\tDiscrete thrust acceleration:  1.5  ln/tn^2 =  14.729298049223939  m/s^2\n"
     ]
    }
   ],
   "source": [
    "env = OrbitalDynamicsEnv(dt_s = 0.1, verbose=True, target_alt = 1.75)"
   ]
  },
  {
   "cell_type": "code",
   "execution_count": 4,
   "metadata": {},
   "outputs": [],
   "source": [
    "def test_net(net, env, count=10, device=\"cpu\"):\n",
    "    rewards = 0.0\n",
    "    steps = 0\n",
    "    # play count episodes\n",
    "    for _ in range(count):\n",
    "        obs = env.reset()\n",
    "        while True:\n",
    "            obs_v = ptan.agent.float32_preprocessor([obs])\n",
    "            obs_v = obs_v.to(device)\n",
    "            mu_v = net(obs_v)[0]\n",
    "            action = mu_v.squeeze(dim=0).data.cpu().numpy()\n",
    "            state, reward, done, _ = env.step(action)\n",
    "            rewards += reward\n",
    "            steps += 1\n",
    "            if done:\n",
    "                break\n",
    "    return rewards / count, steps / count"
   ]
  },
  {
   "cell_type": "code",
   "execution_count": 5,
   "metadata": {},
   "outputs": [],
   "source": [
    "def calc_logprob(mu_v, var_v, actions_v):\n",
    "    p1 = - ((mu_v - actions_v) ** 2) / (2*var_v.clamp(min=1e-3))\n",
    "    p2 = - torch.log(torch.sqrt(2 * np.pi * var_v))\n",
    "    return p1 + p2"
   ]
  },
  {
   "cell_type": "code",
   "execution_count": 98,
   "metadata": {},
   "outputs": [],
   "source": [
    "HID_SIZE = 128\n",
    "\n",
    "class ModelA2C(nn.Module):\n",
    "    def __init__(self, obs_size, act_size):\n",
    "        super(ModelA2C, self).__init__()\n",
    "\n",
    "        self.base = nn.Sequential(\n",
    "            nn.Linear(obs_size, HID_SIZE),\n",
    "            nn.ReLU(),\n",
    "        )\n",
    "        self.mu = nn.Sequential(\n",
    "            nn.Linear(HID_SIZE, act_size)\n",
    "        )\n",
    "        self.var = nn.Sequential(\n",
    "            nn.Linear(HID_SIZE, act_size)\n",
    "        )\n",
    "        self.value = nn.Linear(HID_SIZE, 1)\n",
    "\n",
    "    def forward(self, x):\n",
    "        base_out = self.base(x)\n",
    "        return self.mu(base_out), torch.abs(self.var(base_out)), \\\n",
    "               self.value(base_out)\n",
    "    \n",
    "    \n",
    "class TestNet(nn.Module):\n",
    "    def __init__(self, obs_size, act_size):\n",
    "        super(TestNet, self).__init__()\n",
    "\n",
    "        self.base = nn.Sequential(\n",
    "            nn.Linear(obs_size, HID_SIZE),\n",
    "            nn.ReLU(),\n",
    "        )\n",
    "        self.value = nn.Linear(HID_SIZE, 1)\n",
    "        \n",
    "        self.go_up_v = torch.FloatTensor([[1.1, 0.0]])\n",
    "        self.go_up_var_v = torch.FloatTensor([[0.001, 0.001]])\n",
    "\n",
    "    def forward(self, x):\n",
    "        base_out = self.base(x)\n",
    "        return self.go_up_v, self.go_up_var_v, self.value(base_out)"
   ]
  },
  {
   "cell_type": "code",
   "execution_count": 99,
   "metadata": {},
   "outputs": [],
   "source": [
    "class AgentA2C(ptan.agent.BaseAgent):\n",
    "    def __init__(self, net, device=\"cpu\"):\n",
    "        self.net = net\n",
    "        self.device = device\n",
    "\n",
    "    def __call__(self, states, agent_states):\n",
    "        states_v = ptan.agent.float32_preprocessor(states)\n",
    "        states_v = states_v.to(self.device)\n",
    "\n",
    "        mu_v, var_v, _ = self.net(states_v)\n",
    "        mu = mu_v.data.cpu().numpy()\n",
    "        sigma = torch.sqrt(var_v).data.cpu().numpy()\n",
    "        actions = np.random.normal(mu, sigma)\n",
    "        return actions, agent_states"
   ]
  },
  {
   "cell_type": "code",
   "execution_count": 83,
   "metadata": {},
   "outputs": [],
   "source": [
    "mu = mu_v.data.cpu().numpy()\n",
    "sig = torch.sqrt(var_v).data.cpu().numpy()\n",
    "\n",
    "samples = np.random.normal(mu, sig)"
   ]
  },
  {
   "cell_type": "code",
   "execution_count": 84,
   "metadata": {},
   "outputs": [
    {
     "name": "stderr",
     "output_type": "stream",
     "text": [
      "C:\\Users\\BVPHD\\.conda\\envs\\py_torch\\lib\\site-packages\\seaborn\\distributions.py:288: UserWarning: Data must have variance to compute a kernel density estimate.\n",
      "  warnings.warn(msg, UserWarning)\n"
     ]
    },
    {
     "data": {
      "text/plain": [
       "<matplotlib.axes._subplots.AxesSubplot at 0x22c8ab9d848>"
      ]
     },
     "execution_count": 84,
     "metadata": {},
     "output_type": "execute_result"
    },
    {
     "data": {
      "image/png": "[encoded data removed]",
      "text/plain": [
       "<Figure size 432x288 with 1 Axes>"
      ]
     },
     "metadata": {},
     "output_type": "display_data"
    }
   ],
   "source": [
    "sns.distplot(samples[:,0])"
   ]
  },
  {
   "cell_type": "code",
   "execution_count": 100,
   "metadata": {},
   "outputs": [],
   "source": [
    "def unpack_batch_a2c(batch, net, last_val_gamma, device=\"cpu\"):\n",
    "    \"\"\"\n",
    "    Convert batch into training tensors\n",
    "    :param batch:\n",
    "    :param net:\n",
    "    :return: states variable, actions tensor, reference values variable\n",
    "    \"\"\"\n",
    "    states = []\n",
    "    actions = []\n",
    "    rewards = []\n",
    "    not_done_idx = []\n",
    "    last_states = []\n",
    "    \n",
    "    for idx, exp in enumerate(batch):\n",
    "        states.append(exp.state)\n",
    "        actions.append(exp.action)\n",
    "        rewards.append(exp.reward)\n",
    "        if exp.last_state is not None:\n",
    "            not_done_idx.append(idx)\n",
    "            last_states.append(exp.last_state)\n",
    "    \n",
    "    states_v = ptan.agent.float32_preprocessor(states).to(device)\n",
    "    actions_v = torch.FloatTensor(actions).to(device)\n",
    "\n",
    "    # handle rewards\n",
    "    rewards_np = np.array(rewards, dtype=np.float32)\n",
    "    if not_done_idx:\n",
    "        last_states_v = ptan.agent.float32_preprocessor(last_states).to(device)\n",
    "        last_vals_v = net(last_states_v)[2]\n",
    "        last_vals_np = last_vals_v.data.cpu().numpy()[:, 0]\n",
    "        rewards_np[not_done_idx] += last_val_gamma * last_vals_np\n",
    "\n",
    "    ref_vals_v = torch.FloatTensor(rewards_np).to(device)\n",
    "    return states_v, actions_v, ref_vals_v"
   ]
  },
  {
   "cell_type": "code",
   "execution_count": 173,
   "metadata": {},
   "outputs": [
    {
     "name": "stdout",
     "output_type": "stream",
     "text": [
      "Units\n",
      "-----\n",
      "\ttime: 1 s =  0.0012414853327976582  tn\n",
      "\tlength: 1 m =  1.5696123057604772e-07  ln\n",
      "Simulation parameters\n",
      "-----\n",
      "\tnatural units time step size:  0.003724455998392975\n",
      "\ttarget theta dot:  0.4319593977248311  1/tn\n",
      "\tmax allowable natural time:  21.81866631542346  tn =  17574.646867760897  s\n",
      "\tmax allowed steps:  5859\n",
      "Policy Parameters\n",
      "-----\n",
      "\tDiscrete thrust acceleration:  1.5  ln/tn^2 =  14.729298049223939  m/s^2\n",
      "Units\n",
      "-----\n",
      "\ttime: 1 s =  0.0012414853327976582  tn\n",
      "\tlength: 1 m =  1.5696123057604772e-07  ln\n",
      "Simulation parameters\n",
      "-----\n",
      "\tnatural units time step size:  0.003724455998392975\n",
      "\ttarget theta dot:  0.4319593977248311  1/tn\n",
      "\tmax allowable natural time:  21.81866631542346  tn =  17574.646867760897  s\n",
      "\tmax allowed steps:  5859\n",
      "Policy Parameters\n",
      "-----\n",
      "\tDiscrete thrust acceleration:  1.5  ln/tn^2 =  14.729298049223939  m/s^2\n",
      "ModelA2C(\n",
      "  (base): Sequential(\n",
      "    (0): Linear(in_features=4, out_features=128, bias=True)\n",
      "    (1): ReLU()\n",
      "  )\n",
      "  (mu): Sequential(\n",
      "    (0): Linear(in_features=128, out_features=2, bias=True)\n",
      "  )\n",
      "  (var): Sequential(\n",
      "    (0): Linear(in_features=128, out_features=2, bias=True)\n",
      "  )\n",
      "  (value): Linear(in_features=128, out_features=1, bias=True)\n",
      ")\n"
     ]
    },
    {
     "name": "stderr",
     "output_type": "stream",
     "text": [
      "C:\\Users\\BVPHD\\.conda\\envs\\py_torch\\lib\\site-packages\\gym\\logger.py:30: UserWarning: \u001b[33mWARN: Box bound precision lowered by casting to float32\u001b[0m\n",
      "  warnings.warn(colorize('%s: %s'%('WARN', msg % args), 'yellow'))\n"
     ]
    }
   ],
   "source": [
    "device = torch.device(\"cuda\" if torch.cuda.is_available() else \"cpu\")\n",
    "\n",
    "env = OrbitalDynamicsEnv(dt_s = 3.0, verbose=True, target_alt = 1.75, record_history = False)\n",
    "test_env = OrbitalDynamicsEnv(dt_s = 3.0, verbose=True, target_alt = 1.75, record_rate = 1)\n",
    "\n",
    "net = ModelA2C(env.observation_space.shape[0], env.action_space.shape[0]).to(device)\n",
    "up_net = TestNet(env.observation_space.shape[0], env.action_space.shape[0]).to(device)\n",
    "print(net)\n",
    "\n",
    "agent = AgentA2C(net, device=device)"
   ]
  },
  {
   "cell_type": "markdown",
   "metadata": {},
   "source": [
    "### Test Net Is Neutral (near zero means, near zero variances)"
   ]
  },
  {
   "cell_type": "code",
   "execution_count": 174,
   "metadata": {},
   "outputs": [
    {
     "data": {
      "text/plain": [
       "(tensor([[ 0.2001, -0.2154]], device='cuda:0', grad_fn=<AddmmBackward>),\n",
       " tensor([[0.2047, 0.2450]], device='cuda:0', grad_fn=<AbsBackward>),\n",
       " tensor([[0.2900]], device='cuda:0', grad_fn=<AddmmBackward>))"
      ]
     },
     "execution_count": 174,
     "metadata": {},
     "output_type": "execute_result"
    }
   ],
   "source": [
    "s = env.reset()\n",
    "s_v = torch.FloatTensor([s]).to(device)\n",
    "net(s_v)"
   ]
  },
  {
   "cell_type": "code",
   "execution_count": 175,
   "metadata": {},
   "outputs": [
    {
     "data": {
      "text/plain": [
       "(array([ 0.26140684, -0.4830613 ]), None)"
      ]
     },
     "execution_count": 175,
     "metadata": {},
     "output_type": "execute_result"
    }
   ],
   "source": [
    "agent(s,None) # s needs to be numpy array"
   ]
  },
  {
   "cell_type": "code",
   "execution_count": 176,
   "metadata": {},
   "outputs": [
    {
     "data": {
      "text/plain": [
       "(tensor([[1.1000, 0.0000]]),\n",
       " tensor([[0.0010, 0.0010]]),\n",
       " tensor([[0.0794]], device='cuda:0', grad_fn=<AddmmBackward>))"
      ]
     },
     "execution_count": 176,
     "metadata": {},
     "output_type": "execute_result"
    }
   ],
   "source": [
    "up_net(s_v)"
   ]
  },
  {
   "cell_type": "markdown",
   "metadata": {},
   "source": [
    "### Pretrain so that we have good initial settings (the mentor)"
   ]
  },
  {
   "cell_type": "code",
   "execution_count": 177,
   "metadata": {},
   "outputs": [],
   "source": [
    "net = ModelA2C(env.observation_space.shape[0], env.action_space.shape[0]).to(device)\n",
    "optimizer = optim.Adam(net.parameters(), lr=0.01)\n",
    "\n",
    "go_thrust_v = torch.FloatTensor([[env.max_thrust*0.9, 0.0]]).to(device)\n",
    "\n",
    "# this pumps the variance parameters so we start off with high exploration\n",
    "for _ in range(10):\n",
    "    optimizer.zero_grad()\n",
    "    \n",
    "    mu_v, var_v, value_v = net(s_v)\n",
    "    ent_v = -(torch.log(2*np.pi*var_v) + 1)/2\n",
    "    entropy_loss_v =  0.001*ent_v.mean()\n",
    "    mu_loss_v = ((mu_v - go_thrust_v)**2).mean()\n",
    "    \n",
    "    loss_v = mu_loss_v + entropy_loss_v\n",
    "    \n",
    "    loss_v.backward()\n",
    "    optimizer.step()"
   ]
  },
  {
   "cell_type": "code",
   "execution_count": 145,
   "metadata": {},
   "outputs": [
    {
     "data": {
      "text/plain": [
       "(tensor([[ 1.1963, -0.0244]], device='cuda:0', grad_fn=<AddmmBackward>),\n",
       " tensor([[2.2601, 1.8347]], device='cuda:0', grad_fn=<AbsBackward>),\n",
       " tensor([[0.0322]], device='cuda:0', grad_fn=<AddmmBackward>))"
      ]
     },
     "execution_count": 145,
     "metadata": {},
     "output_type": "execute_result"
    }
   ],
   "source": [
    "net(s_v) # mean near (max_thrust,0) large variances for exploration"
   ]
  },
  {
   "cell_type": "code",
   "execution_count": 185,
   "metadata": {},
   "outputs": [
    {
     "name": "stdout",
     "output_type": "stream",
     "text": [
      "Test done is 2.95 sec, reward 449.214, steps 456\n",
      "Test done is 2.85 sec, reward -9602.073, steps 457\n",
      "Test done is 2.92 sec, reward 315.553, steps 457\n",
      "Test done is 2.76 sec, reward -6527.606, steps 457\n",
      "Test done is 2.88 sec, reward 404.359, steps 457\n",
      "Test done is 2.85 sec, reward 450.004, steps 457\n",
      "Best reward updated: 449.21404356 -> 450.00429071\n",
      "Test done is 2.80 sec, reward 438.643, steps 458\n",
      "Test done is 2.89 sec, reward 427.175, steps 458\n",
      "Test done is 2.82 sec, reward 424.445, steps 458\n",
      "Test done is 2.92 sec, reward 446.524, steps 459\n",
      "Test done is 2.82 sec, reward 451.689, steps 459\n",
      "Best reward updated: 450.00429071 -> 451.68863444\n",
      "Test done is 2.91 sec, reward 390.442, steps 460\n",
      "Test done is 2.90 sec, reward 442.817, steps 460\n",
      "Test done is 2.79 sec, reward 452.108, steps 460\n",
      "Best reward updated: 451.68863444 -> 452.10766193\n",
      "Test done is 2.90 sec, reward 452.557, steps 460\n",
      "Best reward updated: 452.10766193 -> 452.55745356\n",
      "Test done is 2.81 sec, reward 452.326, steps 460\n",
      "Test done is 2.94 sec, reward 451.872, steps 460\n",
      "Test done is 2.82 sec, reward 442.791, steps 460\n",
      "Test done is 2.93 sec, reward 451.129, steps 460\n",
      "Test done is 2.92 sec, reward 440.251, steps 460\n",
      "Test done is 2.82 sec, reward 437.817, steps 460\n",
      "Test done is 2.92 sec, reward 452.494, steps 460\n",
      "Test done is 2.81 sec, reward 446.016, steps 460\n",
      "Test done is 2.91 sec, reward 425.756, steps 460\n",
      "Test done is 2.83 sec, reward 452.173, steps 460\n",
      "Test done is 2.93 sec, reward 452.342, steps 460\n",
      "Test done is 2.91 sec, reward 452.535, steps 460\n",
      "Test done is 2.79 sec, reward 452.493, steps 460\n",
      "Test done is 2.94 sec, reward 452.543, steps 460\n",
      "Test done is 2.83 sec, reward 452.559, steps 460\n",
      "Best reward updated: 452.55745356 -> 452.55921901\n",
      "Test done is 2.90 sec, reward 452.562, steps 460\n",
      "Best reward updated: 452.55921901 -> 452.56214134\n",
      "Test done is 2.83 sec, reward 453.390, steps 461\n",
      "Best reward updated: 452.56214134 -> 453.39036845\n",
      "Test done is 2.93 sec, reward 453.445, steps 461\n",
      "Best reward updated: 453.39036845 -> 453.44524547\n",
      "Test done is 2.93 sec, reward -694.765, steps 462\n",
      "Test done is 2.77 sec, reward 453.428, steps 461\n",
      "Test done is 2.92 sec, reward 453.428, steps 461\n",
      "Test done is 2.75 sec, reward 453.445, steps 461\n",
      "Test done is 2.92 sec, reward 453.405, steps 461\n",
      "Test done is 2.84 sec, reward 452.357, steps 461\n",
      "Test done is 2.87 sec, reward -8815.804, steps 461\n",
      "Test done is 2.89 sec, reward 452.558, steps 460\n",
      "Test done is 2.76 sec, reward -597.011, steps 461\n",
      "Test done is 2.95 sec, reward 452.560, steps 460\n",
      "Test done is 2.79 sec, reward 452.562, steps 460\n",
      "Test done is 2.88 sec, reward 448.631, steps 460\n",
      "Test done is 2.92 sec, reward 390.015, steps 460\n",
      "Test done is 2.88 sec, reward 451.686, steps 459\n",
      "Test done is 2.98 sec, reward -5445.313, steps 460\n",
      "Test done is 2.77 sec, reward 451.687, steps 459\n",
      "Test done is 2.89 sec, reward 451.687, steps 459\n",
      "Test done is 2.79 sec, reward 451.686, steps 459\n",
      "Test done is 2.95 sec, reward -17179.193, steps 460\n",
      "Test done is 2.86 sec, reward 452.504, steps 460\n",
      "Test done is 2.80 sec, reward 451.568, steps 460\n",
      "Test done is 2.94 sec, reward 149.746, steps 460\n",
      "Test done is 2.75 sec, reward 441.057, steps 460\n",
      "Test done is 2.91 sec, reward 445.050, steps 460\n",
      "Test done is 2.80 sec, reward 426.677, steps 460\n",
      "Test done is 2.88 sec, reward 398.141, steps 460\n",
      "Test done is 2.92 sec, reward 452.486, steps 460\n",
      "Test done is 2.76 sec, reward 452.177, steps 460\n",
      "Test done is 2.89 sec, reward 366.054, steps 460\n",
      "Test done is 2.82 sec, reward 437.504, steps 460\n",
      "Test done is 2.90 sec, reward 451.793, steps 460\n",
      "Test done is 2.84 sec, reward 452.558, steps 460\n",
      "Test done is 2.87 sec, reward 452.560, steps 460\n",
      "Test done is 2.91 sec, reward -302.332, steps 461\n",
      "Test done is 2.78 sec, reward -1902.306, steps 461\n",
      "Test done is 2.88 sec, reward 453.230, steps 461\n",
      "Test done is 2.81 sec, reward 440.191, steps 461\n",
      "Test done is 2.89 sec, reward 453.389, steps 461\n",
      "Test done is 2.84 sec, reward 452.107, steps 461\n",
      "Test done is 2.83 sec, reward 453.431, steps 461\n",
      "Test done is 2.88 sec, reward 453.447, steps 461\n",
      "Best reward updated: 453.44524547 -> 453.44686500\n",
      "Test done is 2.83 sec, reward 451.616, steps 461\n",
      "Test done is 2.91 sec, reward 452.569, steps 461\n",
      "Test done is 2.78 sec, reward 453.080, steps 461\n",
      "Test done is 2.93 sec, reward 452.561, steps 460\n",
      "Test done is 2.93 sec, reward -9278.959, steps 461\n",
      "Test done is 2.79 sec, reward 452.562, steps 460\n",
      "Test done is 2.96 sec, reward 452.552, steps 460\n",
      "Test done is 2.78 sec, reward 451.170, steps 460\n",
      "Test done is 2.90 sec, reward -32.740, steps 460\n",
      "Test done is 2.83 sec, reward 183.498, steps 460\n",
      "Test done is 2.93 sec, reward 426.197, steps 460\n",
      "Test done is 2.95 sec, reward -91.736, steps 460\n",
      "Test done is 2.78 sec, reward 451.656, steps 459\n",
      "Test done is 2.91 sec, reward 451.514, steps 459\n",
      "Test done is 2.77 sec, reward 451.576, steps 459\n",
      "Test done is 2.92 sec, reward -3996.794, steps 459\n",
      "Test done is 2.88 sec, reward 367.369, steps 459\n",
      "Test done is 2.89 sec, reward 451.629, steps 459\n",
      "Test done is 2.90 sec, reward 451.607, steps 459\n",
      "Test done is 2.80 sec, reward 451.610, steps 459\n",
      "Test done is 2.95 sec, reward 451.689, steps 459\n",
      "Test done is 2.82 sec, reward 450.344, steps 460\n",
      "Test done is 2.91 sec, reward 451.688, steps 459\n",
      "Test done is 2.84 sec, reward 162.333, steps 460\n",
      "Test done is 2.87 sec, reward -41177.058, steps 460\n",
      "Test done is 2.90 sec, reward 451.664, steps 459\n",
      "Test done is 2.78 sec, reward 451.652, steps 459\n",
      "Test done is 2.92 sec, reward 451.684, steps 459\n",
      "Test done is 2.81 sec, reward 451.687, steps 459\n",
      "Test done is 2.89 sec, reward -2522.211, steps 460\n",
      "Test done is 2.84 sec, reward 451.684, steps 459\n",
      "Test done is 2.83 sec, reward 450.976, steps 459\n",
      "Test done is 2.92 sec, reward 450.609, steps 459\n",
      "Test done is 2.79 sec, reward 444.655, steps 459\n",
      "Test done is 2.96 sec, reward 443.397, steps 459\n",
      "Test done is 2.80 sec, reward 7.339, steps 459\n",
      "Test done is 2.91 sec, reward 255.531, steps 459\n",
      "Test done is 2.89 sec, reward 445.601, steps 459\n",
      "Test done is 2.84 sec, reward 451.312, steps 459\n",
      "Test done is 2.94 sec, reward 450.790, steps 459\n",
      "Test done is 2.78 sec, reward 450.827, steps 458\n",
      "Test done is 2.95 sec, reward -35.949, steps 459\n",
      "Test done is 2.77 sec, reward 54.035, steps 459\n",
      "Test done is 2.89 sec, reward 286.680, steps 459\n",
      "Test done is 2.88 sec, reward 450.832, steps 458\n",
      "Test done is 2.73 sec, reward 450.830, steps 458\n",
      "Test done is 2.97 sec, reward 294.879, steps 459\n",
      "Test done is 2.79 sec, reward 420.319, steps 459\n",
      "Test done is 2.91 sec, reward 450.827, steps 458\n",
      "Test done is 2.75 sec, reward 281.415, steps 459\n",
      "Test done is 2.85 sec, reward 39.212, steps 459\n",
      "Test done is 2.91 sec, reward -255.070, steps 459\n",
      "Test done is 2.73 sec, reward 450.833, steps 458\n",
      "Test done is 2.88 sec, reward 450.833, steps 458\n",
      "Test done is 2.79 sec, reward -440.026, steps 459\n",
      "Test done is 2.93 sec, reward -257.627, steps 459\n",
      "Test done is 2.84 sec, reward 450.831, steps 458\n",
      "Test done is 2.87 sec, reward 450.832, steps 458\n",
      "Test done is 2.93 sec, reward 450.832, steps 458\n",
      "Test done is 2.79 sec, reward 450.833, steps 458\n",
      "Test done is 2.86 sec, reward 450.823, steps 458\n",
      "Test done is 2.84 sec, reward 450.828, steps 458\n"
     ]
    },
    {
     "ename": "KeyboardInterrupt",
     "evalue": "",
     "output_type": "error",
     "traceback": [
      "\u001b[1;31m---------------------------------------------------------------------------\u001b[0m",
      "\u001b[1;31mKeyboardInterrupt\u001b[0m                         Traceback (most recent call last)",
      "\u001b[1;32m<ipython-input-185-a5b4accb2ba1>\u001b[0m in \u001b[0;36m<module>\u001b[1;34m\u001b[0m\n\u001b[0;32m     55\u001b[0m \u001b[1;33m\u001b[0m\u001b[0m\n\u001b[0;32m     56\u001b[0m     \u001b[0mloss_v\u001b[0m \u001b[1;33m=\u001b[0m \u001b[0mloss_policy_v\u001b[0m \u001b[1;33m+\u001b[0m \u001b[0mentropy_loss_v\u001b[0m \u001b[1;33m+\u001b[0m \u001b[0mloss_value_v\u001b[0m\u001b[1;33m\u001b[0m\u001b[1;33m\u001b[0m\u001b[0m\n\u001b[1;32m---> 57\u001b[1;33m     \u001b[0mloss_v\u001b[0m\u001b[1;33m.\u001b[0m\u001b[0mbackward\u001b[0m\u001b[1;33m(\u001b[0m\u001b[1;33m)\u001b[0m\u001b[1;33m\u001b[0m\u001b[1;33m\u001b[0m\u001b[0m\n\u001b[0m\u001b[0;32m     58\u001b[0m     \u001b[0moptimizer\u001b[0m\u001b[1;33m.\u001b[0m\u001b[0mstep\u001b[0m\u001b[1;33m(\u001b[0m\u001b[1;33m)\u001b[0m\u001b[1;33m\u001b[0m\u001b[1;33m\u001b[0m\u001b[0m\n",
      "\u001b[1;32m~\\.conda\\envs\\py_torch\\lib\\site-packages\\torch\\tensor.py\u001b[0m in \u001b[0;36mbackward\u001b[1;34m(self, gradient, retain_graph, create_graph)\u001b[0m\n\u001b[0;32m    148\u001b[0m                 \u001b[0mproducts\u001b[0m\u001b[1;33m.\u001b[0m \u001b[0mDefaults\u001b[0m \u001b[0mto\u001b[0m\u001b[0;31m \u001b[0m\u001b[0;31m`\u001b[0m\u001b[0;31m`\u001b[0m\u001b[1;32mFalse\u001b[0m\u001b[0;31m`\u001b[0m\u001b[0;31m`\u001b[0m\u001b[1;33m.\u001b[0m\u001b[1;33m\u001b[0m\u001b[1;33m\u001b[0m\u001b[0m\n\u001b[0;32m    149\u001b[0m         \"\"\"\n\u001b[1;32m--> 150\u001b[1;33m         \u001b[0mtorch\u001b[0m\u001b[1;33m.\u001b[0m\u001b[0mautograd\u001b[0m\u001b[1;33m.\u001b[0m\u001b[0mbackward\u001b[0m\u001b[1;33m(\u001b[0m\u001b[0mself\u001b[0m\u001b[1;33m,\u001b[0m \u001b[0mgradient\u001b[0m\u001b[1;33m,\u001b[0m \u001b[0mretain_graph\u001b[0m\u001b[1;33m,\u001b[0m \u001b[0mcreate_graph\u001b[0m\u001b[1;33m)\u001b[0m\u001b[1;33m\u001b[0m\u001b[1;33m\u001b[0m\u001b[0m\n\u001b[0m\u001b[0;32m    151\u001b[0m \u001b[1;33m\u001b[0m\u001b[0m\n\u001b[0;32m    152\u001b[0m     \u001b[1;32mdef\u001b[0m \u001b[0mregister_hook\u001b[0m\u001b[1;33m(\u001b[0m\u001b[0mself\u001b[0m\u001b[1;33m,\u001b[0m \u001b[0mhook\u001b[0m\u001b[1;33m)\u001b[0m\u001b[1;33m:\u001b[0m\u001b[1;33m\u001b[0m\u001b[1;33m\u001b[0m\u001b[0m\n",
      "\u001b[1;32m~\\.conda\\envs\\py_torch\\lib\\site-packages\\torch\\autograd\\__init__.py\u001b[0m in \u001b[0;36mbackward\u001b[1;34m(tensors, grad_tensors, retain_graph, create_graph, grad_variables)\u001b[0m\n\u001b[0;32m     97\u001b[0m     Variable._execution_engine.run_backward(\n\u001b[0;32m     98\u001b[0m         \u001b[0mtensors\u001b[0m\u001b[1;33m,\u001b[0m \u001b[0mgrad_tensors\u001b[0m\u001b[1;33m,\u001b[0m \u001b[0mretain_graph\u001b[0m\u001b[1;33m,\u001b[0m \u001b[0mcreate_graph\u001b[0m\u001b[1;33m,\u001b[0m\u001b[1;33m\u001b[0m\u001b[1;33m\u001b[0m\u001b[0m\n\u001b[1;32m---> 99\u001b[1;33m         allow_unreachable=True)  # allow_unreachable flag\n\u001b[0m\u001b[0;32m    100\u001b[0m \u001b[1;33m\u001b[0m\u001b[0m\n\u001b[0;32m    101\u001b[0m \u001b[1;33m\u001b[0m\u001b[0m\n",
      "\u001b[1;31mKeyboardInterrupt\u001b[0m: "
     ]
    }
   ],
   "source": [
    "GAMMA = 0.999\n",
    "REWARD_STEPS = 3\n",
    "BATCH_SIZE = 64\n",
    "LEARNING_RATE = 1e-4\n",
    "ENTROPY_BETA = 1e-6\n",
    "\n",
    "TEST_ITERS = 5000\n",
    "\n",
    "exp_source = ptan.experience.ExperienceSourceFirstLast(env, agent, GAMMA, \n",
    "                                                       steps_count=REWARD_STEPS)\n",
    "\n",
    "optimizer = optim.Adam(net.parameters(), lr=LEARNING_RATE)\n",
    "\n",
    "batch = []\n",
    "best_reward = None\n",
    "\n",
    "#reward_100 = collections.deque(maxlen=100)\n",
    "    \n",
    "for step_idx, exp in enumerate(exp_source):\n",
    "    rewards_steps = exp_source.pop_rewards_steps()\n",
    "    if rewards_steps:\n",
    "        rewards, steps = zip(*rewards_steps)\n",
    "        #reward_100.append(rewards[0])\n",
    "\n",
    "    if step_idx % TEST_ITERS == 0:\n",
    "        ts = time.time()\n",
    "        rewards, steps = test_net(net, test_env, device=device)\n",
    "        print(\"Test done is %.2f sec, reward %.3f, steps %d\" %\\\n",
    "              (time.time() - ts, rewards, steps))\n",
    "        #writer.add_scalar(\"test_reward\", rewards, step_idx)\n",
    "        #writer.add_scalar(\"test_steps\", steps, step_idx)\n",
    "        if (best_reward is None) or (best_reward < rewards):\n",
    "            if best_reward is not None:\n",
    "                print(\"Best reward updated: %.8f -> %.8f\" % (best_reward, rewards))\n",
    "            best_reward = rewards\n",
    "\n",
    "    batch.append(exp)\n",
    "    if len(batch) < BATCH_SIZE:\n",
    "        continue\n",
    "\n",
    "    states_v, actions_v, vals_ref_v = unpack_batch_a2c(batch, net, device=device,\n",
    "                                                       last_val_gamma=GAMMA**REWARD_STEPS)\n",
    "    batch.clear()\n",
    "\n",
    "    optimizer.zero_grad()\n",
    "    \n",
    "    mu_v, var_v, value_v = net(states_v)\n",
    "    loss_value_v = F.mse_loss(value_v.squeeze(-1), vals_ref_v)\n",
    "\n",
    "    adv_v = vals_ref_v.unsqueeze(dim=-1) - value_v.detach()\n",
    "    log_prob_v = adv_v * calc_logprob(mu_v, var_v, actions_v)\n",
    "    loss_policy_v = -log_prob_v.mean()\n",
    "    ent_v = -(torch.log(2*np.pi*var_v) + 1)/2\n",
    "    entropy_loss_v = ENTROPY_BETA * ent_v.mean()\n",
    "\n",
    "    loss_v = loss_policy_v + entropy_loss_v + loss_value_v\n",
    "    loss_v.backward()\n",
    "    optimizer.step()"
   ]
  },
  {
   "cell_type": "code",
   "execution_count": 186,
   "metadata": {},
   "outputs": [
    {
     "data": {
      "text/plain": [
       "tensor([[1.0000e+00, 0.0000e+00, 0.0000e+00, 0.0000e+00],\n",
       "        [1.0000e+00, 0.0000e+00, 0.0000e+00, 0.0000e+00],\n",
       "        [1.0000e+00, 0.0000e+00, 0.0000e+00, 0.0000e+00],\n",
       "        [1.0000e+00, 0.0000e+00, 0.0000e+00, 0.0000e+00],\n",
       "        [1.0000e+00, 0.0000e+00, 0.0000e+00, 0.0000e+00],\n",
       "        [1.0000e+00, 0.0000e+00, 0.0000e+00, 0.0000e+00],\n",
       "        [1.0000e+00, 0.0000e+00, 0.0000e+00, 0.0000e+00],\n",
       "        [1.0000e+00, 0.0000e+00, 0.0000e+00, 0.0000e+00],\n",
       "        [1.0000e+00, 0.0000e+00, 0.0000e+00, 0.0000e+00],\n",
       "        [1.0000e+00, 0.0000e+00, 0.0000e+00, 0.0000e+00],\n",
       "        [1.0000e+00, 0.0000e+00, 0.0000e+00, 0.0000e+00],\n",
       "        [1.0000e+00, 0.0000e+00, 0.0000e+00, 0.0000e+00],\n",
       "        [1.0000e+00, 0.0000e+00, 0.0000e+00, 0.0000e+00],\n",
       "        [1.0000e+00, 0.0000e+00, 0.0000e+00, 0.0000e+00],\n",
       "        [1.0000e+00, 0.0000e+00, 0.0000e+00, 0.0000e+00],\n",
       "        [1.0000e+00, 0.0000e+00, 0.0000e+00, 0.0000e+00],\n",
       "        [1.0000e+00, 0.0000e+00, 0.0000e+00, 0.0000e+00],\n",
       "        [1.0000e+00, 0.0000e+00, 0.0000e+00, 0.0000e+00],\n",
       "        [1.0000e+00, 0.0000e+00, 0.0000e+00, 0.0000e+00],\n",
       "        [1.0000e+00, 0.0000e+00, 0.0000e+00, 0.0000e+00],\n",
       "        [1.0000e+00, 0.0000e+00, 0.0000e+00, 0.0000e+00],\n",
       "        [1.0000e+00, 0.0000e+00, 0.0000e+00, 0.0000e+00],\n",
       "        [1.0000e+00, 0.0000e+00, 0.0000e+00, 0.0000e+00],\n",
       "        [1.0000e+00, 4.4071e-05, 5.8588e-08, 3.7754e-05],\n",
       "        [1.0000e+00, 0.0000e+00, 0.0000e+00, 0.0000e+00],\n",
       "        [1.0000e+00, 0.0000e+00, 0.0000e+00, 0.0000e+00],\n",
       "        [1.0000e+00, 0.0000e+00, 0.0000e+00, 0.0000e+00],\n",
       "        [1.0000e+00, 0.0000e+00, 0.0000e+00, 0.0000e+00],\n",
       "        [1.0000e+00, 0.0000e+00, 0.0000e+00, 0.0000e+00],\n",
       "        [1.0000e+00, 0.0000e+00, 0.0000e+00, 0.0000e+00],\n",
       "        [1.0000e+00, 0.0000e+00, 0.0000e+00, 0.0000e+00],\n",
       "        [1.0000e+00, 0.0000e+00, 0.0000e+00, 0.0000e+00],\n",
       "        [1.0000e+00, 0.0000e+00, 0.0000e+00, 0.0000e+00],\n",
       "        [1.0000e+00, 0.0000e+00, 0.0000e+00, 0.0000e+00],\n",
       "        [1.0000e+00, 0.0000e+00, 0.0000e+00, 0.0000e+00],\n",
       "        [1.0000e+00, 0.0000e+00, 0.0000e+00, 0.0000e+00],\n",
       "        [1.0000e+00, 0.0000e+00, 0.0000e+00, 0.0000e+00],\n",
       "        [1.0000e+00, 0.0000e+00, 0.0000e+00, 0.0000e+00],\n",
       "        [1.0000e+00, 0.0000e+00, 0.0000e+00, 0.0000e+00],\n",
       "        [1.0000e+00, 0.0000e+00, 0.0000e+00, 0.0000e+00],\n",
       "        [1.0000e+00, 0.0000e+00, 0.0000e+00, 0.0000e+00],\n",
       "        [1.0000e+00, 0.0000e+00, 0.0000e+00, 0.0000e+00],\n",
       "        [1.0000e+00, 0.0000e+00, 0.0000e+00, 0.0000e+00],\n",
       "        [1.0000e+00, 0.0000e+00, 0.0000e+00, 0.0000e+00],\n",
       "        [1.0000e+00, 0.0000e+00, 0.0000e+00, 0.0000e+00],\n",
       "        [1.0000e+00, 0.0000e+00, 0.0000e+00, 0.0000e+00],\n",
       "        [1.0000e+00, 0.0000e+00, 0.0000e+00, 0.0000e+00],\n",
       "        [1.0000e+00, 0.0000e+00, 0.0000e+00, 0.0000e+00],\n",
       "        [1.0000e+00, 0.0000e+00, 0.0000e+00, 0.0000e+00],\n",
       "        [1.0000e+00, 0.0000e+00, 0.0000e+00, 0.0000e+00],\n",
       "        [1.0000e+00, 0.0000e+00, 0.0000e+00, 0.0000e+00],\n",
       "        [1.0000e+00, 0.0000e+00, 0.0000e+00, 0.0000e+00],\n",
       "        [1.0000e+00, 0.0000e+00, 0.0000e+00, 0.0000e+00],\n",
       "        [1.0000e+00, 0.0000e+00, 0.0000e+00, 0.0000e+00],\n",
       "        [1.0000e+00, 0.0000e+00, 0.0000e+00, 0.0000e+00],\n",
       "        [1.0000e+00, 0.0000e+00, 0.0000e+00, 0.0000e+00],\n",
       "        [1.0000e+00, 1.3279e-04, 6.0278e-08, 3.8842e-05],\n",
       "        [1.0000e+00, 0.0000e+00, 0.0000e+00, 0.0000e+00],\n",
       "        [1.0000e+00, 0.0000e+00, 0.0000e+00, 0.0000e+00],\n",
       "        [1.0000e+00, 0.0000e+00, 0.0000e+00, 0.0000e+00],\n",
       "        [1.0000e+00, 0.0000e+00, 0.0000e+00, 0.0000e+00],\n",
       "        [1.0000e+00, 0.0000e+00, 0.0000e+00, 0.0000e+00],\n",
       "        [1.0000e+00, 0.0000e+00, 0.0000e+00, 0.0000e+00],\n",
       "        [1.0000e+00, 0.0000e+00, 0.0000e+00, 0.0000e+00]], device='cuda:0')"
      ]
     },
     "execution_count": 186,
     "metadata": {},
     "output_type": "execute_result"
    }
   ],
   "source": [
    "states_v"
   ]
  },
  {
   "cell_type": "code",
   "execution_count": 187,
   "metadata": {},
   "outputs": [
    {
     "data": {
      "text/plain": [
       "tensor([[ 0.2303,  0.1773],\n",
       "        [-0.1050, -0.6177],\n",
       "        [-0.3518, -0.5366],\n",
       "        [ 0.2080,  0.1993],\n",
       "        [-0.2473, -1.5245],\n",
       "        [-0.1059,  0.5929],\n",
       "        [ 0.5547, -0.4433],\n",
       "        [ 0.9824, -0.4467],\n",
       "        [ 0.1581, -0.1858],\n",
       "        [ 0.5029,  0.1782],\n",
       "        [ 0.2030, -0.5476],\n",
       "        [ 0.8845, -0.2801],\n",
       "        [ 0.4903, -1.0380],\n",
       "        [-0.6008, -0.7062],\n",
       "        [-0.3537,  0.0331],\n",
       "        [-0.1133,  0.1747],\n",
       "        [ 0.3445, -0.4277],\n",
       "        [ 0.1424,  0.3348],\n",
       "        [-0.5533,  0.1086],\n",
       "        [ 0.4033,  0.4684],\n",
       "        [ 0.5011,  0.0674],\n",
       "        [ 0.1518, -0.4384],\n",
       "        [ 1.0142, -0.7910],\n",
       "        [-0.5758, -0.5316],\n",
       "        [-0.1780, -0.3911],\n",
       "        [-0.2289, -0.5581],\n",
       "        [ 0.5057, -0.0875],\n",
       "        [ 0.7676, -0.1904],\n",
       "        [ 0.7590,  0.5906],\n",
       "        [-0.0505, -0.0583],\n",
       "        [ 0.2575, -1.3148],\n",
       "        [ 0.0963, -0.7912],\n",
       "        [ 0.0643, -0.2275],\n",
       "        [-0.1130, -0.1836],\n",
       "        [ 0.7432, -0.3411],\n",
       "        [ 0.8766,  0.1871],\n",
       "        [ 0.2144, -0.7344],\n",
       "        [ 0.2996, -0.2295],\n",
       "        [-0.4901,  0.9061],\n",
       "        [ 0.0621,  0.5250],\n",
       "        [ 0.6009, -0.1949],\n",
       "        [ 0.3024, -1.3471],\n",
       "        [ 0.3522, -0.2664],\n",
       "        [ 0.4900, -0.5983],\n",
       "        [ 0.3333, -1.4905],\n",
       "        [-0.3215,  0.0378],\n",
       "        [ 0.1238,  0.4789],\n",
       "        [-0.1202, -0.0836],\n",
       "        [ 0.8820, -0.8543],\n",
       "        [-0.0878,  0.2301],\n",
       "        [ 0.5441, -0.7942],\n",
       "        [-0.4793, -0.2556],\n",
       "        [ 0.3878, -1.0327],\n",
       "        [-0.0623, -0.4057],\n",
       "        [ 0.0033, -0.2234],\n",
       "        [ 1.0428,  0.1544],\n",
       "        [ 0.3717, -0.1949],\n",
       "        [-0.5777,  0.1089],\n",
       "        [ 0.8029, -0.2243],\n",
       "        [ 0.1994, -0.5759],\n",
       "        [-0.1374, -0.5264],\n",
       "        [-0.2910, -0.5684],\n",
       "        [ 0.4372, -0.9216],\n",
       "        [-1.0658, -0.2860]], device='cuda:0')"
      ]
     },
     "execution_count": 187,
     "metadata": {},
     "output_type": "execute_result"
    }
   ],
   "source": [
    "actions_v"
   ]
  },
  {
   "cell_type": "code",
   "execution_count": 188,
   "metadata": {},
   "outputs": [
    {
     "data": {
      "text/plain": [
       "tensor([0.9855, 0.9857, 0.9857, 0.9856, 0.9856, 0.9857, 0.9853, 0.9850, 0.9856,\n",
       "        0.9854, 0.9855, 0.9851, 0.9853, 0.9856, 0.9857, 0.9857, 0.9854, 0.9856,\n",
       "        0.9857, 0.9854, 0.9854, 0.9856, 1.9696, 0.9857, 0.9857, 0.9857, 0.9854,\n",
       "        0.9852, 0.9851, 0.9857, 0.9854, 0.9856, 0.9856, 0.9857, 0.9852, 0.9851,\n",
       "        0.9855, 0.9855, 0.9856, 0.9856, 0.9853, 0.9854, 0.9855, 0.9853, 0.9854,\n",
       "        0.9857, 0.9856, 0.9857, 0.9850, 0.9857, 0.9853, 0.9857, 0.9854, 0.9857,\n",
       "        0.9857, 1.9695, 0.9854, 0.9857, 0.9852, 0.9855, 0.9857, 0.9857, 0.9853,\n",
       "        0.9857], device='cuda:0')"
      ]
     },
     "execution_count": 188,
     "metadata": {},
     "output_type": "execute_result"
    }
   ],
   "source": [
    "vals_ref_v"
   ]
  },
  {
   "cell_type": "code",
   "execution_count": 189,
   "metadata": {},
   "outputs": [
    {
     "data": {
      "text/plain": [
       "(tensor([[ 6.5464, -0.4173]], device='cuda:0', grad_fn=<AddmmBackward>),\n",
       " tensor([[0.0378, 0.1317]], device='cuda:0', grad_fn=<AbsBackward>),\n",
       " tensor([[1.0399]], device='cuda:0', grad_fn=<AddmmBackward>))"
      ]
     },
     "execution_count": 189,
     "metadata": {},
     "output_type": "execute_result"
    }
   ],
   "source": [
    "s = env.reset()\n",
    "s_v = torch.FloatTensor([s]).to(device)\n",
    "net(s_v)"
   ]
  },
  {
   "cell_type": "code",
   "execution_count": 192,
   "metadata": {},
   "outputs": [
    {
     "data": {
      "text/plain": [
       "(450.82352537520273, 458.0)"
      ]
     },
     "execution_count": 192,
     "metadata": {},
     "output_type": "execute_result"
    }
   ],
   "source": [
    "test_net(net, test_env, count=1, device=device)\n",
    "#test_net(up_net, test_env, count=1)"
   ]
  },
  {
   "cell_type": "code",
   "execution_count": 193,
   "metadata": {},
   "outputs": [
    {
     "data": {
      "image/png": "[encoded data removed]",
      "text/plain": [
       "<Figure size 500x500 with 1 Axes>"
      ]
     },
     "metadata": {},
     "output_type": "display_data"
    },
    {
     "data": {
      "image/png": "[encoded data removed]",
      "text/plain": [
       "<Figure size 500x500 with 3 Axes>"
      ]
     },
     "metadata": {},
     "output_type": "display_data"
    }
   ],
   "source": [
    "sns.set_style('whitegrid')\n",
    "test_env.render(sample_traj_rate=50)"
   ]
  },
  {
   "cell_type": "markdown",
   "metadata": {},
   "source": [
    "## Vanilla Policy Gradient Method"
   ]
  },
  {
   "cell_type": "code",
   "execution_count": 177,
   "metadata": {},
   "outputs": [
    {
     "name": "stdout",
     "output_type": "stream",
     "text": [
      "using device:  cpu\n"
     ]
    },
    {
     "data": {
      "text/plain": [
       "PGN(\n",
       "  (actions_mu): Sequential(\n",
       "    (0): Linear(in_features=4, out_features=128, bias=True)\n",
       "    (1): ReLU()\n",
       "    (2): Linear(in_features=128, out_features=2, bias=True)\n",
       "  )\n",
       "  (actions_var): Sequential(\n",
       "    (0): Linear(in_features=4, out_features=128, bias=True)\n",
       "    (1): ReLU()\n",
       "    (2): Linear(in_features=128, out_features=2, bias=True)\n",
       "  )\n",
       "  (values): Sequential(\n",
       "    (0): Linear(in_features=4, out_features=128, bias=True)\n",
       "    (1): ReLU()\n",
       "    (2): Linear(in_features=128, out_features=1, bias=True)\n",
       "  )\n",
       ")"
      ]
     },
     "execution_count": 177,
     "metadata": {},
     "output_type": "execute_result"
    }
   ],
   "source": [
    "device = torch.device(\"cuda\" if torch.cuda.is_available() else \"cpu\")\n",
    "print('using device: ',device)\n",
    "\n",
    "HIDDEN_SIZE = 128\n",
    "\n",
    "class PGN(nn.Module):\n",
    "    def __init__(self, in_size):\n",
    "        super(PGN,self).__init__()\n",
    "        \n",
    "        self.actions_mu = nn.Sequential(\n",
    "            nn.Linear(in_size, HIDDEN_SIZE),\n",
    "            nn.ReLU(),\n",
    "            nn.Linear(HIDDEN_SIZE, 2)\n",
    "        )\n",
    "    \n",
    "        self.actions_var = nn.Sequential(\n",
    "            nn.Linear(in_size, HIDDEN_SIZE),\n",
    "            nn.ReLU(),\n",
    "            nn.Linear(HIDDEN_SIZE, 2)\n",
    "        )\n",
    "        \n",
    "        self.values =  nn.Sequential(\n",
    "            nn.Linear(in_size, HIDDEN_SIZE),\n",
    "            nn.ReLU(),\n",
    "            nn.Linear(HIDDEN_SIZE, 1)\n",
    "        )\n",
    "    \n",
    "    def __call__(self, x):\n",
    "        return self.actions_mu(x), self.actions_var(x), self.values(x)\n",
    "    \n",
    "policy_net = PGN(4).to(device)\n",
    "\n",
    "policy_net"
   ]
  },
  {
   "cell_type": "code",
   "execution_count": 149,
   "metadata": {},
   "outputs": [],
   "source": [
    "ridx = np.random.choice(range(len(traj_s)),size = 1000)\n",
    "states_v = torch.FloatTensor(np.array(traj_s)[ridx])\n",
    "actions_v = torch.LongTensor(np.array(traj_a)[ridx])\n",
    "#actions_v = torch.eye(4)[traj_a]"
   ]
  },
  {
   "cell_type": "code",
   "execution_count": 178,
   "metadata": {},
   "outputs": [],
   "source": [
    "optimizer = optim.Adam(policy_net.parameters(), lr=0.001)"
   ]
  },
  {
   "cell_type": "code",
   "execution_count": 152,
   "metadata": {},
   "outputs": [
    {
     "name": "stdout",
     "output_type": "stream",
     "text": [
      "0.611042857170105\n",
      "0.07870986312627792\n",
      "0.04247419536113739\n",
      "0.029623961076140404\n",
      "0.0246701892465353\n",
      "0.022615090012550354\n",
      "0.021483683958649635\n",
      "0.020682865753769875\n",
      "0.01997537910938263\n",
      "0.019331539049744606\n",
      "0.01875515654683113\n",
      "0.018252111971378326\n",
      "0.017818685621023178\n",
      "0.01744617521762848\n",
      "0.01712161675095558\n",
      "0.016824597492814064\n",
      "0.01656264252960682\n",
      "0.01633056439459324\n",
      "0.016125833615660667\n",
      "0.015943657606840134\n",
      "0.015776731073856354\n",
      "0.015621383674442768\n",
      "0.015472836792469025\n",
      "0.015327652916312218\n",
      "0.01518517266958952\n",
      "0.015045098960399628\n",
      "0.01490660198032856\n",
      "0.01477011013776064\n",
      "0.014637439511716366\n",
      "0.014506872743368149\n",
      "0.014379916712641716\n",
      "0.014262971468269825\n",
      "0.014149095863103867\n",
      "0.014043898321688175\n",
      "0.013938740827143192\n",
      "0.01384030096232891\n",
      "0.013742691837251186\n",
      "0.013647002167999744\n",
      "0.013478003442287445\n",
      "0.013384887017309666\n",
      "0.013283448293805122\n",
      "0.013193108141422272\n",
      "0.013111486099660397\n",
      "0.01303156465291977\n",
      "0.012958995997905731\n",
      "0.012887602671980858\n",
      "0.012806102633476257\n",
      "0.012738815508782864\n",
      "0.012670562602579594\n",
      "0.01261019054800272\n"
     ]
    }
   ],
   "source": [
    "for e in range(5000):\n",
    "    optimizer.zero_grad()\n",
    "    mu_v, var_v, _ = policy_net(states_v)\n",
    "    \n",
    "    loss_v = ((mu_v - actions_v)**2).mean()\n",
    "    loss_v.backward()\n",
    "    optimizer.step()\n",
    "    \n",
    "    if e % 100 == 0:\n",
    "        print(loss_v.item())"
   ]
  },
  {
   "cell_type": "code",
   "execution_count": 162,
   "metadata": {},
   "outputs": [],
   "source": [
    "state = env.reset()\n",
    "episode_R = 0.0\n",
    "\n",
    "while True:\n",
    "    state_v = torch.FloatTensor([state])\n",
    "    mu_v, var_v, _ = policy_net(state_v)\n",
    "    mu = mu_v.data.cpu().numpy()[0]\n",
    "    \n",
    "    state, reward, is_done, _ = env.step(mu)\n",
    "    episode_R += reward\n",
    "    if is_done:\n",
    "        break"
   ]
  },
  {
   "cell_type": "code",
   "execution_count": 163,
   "metadata": {},
   "outputs": [
    {
     "data": {
      "text/plain": [
       "-631.6050344747143"
      ]
     },
     "execution_count": 163,
     "metadata": {},
     "output_type": "execute_result"
    }
   ],
   "source": [
    "episode_R"
   ]
  },
  {
   "cell_type": "code",
   "execution_count": 164,
   "metadata": {},
   "outputs": [
    {
     "data": {
      "image/png": "[encoded data removed]",
      "text/plain": [
       "<Figure size 500x500 with 1 Axes>"
      ]
     },
     "metadata": {},
     "output_type": "display_data"
    },
    {
     "data": {
      "image/png": "[encoded data removed]",
      "text/plain": [
       "<Figure size 500x500 with 3 Axes>"
      ]
     },
     "metadata": {},
     "output_type": "display_data"
    }
   ],
   "source": [
    "sns.set_style('whitegrid')\n",
    "env.render()"
   ]
  },
  {
   "cell_type": "code",
   "execution_count": 171,
   "metadata": {},
   "outputs": [],
   "source": [
    "def calc_logprob(mu_v, var_v, actions_v):\n",
    "    p1 = - ((mu_v - actions_v) ** 2) / (2*var_v.clamp(min=1e-3))\n",
    "    p2 = - torch.log(torch.sqrt(2 * np.pi * var_v))\n",
    "    return p1 + p2"
   ]
  },
  {
   "cell_type": "code",
   "execution_count": 181,
   "metadata": {},
   "outputs": [
    {
     "name": "stdout",
     "output_type": "stream",
     "text": [
      "tensor([[-0.2690,  0.1209],\n",
      "        [-0.2690,  0.1209],\n",
      "        [-0.2690,  0.1209],\n",
      "        [-0.2690,  0.1209],\n",
      "        [-0.2690,  0.1209],\n",
      "        [-0.2690,  0.1209],\n",
      "        [-0.2690,  0.1209],\n",
      "        [-0.2690,  0.1209],\n",
      "        [-0.2690,  0.1209],\n",
      "        [-0.2690,  0.1209]], grad_fn=<AddBackward0>)\n"
     ]
    },
    {
     "ename": "RuntimeError",
     "evalue": "The size of tensor a (10) must match the size of tensor b (2) at non-singleton dimension 1",
     "output_type": "error",
     "traceback": [
      "\u001b[0;31m---------------------------------------------------------------------------\u001b[0m",
      "\u001b[0;31mRuntimeError\u001b[0m                              Traceback (most recent call last)",
      "\u001b[0;32m<ipython-input-181-a737a5f934d4>\u001b[0m in \u001b[0;36m<module>\u001b[0;34m\u001b[0m\n\u001b[1;32m    106\u001b[0m         \u001b[0mprint\u001b[0m\u001b[0;34m(\u001b[0m\u001b[0mlog_prob_v\u001b[0m\u001b[0;34m)\u001b[0m\u001b[0;34m\u001b[0m\u001b[0;34m\u001b[0m\u001b[0m\n\u001b[1;32m    107\u001b[0m         \u001b[0;31m# Policy Loss\u001b[0m\u001b[0;34m\u001b[0m\u001b[0;34m\u001b[0m\u001b[0;34m\u001b[0m\u001b[0m\n\u001b[0;32m--> 108\u001b[0;31m         \u001b[0mloss_v\u001b[0m \u001b[0;34m=\u001b[0m \u001b[0;34m(\u001b[0m\u001b[0msample_Rs_v\u001b[0m\u001b[0;34m-\u001b[0m\u001b[0mvalues_v\u001b[0m\u001b[0;34m.\u001b[0m\u001b[0mdetach\u001b[0m\u001b[0;34m(\u001b[0m\u001b[0;34m)\u001b[0m\u001b[0;34m)\u001b[0m\u001b[0;34m*\u001b[0m\u001b[0mlog_prob_v\u001b[0m\u001b[0;34m\u001b[0m\u001b[0;34m\u001b[0m\u001b[0m\n\u001b[0m\u001b[1;32m    109\u001b[0m \u001b[0;34m\u001b[0m\u001b[0m\n\u001b[1;32m    110\u001b[0m         \u001b[0;31m# total loss, minimize this\u001b[0m\u001b[0;34m\u001b[0m\u001b[0;34m\u001b[0m\u001b[0;34m\u001b[0m\u001b[0m\n",
      "\u001b[0;31mRuntimeError\u001b[0m: The size of tensor a (10) must match the size of tensor b (2) at non-singleton dimension 1"
     ]
    }
   ],
   "source": []
  },
  {
   "cell_type": "code",
   "execution_count": 174,
   "metadata": {},
   "outputs": [
    {
     "name": "stdout",
     "output_type": "stream",
     "text": [
      "-1572.8280186113989 4055.6625553967274\n"
     ]
    },
    {
     "data": {
      "image/png": "[encoded data removed]",
      "text/plain": [
       "<Figure size 432x288 with 1 Axes>"
      ]
     },
     "metadata": {},
     "output_type": "display_data"
    }
   ],
   "source": [
    "print(np.mean(total_rewards), np.std(total_rewards))\n",
    "sns.distplot(total_rewards,kde=False);"
   ]
  },
  {
   "cell_type": "code",
   "execution_count": 176,
   "metadata": {},
   "outputs": [
    {
     "name": "stdout",
     "output_type": "stream",
     "text": [
      "Episode Reward:  -1105.2090478697733\n"
     ]
    },
    {
     "data": {
      "image/png": "[encoded data removed]",
      "text/plain": [
       "<Figure size 500x500 with 1 Axes>"
      ]
     },
     "metadata": {},
     "output_type": "display_data"
    },
    {
     "data": {
      "image/png": "[encoded data removed]",
      "text/plain": [
       "<Figure size 500x500 with 3 Axes>"
      ]
     },
     "metadata": {},
     "output_type": "display_data"
    }
   ],
   "source": [
    "s = env.reset()\n",
    "\n",
    "episode_reward = 0.0\n",
    "\n",
    "program_cmd_history = []\n",
    "\n",
    "done = False\n",
    "while not done:\n",
    "    s_v = torch.FloatTensor(s).unsqueeze(0).to(device)\n",
    "    mu_v, var_v, _ = policy_net(s_v)\n",
    "    mu = mu_v.data.cpu().numpy()\n",
    "    var = var_v.data.cpu().numpy()\n",
    "    a = [np.random.normal(loc=mu[0,0],scale=np.abs(var[0,0])),\n",
    "         np.random.normal(loc=mu[0,1],scale=np.abs(var[0,1]))]\n",
    "\n",
    "    program_cmd_history.append(a)    \n",
    "    s, r, done,_ = env.step(a)\n",
    "    episode_reward +=r\n",
    "\n",
    "print('Episode Reward: ', episode_reward)\n",
    "sns.set_style('darkgrid')\n",
    "env.render()"
   ]
  },
  {
   "cell_type": "code",
   "execution_count": 95,
   "metadata": {},
   "outputs": [
    {
     "data": {
      "image/png": "[encoded data removed]",
      "text/plain": [
       "<Figure size 1000x300 with 1 Axes>"
      ]
     },
     "metadata": {},
     "output_type": "display_data"
    }
   ],
   "source": [
    "plt.figure(figsize=(10,3), dpi=100)\n",
    "plt.plot(program_cmd_history);"
   ]
  },
  {
   "cell_type": "code",
   "execution_count": null,
   "metadata": {},
   "outputs": [],
   "source": []
  }
 ],
 "metadata": {
  "kernelspec": {
   "display_name": "Python 3",
   "language": "python",
   "name": "python3"
  },
  "language_info": {
   "codemirror_mode": {
    "name": "ipython",
    "version": 3
   },
   "file_extension": ".py",
   "mimetype": "text/x-python",
   "name": "python",
   "nbconvert_exporter": "python",
   "pygments_lexer": "ipython3",
   "version": "3.6.9"
  }
 },
 "nbformat": 4,
 "nbformat_minor": 2
}
