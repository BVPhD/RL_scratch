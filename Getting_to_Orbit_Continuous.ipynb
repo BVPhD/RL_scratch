{
 "cells": [
  {
   "cell_type": "code",
   "execution_count": 2,
   "metadata": {},
   "outputs": [],
   "source": [
    "import matplotlib.pyplot as plt\n",
    "import seaborn as sns\n",
    "import time\n",
    "\n",
    "import gym\n",
    "import numpy as np\n",
    "import os\n",
    "import ptan\n",
    "\n",
    "import torch\n",
    "import torch.nn as nn\n",
    "import torch.nn.functional as F\n",
    "import torch.optim as optim\n",
    "\n",
    "import collections\n",
    "\n",
    "import seaborn as sns\n",
    "\n",
    "sns.set_style('darkgrid')"
   ]
  },
  {
   "cell_type": "markdown",
   "metadata": {},
   "source": [
    "# Target Orbit Env\n",
    "\n",
    "### Problem: \n",
    "What is the policy that allows you to stay above the surface of the circular 2-D planet for as long as possible as near as possible to the target altitude with expending the least amount of energy (making actions).\n",
    "\n",
    "### The Math:\n",
    "For the 2D circular problem, we're solving a physics problem described by the Lagrangian,\n",
    "\n",
    "$\\mathcal{L} = \\frac{1}{2}(\\dot{r}^2+r^2 \\dot{\\theta}^2) + \\frac{GM}{r}$ \n",
    "\n",
    "To make the problem accessable via computation, we choose a natural set of units such that,\n",
    "\n",
    "$GM = 1 \\ ln^3/tn^2$, $R_{\\rm planet} = 1 \\ ln$\n",
    "\n",
    "where $ln$ is a \"natural length\" and $tn$ is a \"natural time\" for the problem. The solution to the Lagrangian minimization problem gives the differential equation sets below.\n",
    "\n",
    "$\\frac{d}{dt}\\left(\\frac{d \\mathcal{L}}{d\\dot{r}}\\right) = \\frac{d \\mathcal{L}}{dr} \\rightarrow \\ddot{r} = r \\dot{\\theta}^2 - \\frac{1}{r^2}$\n",
    "\n",
    "$\\frac{d}{dt}\\left(\\frac{d \\mathcal{L}}{d\\dot{\\theta}}\\right) = \\frac{d \\mathcal{L}}{d\\theta} \\rightarrow \\frac{d}{dt}\\left(r^2 \\dot{\\theta} \\right) = 0 \\rightarrow  \\ddot{\\theta} = -2 \\frac{\\dot{r}}{r} \\dot{\\theta}$ \n",
    "\n",
    "### Example Unit Converstion:\n",
    "Let's look at an example to understand the natural units of the problem, ie we'll use the radius of the Earth as the natural length, and the mass of the Earth as our planet mass.\n",
    "\n",
    "$1 \\ ln = 6 \\times 10^6 \\ m$\n",
    "\n",
    "$GM = \\left(6.67 \\times 10^{-11} \\ \\frac{m^3}{kg \\ s^2} \\right) * \\left(6 \\times 10^{24} \\ kg \\right) = \\left(4 \\times 10^{14} \\ \\frac{m^3}{s^2} \\right)* \\left(1 \\ \\frac{ln}{6 \\times 10^6 \\ m} \\right)^3 \\left(X \\ \\frac{s}{tn} \\right)^2 = 1 \\ \\frac{ln^3}{tn^2}$\n",
    "\n",
    "$\\left(1.85 \\times 10^{-6} \\right) \\ X^2 = 1 \\rightarrow X = 734.66$\n",
    "\n",
    "$1 \\ s = 0.0013 \\ tn$\n",
    "\n",
    "\n",
    "### Reward Conditions:\n",
    "What is the reward function for this problem?\n",
    "\n",
    "One we want to reward the agent for each step of staying above the surface, and end the episode upon contact with the surface.\n",
    "\n",
    "$r(s,a) = FR$ if $r > 1.0 \\ ln$, where $FR > 0$ is the flight reward.\n",
    "\n",
    "We want the agent to get as close to the target altitute as possible so a penality function is appropriate when the agent isn't at the target altitute.\n",
    "\n",
    "$r(s,a) = -\\lambda_t ||r - R_t||_n$\n",
    "\n",
    "where $\\lambda_t > 0$ is the importance of how rapidly the agent should get to the altitude, as well we have $n$ which we dont know if the L2 or L1 norm is best for this problem.\n",
    "\n",
    "We also need to penalize the agent for making any actions at all, ie rotating the vehicle orientation or firing the main engine.  It doesn't make much sense for the same energy expenditure for firing the main engine vs changing the agent's oreientation, so we will have main engine penality $ME$ and orientation penality $OP$, such that our final reward function looks like.\n",
    "\n",
    "\n",
    "$r(s,a) = FR -\\lambda_t ||r - R_t||_n - ME(a) - OP(a)$\n",
    "\n",
    "### Giving our Agent a Hint:\n",
    "It could take a very long time for the agent to randomly find the optimal trajectory so we can do two things to help our agent find what we're looking for more rapidly. \n",
    "\n",
    "1) We can pretrain our agent with a simple policy that has the agent rotating more tangentially to the surface of the planet as it asscends.\n",
    "\n",
    "2) We can add another penality term to the reward that penalizes the agent not having an the correct orbital angular velocity for the selected target altitude.\n",
    "\n",
    "\n",
    "Circular orbital velocity in natural units:\n",
    "\n",
    "$\\ddot{r} = r \\dot{\\theta}^2 - \\frac{1}{r^2} = 0$\n",
    "\n",
    "$\\dot{\\theta} = R_t^{-3/2}$\n",
    "\n",
    "And how long is a circular orbtial period in natural units?\n",
    "\n",
    "$T = \\frac{2\\pi}{\\dot{\\theta}} = 2\\pi R_t^{3/2}$\n",
    "\n",
    "We can use this time to stop the episode if the time running is exceedingly longer than this measure.\n",
    "\n",
    "### Example:\n",
    "If the target altitude is $R_t = 2 \\ ln$ then how long is the orbital period?\n",
    "\n",
    "$T = 17.8 \\ tn = 3.6 \\ hrs$\n",
    "\n",
    "If we use time steps of $dt = 1 \\ s$ then the orbital period will be completed in,\n",
    "\n",
    "$T/dt = 17.8 \\ tn / (1 tn/736.66 s) / (1s/step) =  13,113$ steps\n",
    "\n",
    "This gives you an idea of how to limit the simulation epsiodes. On one hand we want high frequency policy control updates, on the other we want our episodes to be as few steps as possible, this leads to the other possible way of constraining the episode length in terms of max steps ($MS$) can imply the time step in the simulation.\n",
    "\n",
    "$MS = 100 \\rightarrow 100 = 13113/(x \\ s/ step) \\rightarrow 1 \\ step = 131.13 \\ s$\n",
    "\n",
    "The general expression is\n",
    "\n",
    "$MS =2 \\pi R_t^{3/2}/(1 \\ tn/X \\ s) / ( x \\ s/step)$\n",
    "\n",
    "Where $X = (R_t^3/GM)^{1/2}$ in SI units, and $R_t$ below is in natural units.\n",
    "\n",
    "$ (2 \\pi R_t^{3/2})*X/MS \\ s = 1 \\ step$"
   ]
  },
  {
   "cell_type": "code",
   "execution_count": 2,
   "metadata": {},
   "outputs": [
    {
     "name": "stdout",
     "output_type": "stream",
     "text": [
      "seconds per step:  2.6104357394519746\n"
     ]
    }
   ],
   "source": [
    "X = ((6*10**6)**3/(6.674*10**(-11)*6*10**(24)))**0.5\n",
    "MS = 5000\n",
    "print('seconds per step: ', (2*np.pi*2**1.5)*X/MS)"
   ]
  },
  {
   "cell_type": "markdown",
   "metadata": {},
   "source": [
    "## Solving the System of Equations\n",
    "\n",
    "$\\ddot{r} = r \\dot{\\theta}^2 - \\frac{1}{r^2}$\n",
    "\n",
    "$\\ddot{\\theta} = -2 \\frac{\\dot{r}}{r} \\dot{\\theta}$ \n",
    "\n",
    "### System of Equations\n",
    "\n",
    "$y_0 = r$\n",
    "\n",
    "$y_1 = \\dot{r}$\n",
    "\n",
    "$y_2 = \\theta$\n",
    "\n",
    "$y_3 = \\dot{\\theta}$\n",
    "\n",
    "---\n",
    "\n",
    "\n",
    "$\\dot{y}_0 = y_1$\n",
    "\n",
    "$\\dot{y}_1 = y_0 y_3^2 - \\frac{1}{y_0^2}$\n",
    "\n",
    "$\\dot{y}_2 = y_3$\n",
    "\n",
    "$\\dot{y}_3 = -2 \\frac{y_1}{y_0} y_3$ \n",
    "\n",
    "### RK4 Algorithm\n"
   ]
  },
  {
   "cell_type": "code",
   "execution_count": 26,
   "metadata": {},
   "outputs": [],
   "source": [
    "class OrbitalDynamicsEnv(gym.Env):\n",
    "    metadata = {'render.modes': ['human']}\n",
    "    \n",
    "    # dt_s -- is the time step in seconds.\n",
    "    def __init__(self, planet_Mass_kg = 5.972*10**(24), planet_R_km = 6371.0, \n",
    "                 dt_s = 1.0, target_alt = 2.0, thrust_gs= 1.5, verbose = False, \n",
    "                 record_history = True, record_rate = 100):\n",
    "        super(OrbitalDynamicsEnv, self).__init__()\n",
    "        self.record_rate = record_rate\n",
    "    \n",
    "        # Actions\n",
    "        self.action_space = gym.spaces.Box(low=np.array([0, 0]), \n",
    "                                           high=np.array([2*np.pi, 10**3]), \n",
    "                                           dtype=np.float32)\n",
    "        \n",
    "        # Obs (r,rdot,theta,theta_dot)\n",
    "        self.observation_space = gym.spaces.Box(low=np.array([0,0,0,0]), \n",
    "                                                high=np.array([10**9,10**9,2*np.pi,10**9]), \n",
    "                                                dtype=np.float64)\n",
    "        \n",
    "        \n",
    "        self.record_history = record_history\n",
    "        \n",
    "        # Newton's Gravitational Constant in SI units\n",
    "        G = 6.674*10**(-11) # m^3 kg^-1 s^-2 \n",
    "        \n",
    "        # Convert to Natural Problem Units\n",
    "        # tn_s = (R^3/GM)^1/2 -- where all measures are in SI units\n",
    "        planet_R_m = planet_R_km*10**3\n",
    "        tn_s = (planet_R_m**3/(G*planet_Mass_kg))**0.5\n",
    "        \n",
    "        # define the time step in seconds\n",
    "        self.dts = dt_s\n",
    "        # define the natural length in meters\n",
    "        self.ln_m = planet_R_m\n",
    "        # convert the time step in seconds to natural time\n",
    "        self.dt = dt_s/tn_s\n",
    "        \n",
    "        if verbose:\n",
    "            print('Units')\n",
    "            print('-----')\n",
    "            print('\\ttime: 1 s = ', 1.0/tn_s,' tn')\n",
    "            print('\\tlength: 1 m = ',1.0/planet_R_m,' ln')\n",
    "            print('Simulation parameters')\n",
    "            print('-----')\n",
    "            print('\\tnatural units time step size: ',self.dt)\n",
    "        \n",
    "        # setting the target altitude in natural units\n",
    "        self.target_alt = target_alt\n",
    "        \n",
    "        # solving the oribital angular velocity in natural units\n",
    "        self.oribit_theta_dot = target_alt**(-1.5)\n",
    "        \n",
    "        # solving the maxium allowable natural time to run an episode\n",
    "        self.max_time = 2*np.pi*target_alt**(1.5)\n",
    "        # adding in a buffer to allow it to go a little longer\n",
    "        self.max_time = self.max_time*1.5\n",
    "        # solving the maximum allowable steps given the max time\n",
    "        self.max_steps = np.int32(np.ceil(self.max_time/self.dt))\n",
    "        \n",
    "        if verbose:\n",
    "            print('\\ttarget theta dot: ', self.oribit_theta_dot, ' 1/tn')\n",
    "            print('\\tmax allowable natural time: ', self.max_time, \" tn = \", self.max_time*tn_s,\" s\")\n",
    "            print('\\tmax allowed steps: ', self.max_steps)\n",
    "        \n",
    "        # Choosing how strong the penalty factors will be for taking actions\n",
    "        self.orientation_penalty = 0.1\n",
    "        self.thrust_penalty = 10*self.orientation_penalty\n",
    "        \n",
    "        # max accleration from thrust in natural units (ln/tn^2)\n",
    "        # 1 g = GM/R_planet^2 --in natural units--> 1 g= (ln^3/tn^2)/(ln^2)\n",
    "        # 1 g. = 1 ln/tn^2\n",
    "        self.max_thrust = thrust_gs\n",
    "        self.max_o_thrust = 1.0\n",
    "        \n",
    "        if verbose:\n",
    "            print('Policy Parameters')\n",
    "            print('-----')\n",
    "            max_thrust_SI = self.max_thrust*(self.ln_m)/(tn_s**2)\n",
    "            # as a reference https://www.nasa.gov/pdf/466711main_AP_ST_ShuttleAscent.pdf\n",
    "            # says the spaceshuttle never exceeded 3gs or ~ 30 m/s^2\n",
    "            print('\\tDiscrete thrust acceleration: ', self.max_thrust,' ln/tn^2 = ', max_thrust_SI,' m/s^2')\n",
    "        \n",
    "    def reset(self):\n",
    "        # Reset the state of the environment to an initial state\n",
    "        self.steps = 0\n",
    "        \n",
    "        # Orientation Coordinate in global coordinates\n",
    "        self.orientation_rate = 0.0\n",
    "        self.orientation_angle = 0.01\n",
    "        \n",
    "        # Translational Coordinates\n",
    "        self.r = 1.0\n",
    "        self.r_dot = 0.0\n",
    "        self.r_double_dot = 0.0\n",
    "        \n",
    "        self.theta = 0.0\n",
    "        self.theta_dot = 0.0 # can change this if u want to add planetary rotation\n",
    "        self.theta_double_dot = 0.0\n",
    "        \n",
    "        self.elapsed_time = 0.0 # elapsed sim time in natural units\n",
    "        self.elapsed_time_s = 0.0 # elapsed sim time in seconds\n",
    "        \n",
    "        # initialize the history array\n",
    "        if self.record_history:\n",
    "            self.trajectory = np.array([[self.r*np.cos(self.theta), self.r*np.sin(self.theta), self.orientation_angle]])\n",
    "        \n",
    "        obs = np.array([self.r,self.r_dot,self.theta,self.theta_dot])\n",
    "        \n",
    "        # start off with an impulse to get off the ground\n",
    "        #obs, reward, done, _ = self.step(2)\n",
    "        \n",
    "        return obs\n",
    "    \n",
    "    # continous actions = (mean thrust, mean counter clockwise rotation thrust)\n",
    "    def step(self, action):\n",
    "        self.steps += 1\n",
    "        \n",
    "        # actions segragation\n",
    "        thrust = np.clip(action[0], 0.0, self.max_thrust)\n",
    "        orientation_thrust = np.clip(action[1], -self.max_o_thrust, self.max_o_thrust)\n",
    "        \n",
    "        self.orientation_angle += self.orientation_rate*self.dt + 0.5*orientation_thrust*self.dt**2\n",
    "        self.orientation_rate += orientation_thrust*self.dt \n",
    "        \n",
    "        # Translating the actions into the planet centric coordinate system\n",
    "        action_vector = thrust*np.array([np.cos(self.orientation_angle), \n",
    "                                         np.sin(self.orientation_angle)])\n",
    "        \n",
    "        #print('action v: ', action_vector)\n",
    "        \n",
    "        # current r hat vector and theta hat vector\n",
    "        r_vect = np.array([np.cos(self.theta), np.sin(self.theta)])\n",
    "        theta_vect = np.array([-np.sin(self.theta), np.cos(self.theta)])\n",
    "        \n",
    "        # projection of actions along r and theta \n",
    "        action_along_r = np.dot(r_vect, action_vector)\n",
    "        action_along_theta = np.dot(theta_vect, action_vector)\n",
    "        \n",
    "        #print('r_vect: ', r_vect)\n",
    "        #print(action_along_r)\n",
    "        # Execute one time step within the environment using RK4\n",
    "        self.elapsed_time += self.dt\n",
    "        self.elapsed_time_s += self.dts\n",
    "\n",
    "        # integrate\n",
    "        y0_k1 = self.r_dot\n",
    "        y1_k1 = self.r*self.r_dot**2 - 1./self.r**2 + action_along_r\n",
    "        y2_k1 = self.theta_dot\n",
    "        y3_k1 = -2.0*self.r_dot/self.r*self.theta_dot + action_along_theta\n",
    "        \n",
    "        y0_k2 = (self.r_dot + y1_k1*self.dt/2)\n",
    "        y1_k2 = (self.r + y0_k1*self.dt/2)*(self.r_dot + y1_k1*self.dt/2)**2 - 1./(self.r + y0_k1*self.dt/2)**2 + action_along_r\n",
    "        y2_k2 = (self.theta_dot + y3_k1*self.dt/2)\n",
    "        y3_k2 = -2.0*(self.r_dot + y1_k1*self.dt/2)/(self.r + y0_k1*self.dt/2)*(self.theta_dot + y3_k1*self.dt/2) + action_along_theta\n",
    "        \n",
    "        y0_k3 = (self.r_dot + y1_k2*self.dt/2)\n",
    "        y1_k3 = (self.r + y0_k2*self.dt/2)*(self.r_dot + y1_k2*self.dt/2)**2 - 1./(self.r + y0_k2*self.dt/2)**2 + action_along_r\n",
    "        y2_k3 = (self.theta_dot + y3_k1*self.dt/2)\n",
    "        y3_k3 = -2.0*(self.r_dot + y1_k2*self.dt/2)/(self.r + y0_k2*self.dt/2)*(self.theta_dot + y3_k2*self.dt/2) + action_along_theta\n",
    "        \n",
    "        y0_k4 = (self.r_dot + y1_k3*self.dt)\n",
    "        y1_k4 = (self.r + y0_k3*self.dt)*(self.r_dot + y1_k3*self.dt)**2 - 1./(self.r + y0_k3*self.dt)**2 + action_along_r\n",
    "        y2_k4 = (self.theta_dot + y3_k1*self.dt/2)\n",
    "        y3_k4 = -2.0*(self.r_dot + y1_k2*self.dt/2)/(self.r + y0_k2*self.dt/2)*(self.theta_dot + y3_k2*self.dt) + action_along_theta\n",
    "        \n",
    "        \n",
    "        # Update \n",
    "        self.r = self.r + self.dt/6*(y0_k1 + 2*y0_k2 + 2*y0_k3 + y0_k4)\n",
    "        self.r_dot = self.r_dot + self.dt/6*(y1_k1 + 2*y1_k2 + 2*y1_k3 + y0_k4)\n",
    "\n",
    "        self.theta = self.theta + self.dt/6*(y2_k1 + 2*y2_k2 + 2*y2_k3 + y2_k4)\n",
    "        self.theta_dot = self.theta_dot + self.dt/6*(y3_k1 + 2*y3_k2 + 2*y3_k3 + y3_k4)\n",
    "        \n",
    "        # prepare to output\n",
    "        obs = np.array([self.r,self.r_dot,self.theta,self.theta_dot])\n",
    "        \n",
    "        # If recording is enabled record the trajectory\n",
    "        if (self.record_history) and (self.steps % self.record_rate == 0):\n",
    "            self.trajectory = np.append(self.trajectory, \n",
    "                                        [[self.r*np.cos(self.theta), \n",
    "                                          self.r*np.sin(self.theta), \n",
    "                                          self.orientation_angle]], \n",
    "                                        axis=0)\n",
    "        \n",
    "        # reward 1 for every step not done, encouraging orbit seeking\n",
    "        # penalty for every step not near the target altitude\n",
    "        reward = (1.0 + \n",
    "                  - 0.00*thrust/self.max_thrust \n",
    "                  - 0.0*np.abs(orientation_thrust)/self.max_o_thrust -\n",
    "                  0.0*np.abs(self.target_alt - self.r)/self.target_alt - \n",
    "                  0.0*np.abs(self.oribit_theta_dot - self.theta_dot)/self.oribit_theta_dot)\n",
    "        \n",
    "        # set if at the terminal state\n",
    "        done = False\n",
    "        \n",
    "        # test for terminal state\n",
    "        if ((self.r <= 1.0) | \n",
    "            (self.r > self.target_alt*3.0) | \n",
    "            (self.elapsed_time > self.max_time*2.0)):\n",
    "            done = True\n",
    "        \n",
    "        return (obs, reward, done, {})\n",
    "    \n",
    "    def render(self, size=5, sample_traj_rate = 1):\n",
    "        \n",
    "        fig = plt.figure(figsize=(size,size), dpi=100)\n",
    "        ax = fig.add_subplot(111)\n",
    "        ax.set_aspect(1) \n",
    "        \n",
    "        # Planet Surface\n",
    "        x = np.linspace(-1,1,100,endpoint=True)\n",
    "        plt.plot(x, np.sqrt(1-x**2), c='k')\n",
    "        plt.plot(x,-np.sqrt(1-x**2), c ='k')\n",
    "        \n",
    "        # Trajectory\n",
    "        plt.plot(self.trajectory[::sample_traj_rate,0], self.trajectory[::sample_traj_rate,1], c='b')\n",
    "        \n",
    "        # orientation vector every Nth\n",
    "        N = (sample_traj_rate-1)+10\n",
    "        xaxis_orientation = self.trajectory[::N,2]\n",
    "        # vector terminal pts\n",
    "        start_pts = self.trajectory[::N,[0,1]]\n",
    "        end_pts = start_pts + 0.05*np.dstack((np.cos(xaxis_orientation), np.sin(xaxis_orientation)))[0]\n",
    "        \n",
    "        for idx in range(len(start_pts)):\n",
    "            plt.plot([start_pts[idx,0],end_pts[idx,0]], [start_pts[idx,1],end_pts[idx,1]], c='r')\n",
    "        plt.show();\n",
    "        \n",
    "        fig, axs = plt.subplots(3, sharex=False, sharey=False, figsize=(size,size), dpi=100)\n",
    "        axs[0].plot(np.sqrt(self.trajectory[::sample_traj_rate,0]**2+self.trajectory[::sample_traj_rate,1]**2), c='b')\n",
    "        axs[0].set_ylabel('altitude (ln)')\n",
    "        axs[0].set_xlabel('time (steps)')\n",
    "        \n",
    "        axs[1].plot(np.arctan2(self.trajectory[::sample_traj_rate,1],self.trajectory[::sample_traj_rate,0])*180/np.pi, c='b')\n",
    "        axs[1].set_ylabel('latitude (degrees)')\n",
    "        axs[1].set_xlabel('time (steps)')\n",
    "        \n",
    "        axs[2].plot((self.trajectory[::sample_traj_rate,2]*180/np.pi) % 360, c='b')\n",
    "        axs[2].set_ylabel('orientation to x-axis (degrees)')\n",
    "        axs[2].set_xlabel('time (steps)')\n",
    "        plt.tight_layout()"
   ]
  },
  {
   "cell_type": "markdown",
   "metadata": {},
   "source": [
    "## Example Policy"
   ]
  },
  {
   "cell_type": "code",
   "execution_count": 189,
   "metadata": {},
   "outputs": [
    {
     "name": "stdout",
     "output_type": "stream",
     "text": [
      "Units\n",
      "-----\n",
      "\ttime: 1 s =  0.0012414853327976582  tn\n",
      "\tlength: 1 m =  1.5696123057604772e-07  ln\n",
      "Simulation parameters\n",
      "-----\n",
      "\tnatural units time step size:  0.00012414853327976584\n",
      "\ttarget theta dot:  0.4319593977248311  1/tn\n",
      "\tmax allowable natural time:  21.818666315423467  tn =  17574.646867760905  s\n",
      "\tmax allowed steps:  175747\n",
      "Policy Parameters\n",
      "-----\n",
      "\tDiscrete thrust acceleration:  1.5  ln/tn^2 =  14.729298049223939  m/s^2\n"
     ]
    }
   ],
   "source": [
    "env = OrbitalDynamicsEnv(dt_s = 0.1, verbose=True, target_alt = 1.75)"
   ]
  },
  {
   "cell_type": "code",
   "execution_count": 27,
   "metadata": {},
   "outputs": [],
   "source": [
    "def test_net(net, env, count=10, device=\"cpu\"):\n",
    "    rewards = 0.0\n",
    "    steps = 0\n",
    "    # play count episodes\n",
    "    for _ in range(count):\n",
    "        obs = env.reset()\n",
    "        while True:\n",
    "            obs_v = ptan.agent.float32_preprocessor([obs])\n",
    "            obs_v = obs_v.to(device)\n",
    "            mu_v = net(obs_v)[0]\n",
    "            action = mu_v.squeeze(dim=0).data.cpu().numpy()\n",
    "            state, reward, done, _ = env.step(action)\n",
    "            rewards += reward\n",
    "            steps += 1\n",
    "            if done:\n",
    "                break\n",
    "    return rewards / count, steps / count"
   ]
  },
  {
   "cell_type": "code",
   "execution_count": 28,
   "metadata": {},
   "outputs": [],
   "source": [
    "def calc_logprob(mu_v, var_v, actions_v):\n",
    "    p1 = - ((mu_v - actions_v) ** 2) / (2*var_v.clamp(min=1e-3))\n",
    "    p2 = - torch.log(torch.sqrt(2 * np.pi * var_v))\n",
    "    return p1 + p2"
   ]
  },
  {
   "cell_type": "code",
   "execution_count": 29,
   "metadata": {},
   "outputs": [],
   "source": [
    "HID_SIZE = 128\n",
    "\n",
    "class ModelA2C(nn.Module):\n",
    "    def __init__(self, obs_size, act_size):\n",
    "        super(ModelA2C, self).__init__()\n",
    "\n",
    "        self.base = nn.Sequential(\n",
    "            nn.Linear(obs_size, HID_SIZE),\n",
    "            nn.ReLU(),\n",
    "        )\n",
    "        self.mu = nn.Sequential(\n",
    "            nn.Linear(HID_SIZE, act_size),\n",
    "            nn.Tanh(),\n",
    "        )\n",
    "        self.var = nn.Sequential(\n",
    "            nn.Linear(HID_SIZE, act_size),\n",
    "            nn.Softplus(),\n",
    "        )\n",
    "        self.value = nn.Linear(HID_SIZE, 1)\n",
    "\n",
    "    def forward(self, x):\n",
    "        base_out = self.base(x)\n",
    "        return self.mu(base_out), self.var(base_out), \\\n",
    "               self.value(base_out)\n",
    "    \n",
    "    \n",
    "class TestNet(nn.Module):\n",
    "    def __init__(self, obs_size, act_size):\n",
    "        super(TestNet, self).__init__()\n",
    "\n",
    "        self.base = nn.Sequential(\n",
    "            nn.Linear(obs_size, HID_SIZE),\n",
    "            nn.ReLU(),\n",
    "        )\n",
    "        self.value = nn.Linear(HID_SIZE, 1)\n",
    "        \n",
    "        self.go_up_v = torch.FloatTensor([[1.1, 0.0]])\n",
    "        self.go_up_var_v = torch.FloatTensor([[0.001, 0.001]])\n",
    "\n",
    "    def forward(self, x):\n",
    "        base_out = self.base(x)\n",
    "        return self.go_up_v, self.go_up_var_v, self.value(base_out)"
   ]
  },
  {
   "cell_type": "code",
   "execution_count": 30,
   "metadata": {},
   "outputs": [],
   "source": [
    "class AgentA2C(ptan.agent.BaseAgent):\n",
    "    def __init__(self, net, device=\"cpu\"):\n",
    "        self.net = net\n",
    "        self.device = device\n",
    "\n",
    "    def __call__(self, states, agent_states):\n",
    "        states_v = ptan.agent.float32_preprocessor(states)\n",
    "        states_v = states_v.to(self.device)\n",
    "\n",
    "        mu_v, var_v, _ = self.net(states_v)\n",
    "        mu = mu_v.data.cpu().numpy()\n",
    "        sigma = torch.sqrt(var_v).data.cpu().numpy()\n",
    "        actions = np.random.normal(mu, sigma)\n",
    "        return actions, agent_states"
   ]
  },
  {
   "cell_type": "code",
   "execution_count": 31,
   "metadata": {},
   "outputs": [],
   "source": [
    "def unpack_batch_a2c(batch, net, last_val_gamma, device=\"cpu\"):\n",
    "    \"\"\"\n",
    "    Convert batch into training tensors\n",
    "    :param batch:\n",
    "    :param net:\n",
    "    :return: states variable, actions tensor, reference values variable\n",
    "    \"\"\"\n",
    "    states = []\n",
    "    actions = []\n",
    "    rewards = []\n",
    "    not_done_idx = []\n",
    "    last_states = []\n",
    "    \n",
    "    for idx, exp in enumerate(batch):\n",
    "        states.append(exp.state)\n",
    "        actions.append(exp.action)\n",
    "        rewards.append(exp.reward)\n",
    "        if exp.last_state is not None:\n",
    "            not_done_idx.append(idx)\n",
    "            last_states.append(exp.last_state)\n",
    "    \n",
    "    states_v = ptan.agent.float32_preprocessor(states).to(device)\n",
    "    actions_v = torch.FloatTensor(actions).to(device)\n",
    "\n",
    "    # handle rewards\n",
    "    rewards_np = np.array(rewards, dtype=np.float32)\n",
    "    if not_done_idx:\n",
    "        last_states_v = ptan.agent.float32_preprocessor(last_states).to(device)\n",
    "        last_vals_v = net(last_states_v)[2]\n",
    "        last_vals_np = last_vals_v.data.cpu().numpy()[:, 0]\n",
    "        rewards_np[not_done_idx] += last_val_gamma * last_vals_np\n",
    "\n",
    "    ref_vals_v = torch.FloatTensor(rewards_np).to(device)\n",
    "    return states_v, actions_v, ref_vals_v"
   ]
  },
  {
   "cell_type": "code",
   "execution_count": 32,
   "metadata": {},
   "outputs": [
    {
     "name": "stdout",
     "output_type": "stream",
     "text": [
      "Units\n",
      "-----\n",
      "\ttime: 1 s =  0.0012414853327976582  tn\n",
      "\tlength: 1 m =  1.5696123057604772e-07  ln\n",
      "Simulation parameters\n",
      "-----\n",
      "\tnatural units time step size:  0.00012414853327976584\n",
      "\ttarget theta dot:  0.4319593977248311  1/tn\n",
      "\tmax allowable natural time:  21.818666315423467  tn =  17574.646867760905  s\n",
      "\tmax allowed steps:  175747\n",
      "Policy Parameters\n",
      "-----\n",
      "\tDiscrete thrust acceleration:  1.5  ln/tn^2 =  14.729298049223939  m/s^2\n",
      "Units\n",
      "-----\n",
      "\ttime: 1 s =  0.0012414853327976582  tn\n",
      "\tlength: 1 m =  1.5696123057604772e-07  ln\n",
      "Simulation parameters\n",
      "-----\n",
      "\tnatural units time step size:  0.00012414853327976584\n",
      "\ttarget theta dot:  0.4319593977248311  1/tn\n",
      "\tmax allowable natural time:  21.818666315423467  tn =  17574.646867760905  s\n",
      "\tmax allowed steps:  175747\n",
      "Policy Parameters\n",
      "-----\n",
      "\tDiscrete thrust acceleration:  1.5  ln/tn^2 =  14.729298049223939  m/s^2\n",
      "ModelA2C(\n",
      "  (base): Sequential(\n",
      "    (0): Linear(in_features=4, out_features=128, bias=True)\n",
      "    (1): ReLU()\n",
      "  )\n",
      "  (mu): Sequential(\n",
      "    (0): Linear(in_features=128, out_features=2, bias=True)\n",
      "    (1): Tanh()\n",
      "  )\n",
      "  (var): Sequential(\n",
      "    (0): Linear(in_features=128, out_features=2, bias=True)\n",
      "    (1): Softplus(beta=1, threshold=20)\n",
      "  )\n",
      "  (value): Linear(in_features=128, out_features=1, bias=True)\n",
      ")\n"
     ]
    }
   ],
   "source": [
    "device = torch.device(\"cuda\" if torch.cuda.is_available() else \"cpu\")\n",
    "\n",
    "env = OrbitalDynamicsEnv(dt_s = 0.1, verbose=True, target_alt = 1.75, record_history = False)\n",
    "test_env = OrbitalDynamicsEnv(dt_s = 0.1, verbose=True, target_alt = 1.75, record_rate = 1)\n",
    "\n",
    "agent = AgentA2C(net, device=device)\n",
    "\n",
    "net = ModelA2C(env.observation_space.shape[0], env.action_space.shape[0]).to(device)\n",
    "up_net = TestNet(env.observation_space.shape[0], env.action_space.shape[0]).to(device)\n",
    "print(net)"
   ]
  },
  {
   "cell_type": "markdown",
   "metadata": {},
   "source": [
    "### Test Net Is Neutral"
   ]
  },
  {
   "cell_type": "code",
   "execution_count": 33,
   "metadata": {},
   "outputs": [
    {
     "data": {
      "text/plain": [
       "(tensor([[0.0090, 0.1143]], grad_fn=<TanhBackward>),\n",
       " tensor([[0.7673, 0.6558]], grad_fn=<SoftplusBackward>),\n",
       " tensor([[0.0520]], grad_fn=<AddmmBackward>))"
      ]
     },
     "execution_count": 33,
     "metadata": {},
     "output_type": "execute_result"
    }
   ],
   "source": [
    "s = env.reset()\n",
    "s_v = torch.FloatTensor([s])\n",
    "net(s_v)"
   ]
  },
  {
   "cell_type": "code",
   "execution_count": 34,
   "metadata": {},
   "outputs": [
    {
     "data": {
      "text/plain": [
       "(array([[ 1.94878997, -1.23594642]]), None)"
      ]
     },
     "execution_count": 34,
     "metadata": {},
     "output_type": "execute_result"
    }
   ],
   "source": [
    "agent(s_v,None)"
   ]
  },
  {
   "cell_type": "code",
   "execution_count": 35,
   "metadata": {},
   "outputs": [
    {
     "data": {
      "text/plain": [
       "(tensor([[1.1000, 0.0000]]),\n",
       " tensor([[0.0010, 0.0010]]),\n",
       " tensor([[0.3045]], grad_fn=<AddmmBackward>))"
      ]
     },
     "execution_count": 35,
     "metadata": {},
     "output_type": "execute_result"
    }
   ],
   "source": [
    "up_net(s_v)"
   ]
  },
  {
   "cell_type": "markdown",
   "metadata": {},
   "source": [
    "### Pretrain so that we have good initial settings (the mentor)"
   ]
  },
  {
   "cell_type": "code",
   "execution_count": 36,
   "metadata": {},
   "outputs": [],
   "source": [
    "net = ModelA2C(env.observation_space.shape[0], env.action_space.shape[0]).to(device)\n",
    "optimizer = optim.Adam(net.parameters(), lr=0.01)\n",
    "\n",
    "go_thrust_v = torch.FloatTensor([[env.max_thrust, 0.0]])\n",
    "\n",
    "# this pumps the variance parameters so we start off with high exploration\n",
    "for _ in range(500):\n",
    "    optimizer.zero_grad()\n",
    "    \n",
    "    mu_v, var_v, value_v = net(s_v)\n",
    "    ent_v = -(torch.log(2*np.pi*var_v) + 1)/2\n",
    "    entropy_loss_v =  0.0*ent_v.mean()\n",
    "    mu_loss_v = ((mu_v - go_thrust_v)**2).mean()\n",
    "    \n",
    "    loss_v = mu_loss_v + entropy_loss_v\n",
    "    \n",
    "    loss_v.backward()\n",
    "    optimizer.step()"
   ]
  },
  {
   "cell_type": "code",
   "execution_count": 37,
   "metadata": {},
   "outputs": [
    {
     "data": {
      "text/plain": [
       "(tensor([[9.9991e-01, 1.5348e-06]], grad_fn=<TanhBackward>),\n",
       " tensor([[0.7172, 0.7582]], grad_fn=<SoftplusBackward>),\n",
       " tensor([[-0.0210]], grad_fn=<AddmmBackward>))"
      ]
     },
     "execution_count": 37,
     "metadata": {},
     "output_type": "execute_result"
    }
   ],
   "source": [
    "s = env.reset()\n",
    "s_v = torch.FloatTensor([s])\n",
    "net(s_v)"
   ]
  },
  {
   "cell_type": "code",
   "execution_count": 38,
   "metadata": {},
   "outputs": [
    {
     "name": "stdout",
     "output_type": "stream",
     "text": [
      "Test done is 0.01 sec, reward 1.000, steps 1\n",
      "Test done is 0.01 sec, reward 1.000, steps 1\n",
      "Test done is 0.00 sec, reward 1.000, steps 1\n",
      "Test done is 0.00 sec, reward 1.000, steps 1\n",
      "Test done is 0.00 sec, reward 1.000, steps 1\n",
      "Test done is 0.01 sec, reward 1.000, steps 1\n",
      "Test done is 0.00 sec, reward 1.000, steps 1\n",
      "Test done is 0.00 sec, reward 1.000, steps 1\n",
      "Test done is 0.00 sec, reward 1.000, steps 1\n",
      "Test done is 0.01 sec, reward 1.000, steps 1\n",
      "Test done is 0.00 sec, reward 1.000, steps 1\n",
      "Test done is 0.00 sec, reward 1.000, steps 1\n",
      "Test done is 0.01 sec, reward 1.000, steps 1\n",
      "Test done is 0.00 sec, reward 1.000, steps 1\n",
      "Test done is 0.00 sec, reward 1.000, steps 1\n",
      "Test done is 0.00 sec, reward 1.000, steps 1\n",
      "Test done is 0.01 sec, reward 1.000, steps 1\n",
      "Test done is 0.01 sec, reward 1.000, steps 1\n",
      "Test done is 0.01 sec, reward 1.000, steps 1\n",
      "Test done is 0.01 sec, reward 1.000, steps 1\n",
      "Test done is 0.01 sec, reward 1.000, steps 1\n",
      "Test done is 0.01 sec, reward 1.000, steps 1\n",
      "Test done is 0.00 sec, reward 1.000, steps 1\n",
      "Test done is 0.00 sec, reward 1.000, steps 1\n",
      "Test done is 0.01 sec, reward 1.000, steps 1\n",
      "Test done is 0.01 sec, reward 1.000, steps 1\n",
      "Test done is 0.00 sec, reward 1.000, steps 1\n",
      "Test done is 0.00 sec, reward 1.000, steps 1\n",
      "Test done is 0.01 sec, reward 1.000, steps 1\n",
      "Test done is 0.01 sec, reward 1.000, steps 1\n",
      "Test done is 0.01 sec, reward 1.000, steps 1\n",
      "Test done is 0.01 sec, reward 1.000, steps 1\n",
      "Test done is 0.01 sec, reward 1.000, steps 1\n",
      "Test done is 0.01 sec, reward 1.000, steps 1\n",
      "Test done is 0.01 sec, reward 1.000, steps 1\n",
      "Test done is 0.01 sec, reward 1.000, steps 1\n",
      "Test done is 0.00 sec, reward 1.000, steps 1\n",
      "Test done is 0.00 sec, reward 1.000, steps 1\n",
      "Test done is 0.01 sec, reward 1.000, steps 1\n",
      "Test done is 0.01 sec, reward 1.000, steps 1\n",
      "Test done is 0.01 sec, reward 1.000, steps 1\n",
      "Test done is 0.01 sec, reward 1.000, steps 1\n",
      "Test done is 0.00 sec, reward 1.000, steps 1\n",
      "Test done is 0.00 sec, reward 1.000, steps 1\n",
      "Test done is 0.00 sec, reward 1.000, steps 1\n",
      "Test done is 0.00 sec, reward 1.000, steps 1\n",
      "Test done is 0.00 sec, reward 1.000, steps 1\n",
      "Test done is 0.01 sec, reward 1.000, steps 1\n",
      "Test done is 0.01 sec, reward 1.000, steps 1\n",
      "Test done is 0.01 sec, reward 1.000, steps 1\n",
      "Test done is 0.01 sec, reward 1.000, steps 1\n",
      "Test done is 0.01 sec, reward 1.000, steps 1\n",
      "Test done is 0.01 sec, reward 1.000, steps 1\n",
      "Test done is 0.00 sec, reward 1.000, steps 1\n",
      "Test done is 0.00 sec, reward 1.000, steps 1\n",
      "Test done is 0.00 sec, reward 1.000, steps 1\n",
      "Test done is 0.01 sec, reward 1.000, steps 1\n",
      "Test done is 0.00 sec, reward 1.000, steps 1\n",
      "Test done is 0.00 sec, reward 1.000, steps 1\n",
      "Test done is 0.00 sec, reward 1.000, steps 1\n",
      "Test done is 0.00 sec, reward 1.000, steps 1\n",
      "Test done is 0.01 sec, reward 1.000, steps 1\n",
      "Test done is 0.00 sec, reward 1.000, steps 1\n",
      "Test done is 0.01 sec, reward 1.000, steps 1\n",
      "Test done is 0.00 sec, reward 1.000, steps 1\n",
      "Test done is 0.01 sec, reward 1.000, steps 1\n",
      "Test done is 0.00 sec, reward 1.000, steps 1\n",
      "Test done is 0.01 sec, reward 1.000, steps 1\n",
      "Test done is 0.00 sec, reward 1.000, steps 1\n",
      "Test done is 0.00 sec, reward 1.000, steps 1\n",
      "Test done is 0.00 sec, reward 1.000, steps 1\n",
      "Test done is 0.01 sec, reward 1.000, steps 1\n",
      "Test done is 0.00 sec, reward 1.000, steps 1\n",
      "Test done is 0.01 sec, reward 1.000, steps 1\n",
      "Test done is 0.01 sec, reward 1.000, steps 1\n",
      "Test done is 0.00 sec, reward 1.000, steps 1\n",
      "Test done is 0.01 sec, reward 1.000, steps 1\n",
      "Test done is 0.01 sec, reward 1.000, steps 1\n",
      "Test done is 0.01 sec, reward 1.000, steps 1\n"
     ]
    },
    {
     "ename": "KeyboardInterrupt",
     "evalue": "",
     "output_type": "error",
     "traceback": [
      "\u001b[0;31m---------------------------------------------------------------------------\u001b[0m",
      "\u001b[0;31mKeyboardInterrupt\u001b[0m                         Traceback (most recent call last)",
      "\u001b[0;32m<ipython-input-38-e5f0945ac271>\u001b[0m in \u001b[0;36m<module>\u001b[0;34m\u001b[0m\n\u001b[1;32m     17\u001b[0m \u001b[0;31m#reward_100 = collections.deque(maxlen=100)\u001b[0m\u001b[0;34m\u001b[0m\u001b[0;34m\u001b[0m\u001b[0;34m\u001b[0m\u001b[0m\n\u001b[1;32m     18\u001b[0m \u001b[0;34m\u001b[0m\u001b[0m\n\u001b[0;32m---> 19\u001b[0;31m \u001b[0;32mfor\u001b[0m \u001b[0mstep_idx\u001b[0m\u001b[0;34m,\u001b[0m \u001b[0mexp\u001b[0m \u001b[0;32min\u001b[0m \u001b[0menumerate\u001b[0m\u001b[0;34m(\u001b[0m\u001b[0mexp_source\u001b[0m\u001b[0;34m)\u001b[0m\u001b[0;34m:\u001b[0m\u001b[0;34m\u001b[0m\u001b[0;34m\u001b[0m\u001b[0m\n\u001b[0m\u001b[1;32m     20\u001b[0m     \u001b[0mrewards_steps\u001b[0m \u001b[0;34m=\u001b[0m \u001b[0mexp_source\u001b[0m\u001b[0;34m.\u001b[0m\u001b[0mpop_rewards_steps\u001b[0m\u001b[0;34m(\u001b[0m\u001b[0;34m)\u001b[0m\u001b[0;34m\u001b[0m\u001b[0;34m\u001b[0m\u001b[0m\n\u001b[1;32m     21\u001b[0m     \u001b[0;32mif\u001b[0m \u001b[0mrewards_steps\u001b[0m\u001b[0;34m:\u001b[0m\u001b[0;34m\u001b[0m\u001b[0;34m\u001b[0m\u001b[0m\n",
      "\u001b[0;32m~/anaconda2/envs/pytorch/lib/python3.6/site-packages/ptan/experience.py\u001b[0m in \u001b[0;36m__iter__\u001b[0;34m(self)\u001b[0m\n\u001b[1;32m    171\u001b[0m \u001b[0;34m\u001b[0m\u001b[0m\n\u001b[1;32m    172\u001b[0m     \u001b[0;32mdef\u001b[0m \u001b[0m__iter__\u001b[0m\u001b[0;34m(\u001b[0m\u001b[0mself\u001b[0m\u001b[0;34m)\u001b[0m\u001b[0;34m:\u001b[0m\u001b[0;34m\u001b[0m\u001b[0;34m\u001b[0m\u001b[0m\n\u001b[0;32m--> 173\u001b[0;31m         \u001b[0;32mfor\u001b[0m \u001b[0mexp\u001b[0m \u001b[0;32min\u001b[0m \u001b[0msuper\u001b[0m\u001b[0;34m(\u001b[0m\u001b[0mExperienceSourceFirstLast\u001b[0m\u001b[0;34m,\u001b[0m \u001b[0mself\u001b[0m\u001b[0;34m)\u001b[0m\u001b[0;34m.\u001b[0m\u001b[0m__iter__\u001b[0m\u001b[0;34m(\u001b[0m\u001b[0;34m)\u001b[0m\u001b[0;34m:\u001b[0m\u001b[0;34m\u001b[0m\u001b[0;34m\u001b[0m\u001b[0m\n\u001b[0m\u001b[1;32m    174\u001b[0m             \u001b[0;32mif\u001b[0m \u001b[0mexp\u001b[0m\u001b[0;34m[\u001b[0m\u001b[0;34m-\u001b[0m\u001b[0;36m1\u001b[0m\u001b[0;34m]\u001b[0m\u001b[0;34m.\u001b[0m\u001b[0mdone\u001b[0m \u001b[0;32mand\u001b[0m \u001b[0mlen\u001b[0m\u001b[0;34m(\u001b[0m\u001b[0mexp\u001b[0m\u001b[0;34m)\u001b[0m \u001b[0;34m<=\u001b[0m \u001b[0mself\u001b[0m\u001b[0;34m.\u001b[0m\u001b[0msteps\u001b[0m\u001b[0;34m:\u001b[0m\u001b[0;34m\u001b[0m\u001b[0;34m\u001b[0m\u001b[0m\n\u001b[1;32m    175\u001b[0m                 \u001b[0mlast_state\u001b[0m \u001b[0;34m=\u001b[0m \u001b[0;32mNone\u001b[0m\u001b[0;34m\u001b[0m\u001b[0;34m\u001b[0m\u001b[0m\n",
      "\u001b[0;32m~/anaconda2/envs/pytorch/lib/python3.6/site-packages/ptan/experience.py\u001b[0m in \u001b[0;36m__iter__\u001b[0;34m(self)\u001b[0m\n\u001b[1;32m     80\u001b[0m                     \u001b[0mstates_indices\u001b[0m\u001b[0;34m.\u001b[0m\u001b[0mappend\u001b[0m\u001b[0;34m(\u001b[0m\u001b[0midx\u001b[0m\u001b[0;34m)\u001b[0m\u001b[0;34m\u001b[0m\u001b[0;34m\u001b[0m\u001b[0m\n\u001b[1;32m     81\u001b[0m             \u001b[0;32mif\u001b[0m \u001b[0mstates_input\u001b[0m\u001b[0;34m:\u001b[0m\u001b[0;34m\u001b[0m\u001b[0;34m\u001b[0m\u001b[0m\n\u001b[0;32m---> 82\u001b[0;31m                 \u001b[0mstates_actions\u001b[0m\u001b[0;34m,\u001b[0m \u001b[0mnew_agent_states\u001b[0m \u001b[0;34m=\u001b[0m \u001b[0mself\u001b[0m\u001b[0;34m.\u001b[0m\u001b[0magent\u001b[0m\u001b[0;34m(\u001b[0m\u001b[0mstates_input\u001b[0m\u001b[0;34m,\u001b[0m \u001b[0magent_states\u001b[0m\u001b[0;34m)\u001b[0m\u001b[0;34m\u001b[0m\u001b[0;34m\u001b[0m\u001b[0m\n\u001b[0m\u001b[1;32m     83\u001b[0m                 \u001b[0;32mfor\u001b[0m \u001b[0midx\u001b[0m\u001b[0;34m,\u001b[0m \u001b[0maction\u001b[0m \u001b[0;32min\u001b[0m \u001b[0menumerate\u001b[0m\u001b[0;34m(\u001b[0m\u001b[0mstates_actions\u001b[0m\u001b[0;34m)\u001b[0m\u001b[0;34m:\u001b[0m\u001b[0;34m\u001b[0m\u001b[0;34m\u001b[0m\u001b[0m\n\u001b[1;32m     84\u001b[0m                     \u001b[0mg_idx\u001b[0m \u001b[0;34m=\u001b[0m \u001b[0mstates_indices\u001b[0m\u001b[0;34m[\u001b[0m\u001b[0midx\u001b[0m\u001b[0;34m]\u001b[0m\u001b[0;34m\u001b[0m\u001b[0;34m\u001b[0m\u001b[0m\n",
      "\u001b[0;32m<ipython-input-30-a6dfb3cc98a7>\u001b[0m in \u001b[0;36m__call__\u001b[0;34m(self, states, agent_states)\u001b[0m\n\u001b[1;32m      8\u001b[0m         \u001b[0mstates_v\u001b[0m \u001b[0;34m=\u001b[0m \u001b[0mstates_v\u001b[0m\u001b[0;34m.\u001b[0m\u001b[0mto\u001b[0m\u001b[0;34m(\u001b[0m\u001b[0mself\u001b[0m\u001b[0;34m.\u001b[0m\u001b[0mdevice\u001b[0m\u001b[0;34m)\u001b[0m\u001b[0;34m\u001b[0m\u001b[0;34m\u001b[0m\u001b[0m\n\u001b[1;32m      9\u001b[0m \u001b[0;34m\u001b[0m\u001b[0m\n\u001b[0;32m---> 10\u001b[0;31m         \u001b[0mmu_v\u001b[0m\u001b[0;34m,\u001b[0m \u001b[0mvar_v\u001b[0m\u001b[0;34m,\u001b[0m \u001b[0m_\u001b[0m \u001b[0;34m=\u001b[0m \u001b[0mself\u001b[0m\u001b[0;34m.\u001b[0m\u001b[0mnet\u001b[0m\u001b[0;34m(\u001b[0m\u001b[0mstates_v\u001b[0m\u001b[0;34m)\u001b[0m\u001b[0;34m\u001b[0m\u001b[0;34m\u001b[0m\u001b[0m\n\u001b[0m\u001b[1;32m     11\u001b[0m         \u001b[0mmu\u001b[0m \u001b[0;34m=\u001b[0m \u001b[0mmu_v\u001b[0m\u001b[0;34m.\u001b[0m\u001b[0mdata\u001b[0m\u001b[0;34m.\u001b[0m\u001b[0mcpu\u001b[0m\u001b[0;34m(\u001b[0m\u001b[0;34m)\u001b[0m\u001b[0;34m.\u001b[0m\u001b[0mnumpy\u001b[0m\u001b[0;34m(\u001b[0m\u001b[0;34m)\u001b[0m\u001b[0;34m\u001b[0m\u001b[0;34m\u001b[0m\u001b[0m\n\u001b[1;32m     12\u001b[0m         \u001b[0msigma\u001b[0m \u001b[0;34m=\u001b[0m \u001b[0mtorch\u001b[0m\u001b[0;34m.\u001b[0m\u001b[0msqrt\u001b[0m\u001b[0;34m(\u001b[0m\u001b[0mvar_v\u001b[0m\u001b[0;34m)\u001b[0m\u001b[0;34m.\u001b[0m\u001b[0mdata\u001b[0m\u001b[0;34m.\u001b[0m\u001b[0mcpu\u001b[0m\u001b[0;34m(\u001b[0m\u001b[0;34m)\u001b[0m\u001b[0;34m.\u001b[0m\u001b[0mnumpy\u001b[0m\u001b[0;34m(\u001b[0m\u001b[0;34m)\u001b[0m\u001b[0;34m\u001b[0m\u001b[0;34m\u001b[0m\u001b[0m\n",
      "\u001b[0;32m~/anaconda2/envs/pytorch/lib/python3.6/site-packages/torch/nn/modules/module.py\u001b[0m in \u001b[0;36m__call__\u001b[0;34m(self, *input, **kwargs)\u001b[0m\n\u001b[1;32m    548\u001b[0m             \u001b[0mresult\u001b[0m \u001b[0;34m=\u001b[0m \u001b[0mself\u001b[0m\u001b[0;34m.\u001b[0m\u001b[0m_slow_forward\u001b[0m\u001b[0;34m(\u001b[0m\u001b[0;34m*\u001b[0m\u001b[0minput\u001b[0m\u001b[0;34m,\u001b[0m \u001b[0;34m**\u001b[0m\u001b[0mkwargs\u001b[0m\u001b[0;34m)\u001b[0m\u001b[0;34m\u001b[0m\u001b[0;34m\u001b[0m\u001b[0m\n\u001b[1;32m    549\u001b[0m         \u001b[0;32melse\u001b[0m\u001b[0;34m:\u001b[0m\u001b[0;34m\u001b[0m\u001b[0;34m\u001b[0m\u001b[0m\n\u001b[0;32m--> 550\u001b[0;31m             \u001b[0mresult\u001b[0m \u001b[0;34m=\u001b[0m \u001b[0mself\u001b[0m\u001b[0;34m.\u001b[0m\u001b[0mforward\u001b[0m\u001b[0;34m(\u001b[0m\u001b[0;34m*\u001b[0m\u001b[0minput\u001b[0m\u001b[0;34m,\u001b[0m \u001b[0;34m**\u001b[0m\u001b[0mkwargs\u001b[0m\u001b[0;34m)\u001b[0m\u001b[0;34m\u001b[0m\u001b[0;34m\u001b[0m\u001b[0m\n\u001b[0m\u001b[1;32m    551\u001b[0m         \u001b[0;32mfor\u001b[0m \u001b[0mhook\u001b[0m \u001b[0;32min\u001b[0m \u001b[0mself\u001b[0m\u001b[0;34m.\u001b[0m\u001b[0m_forward_hooks\u001b[0m\u001b[0;34m.\u001b[0m\u001b[0mvalues\u001b[0m\u001b[0;34m(\u001b[0m\u001b[0;34m)\u001b[0m\u001b[0;34m:\u001b[0m\u001b[0;34m\u001b[0m\u001b[0;34m\u001b[0m\u001b[0m\n\u001b[1;32m    552\u001b[0m             \u001b[0mhook_result\u001b[0m \u001b[0;34m=\u001b[0m \u001b[0mhook\u001b[0m\u001b[0;34m(\u001b[0m\u001b[0mself\u001b[0m\u001b[0;34m,\u001b[0m \u001b[0minput\u001b[0m\u001b[0;34m,\u001b[0m \u001b[0mresult\u001b[0m\u001b[0;34m)\u001b[0m\u001b[0;34m\u001b[0m\u001b[0;34m\u001b[0m\u001b[0m\n",
      "\u001b[0;32m<ipython-input-6-b9476e7ff0b2>\u001b[0m in \u001b[0;36mforward\u001b[0;34m(self, x)\u001b[0m\n\u001b[1;32m     22\u001b[0m         \u001b[0mbase_out\u001b[0m \u001b[0;34m=\u001b[0m \u001b[0mself\u001b[0m\u001b[0;34m.\u001b[0m\u001b[0mbase\u001b[0m\u001b[0;34m(\u001b[0m\u001b[0mx\u001b[0m\u001b[0;34m)\u001b[0m\u001b[0;34m\u001b[0m\u001b[0;34m\u001b[0m\u001b[0m\n\u001b[1;32m     23\u001b[0m         \u001b[0;32mreturn\u001b[0m \u001b[0mself\u001b[0m\u001b[0;34m.\u001b[0m\u001b[0mmu\u001b[0m\u001b[0;34m(\u001b[0m\u001b[0mbase_out\u001b[0m\u001b[0;34m)\u001b[0m\u001b[0;34m,\u001b[0m \u001b[0mself\u001b[0m\u001b[0;34m.\u001b[0m\u001b[0mvar\u001b[0m\u001b[0;34m(\u001b[0m\u001b[0mbase_out\u001b[0m\u001b[0;34m)\u001b[0m\u001b[0;34m,\u001b[0m\u001b[0;31m \u001b[0m\u001b[0;31m\\\u001b[0m\u001b[0;34m\u001b[0m\u001b[0;34m\u001b[0m\u001b[0m\n\u001b[0;32m---> 24\u001b[0;31m                \u001b[0mself\u001b[0m\u001b[0;34m.\u001b[0m\u001b[0mvalue\u001b[0m\u001b[0;34m(\u001b[0m\u001b[0mbase_out\u001b[0m\u001b[0;34m)\u001b[0m\u001b[0;34m\u001b[0m\u001b[0;34m\u001b[0m\u001b[0m\n\u001b[0m\u001b[1;32m     25\u001b[0m \u001b[0;34m\u001b[0m\u001b[0m\n\u001b[1;32m     26\u001b[0m \u001b[0;34m\u001b[0m\u001b[0m\n",
      "\u001b[0;32m~/anaconda2/envs/pytorch/lib/python3.6/site-packages/torch/nn/modules/module.py\u001b[0m in \u001b[0;36m__call__\u001b[0;34m(self, *input, **kwargs)\u001b[0m\n\u001b[1;32m    548\u001b[0m             \u001b[0mresult\u001b[0m \u001b[0;34m=\u001b[0m \u001b[0mself\u001b[0m\u001b[0;34m.\u001b[0m\u001b[0m_slow_forward\u001b[0m\u001b[0;34m(\u001b[0m\u001b[0;34m*\u001b[0m\u001b[0minput\u001b[0m\u001b[0;34m,\u001b[0m \u001b[0;34m**\u001b[0m\u001b[0mkwargs\u001b[0m\u001b[0;34m)\u001b[0m\u001b[0;34m\u001b[0m\u001b[0;34m\u001b[0m\u001b[0m\n\u001b[1;32m    549\u001b[0m         \u001b[0;32melse\u001b[0m\u001b[0;34m:\u001b[0m\u001b[0;34m\u001b[0m\u001b[0;34m\u001b[0m\u001b[0m\n\u001b[0;32m--> 550\u001b[0;31m             \u001b[0mresult\u001b[0m \u001b[0;34m=\u001b[0m \u001b[0mself\u001b[0m\u001b[0;34m.\u001b[0m\u001b[0mforward\u001b[0m\u001b[0;34m(\u001b[0m\u001b[0;34m*\u001b[0m\u001b[0minput\u001b[0m\u001b[0;34m,\u001b[0m \u001b[0;34m**\u001b[0m\u001b[0mkwargs\u001b[0m\u001b[0;34m)\u001b[0m\u001b[0;34m\u001b[0m\u001b[0;34m\u001b[0m\u001b[0m\n\u001b[0m\u001b[1;32m    551\u001b[0m         \u001b[0;32mfor\u001b[0m \u001b[0mhook\u001b[0m \u001b[0;32min\u001b[0m \u001b[0mself\u001b[0m\u001b[0;34m.\u001b[0m\u001b[0m_forward_hooks\u001b[0m\u001b[0;34m.\u001b[0m\u001b[0mvalues\u001b[0m\u001b[0;34m(\u001b[0m\u001b[0;34m)\u001b[0m\u001b[0;34m:\u001b[0m\u001b[0;34m\u001b[0m\u001b[0;34m\u001b[0m\u001b[0m\n\u001b[1;32m    552\u001b[0m             \u001b[0mhook_result\u001b[0m \u001b[0;34m=\u001b[0m \u001b[0mhook\u001b[0m\u001b[0;34m(\u001b[0m\u001b[0mself\u001b[0m\u001b[0;34m,\u001b[0m \u001b[0minput\u001b[0m\u001b[0;34m,\u001b[0m \u001b[0mresult\u001b[0m\u001b[0;34m)\u001b[0m\u001b[0;34m\u001b[0m\u001b[0;34m\u001b[0m\u001b[0m\n",
      "\u001b[0;32m~/anaconda2/envs/pytorch/lib/python3.6/site-packages/torch/nn/modules/linear.py\u001b[0m in \u001b[0;36mforward\u001b[0;34m(self, input)\u001b[0m\n\u001b[1;32m     85\u001b[0m \u001b[0;34m\u001b[0m\u001b[0m\n\u001b[1;32m     86\u001b[0m     \u001b[0;32mdef\u001b[0m \u001b[0mforward\u001b[0m\u001b[0;34m(\u001b[0m\u001b[0mself\u001b[0m\u001b[0;34m,\u001b[0m \u001b[0minput\u001b[0m\u001b[0;34m)\u001b[0m\u001b[0;34m:\u001b[0m\u001b[0;34m\u001b[0m\u001b[0;34m\u001b[0m\u001b[0m\n\u001b[0;32m---> 87\u001b[0;31m         \u001b[0;32mreturn\u001b[0m \u001b[0mF\u001b[0m\u001b[0;34m.\u001b[0m\u001b[0mlinear\u001b[0m\u001b[0;34m(\u001b[0m\u001b[0minput\u001b[0m\u001b[0;34m,\u001b[0m \u001b[0mself\u001b[0m\u001b[0;34m.\u001b[0m\u001b[0mweight\u001b[0m\u001b[0;34m,\u001b[0m \u001b[0mself\u001b[0m\u001b[0;34m.\u001b[0m\u001b[0mbias\u001b[0m\u001b[0;34m)\u001b[0m\u001b[0;34m\u001b[0m\u001b[0;34m\u001b[0m\u001b[0m\n\u001b[0m\u001b[1;32m     88\u001b[0m \u001b[0;34m\u001b[0m\u001b[0m\n\u001b[1;32m     89\u001b[0m     \u001b[0;32mdef\u001b[0m \u001b[0mextra_repr\u001b[0m\u001b[0;34m(\u001b[0m\u001b[0mself\u001b[0m\u001b[0;34m)\u001b[0m\u001b[0;34m:\u001b[0m\u001b[0;34m\u001b[0m\u001b[0;34m\u001b[0m\u001b[0m\n",
      "\u001b[0;32m~/anaconda2/envs/pytorch/lib/python3.6/site-packages/torch/nn/functional.py\u001b[0m in \u001b[0;36mlinear\u001b[0;34m(input, weight, bias)\u001b[0m\n\u001b[1;32m   1608\u001b[0m     \u001b[0;32mif\u001b[0m \u001b[0minput\u001b[0m\u001b[0;34m.\u001b[0m\u001b[0mdim\u001b[0m\u001b[0;34m(\u001b[0m\u001b[0;34m)\u001b[0m \u001b[0;34m==\u001b[0m \u001b[0;36m2\u001b[0m \u001b[0;32mand\u001b[0m \u001b[0mbias\u001b[0m \u001b[0;32mis\u001b[0m \u001b[0;32mnot\u001b[0m \u001b[0;32mNone\u001b[0m\u001b[0;34m:\u001b[0m\u001b[0;34m\u001b[0m\u001b[0;34m\u001b[0m\u001b[0m\n\u001b[1;32m   1609\u001b[0m         \u001b[0;31m# fused op is marginally faster\u001b[0m\u001b[0;34m\u001b[0m\u001b[0;34m\u001b[0m\u001b[0;34m\u001b[0m\u001b[0m\n\u001b[0;32m-> 1610\u001b[0;31m         \u001b[0mret\u001b[0m \u001b[0;34m=\u001b[0m \u001b[0mtorch\u001b[0m\u001b[0;34m.\u001b[0m\u001b[0maddmm\u001b[0m\u001b[0;34m(\u001b[0m\u001b[0mbias\u001b[0m\u001b[0;34m,\u001b[0m \u001b[0minput\u001b[0m\u001b[0;34m,\u001b[0m \u001b[0mweight\u001b[0m\u001b[0;34m.\u001b[0m\u001b[0mt\u001b[0m\u001b[0;34m(\u001b[0m\u001b[0;34m)\u001b[0m\u001b[0;34m)\u001b[0m\u001b[0;34m\u001b[0m\u001b[0;34m\u001b[0m\u001b[0m\n\u001b[0m\u001b[1;32m   1611\u001b[0m     \u001b[0;32melse\u001b[0m\u001b[0;34m:\u001b[0m\u001b[0;34m\u001b[0m\u001b[0;34m\u001b[0m\u001b[0m\n\u001b[1;32m   1612\u001b[0m         \u001b[0moutput\u001b[0m \u001b[0;34m=\u001b[0m \u001b[0minput\u001b[0m\u001b[0;34m.\u001b[0m\u001b[0mmatmul\u001b[0m\u001b[0;34m(\u001b[0m\u001b[0mweight\u001b[0m\u001b[0;34m.\u001b[0m\u001b[0mt\u001b[0m\u001b[0;34m(\u001b[0m\u001b[0;34m)\u001b[0m\u001b[0;34m)\u001b[0m\u001b[0;34m\u001b[0m\u001b[0;34m\u001b[0m\u001b[0m\n",
      "\u001b[0;31mKeyboardInterrupt\u001b[0m: "
     ]
    }
   ],
   "source": [
    "GAMMA = 0.99\n",
    "REWARD_STEPS = 2\n",
    "BATCH_SIZE = 32\n",
    "LEARNING_RATE = 1e-3\n",
    "ENTROPY_BETA = 1e-5\n",
    "\n",
    "TEST_ITERS = 5000\n",
    "\n",
    "exp_source = ptan.experience.ExperienceSourceFirstLast(env, agent, GAMMA, \n",
    "                                                       steps_count=REWARD_STEPS)\n",
    "\n",
    "optimizer = optim.Adam(net.parameters(), lr=LEARNING_RATE)\n",
    "\n",
    "batch = []\n",
    "best_reward = None\n",
    "\n",
    "#reward_100 = collections.deque(maxlen=100)\n",
    "    \n",
    "for step_idx, exp in enumerate(exp_source):\n",
    "    rewards_steps = exp_source.pop_rewards_steps()\n",
    "    if rewards_steps:\n",
    "        rewards, steps = zip(*rewards_steps)\n",
    "        #reward_100.append(rewards[0])\n",
    "\n",
    "    if step_idx % TEST_ITERS == 0:\n",
    "        ts = time.time()\n",
    "        rewards, steps = test_net(net, test_env, device=device)\n",
    "        print(\"Test done is %.2f sec, reward %.3f, steps %d\" %\\\n",
    "              (time.time() - ts, rewards, steps))\n",
    "        #writer.add_scalar(\"test_reward\", rewards, step_idx)\n",
    "        #writer.add_scalar(\"test_steps\", steps, step_idx)\n",
    "        if (best_reward is None) or (best_reward < rewards):\n",
    "            if best_reward is not None:\n",
    "                print(\"Best reward updated: %.8f -> %.8f\" % (best_reward, rewards))\n",
    "            best_reward = rewards\n",
    "\n",
    "    batch.append(exp)\n",
    "    if len(batch) < BATCH_SIZE:\n",
    "        continue\n",
    "\n",
    "    states_v, actions_v, vals_ref_v = unpack_batch_a2c(batch, net, device=device,\n",
    "                                                       last_val_gamma=GAMMA**REWARD_STEPS)\n",
    "    batch.clear()\n",
    "\n",
    "    optimizer.zero_grad()\n",
    "    \n",
    "    mu_v, var_v, value_v = net(states_v)\n",
    "    loss_value_v = F.mse_loss(value_v.squeeze(-1), vals_ref_v)\n",
    "\n",
    "    adv_v = vals_ref_v.unsqueeze(dim=-1) - value_v.detach()\n",
    "    log_prob_v = adv_v * calc_logprob(mu_v, var_v, actions_v)\n",
    "    loss_policy_v = -log_prob_v.mean()\n",
    "    ent_v = -(torch.log(2*np.pi*var_v) + 1)/2\n",
    "    entropy_loss_v = ENTROPY_BETA * ent_v.mean()\n",
    "    \n",
    "    mentor_loss_v = ((mu_v - go_thrust_v)**2).mean()\n",
    "\n",
    "    loss_v = loss_policy_v + entropy_loss_v + loss_value_v + mentor_loss_v\n",
    "    loss_v.backward()\n",
    "    optimizer.step()"
   ]
  },
  {
   "cell_type": "code",
   "execution_count": 39,
   "metadata": {},
   "outputs": [
    {
     "data": {
      "text/plain": [
       "(tensor([[1.0000, 0.0249]], grad_fn=<TanhBackward>),\n",
       " tensor([[8.4198e-04, 1.4417e+00]], grad_fn=<SoftplusBackward>),\n",
       " tensor([[1.3814]], grad_fn=<AddmmBackward>))"
      ]
     },
     "execution_count": 39,
     "metadata": {},
     "output_type": "execute_result"
    }
   ],
   "source": [
    "s = env.reset()\n",
    "s_v = torch.FloatTensor([s])\n",
    "net(s_v)"
   ]
  },
  {
   "cell_type": "code",
   "execution_count": 40,
   "metadata": {},
   "outputs": [
    {
     "ename": "KeyboardInterrupt",
     "evalue": "",
     "output_type": "error",
     "traceback": [
      "\u001b[0;31m---------------------------------------------------------------------------\u001b[0m",
      "\u001b[0;31mKeyboardInterrupt\u001b[0m                         Traceback (most recent call last)",
      "\u001b[0;32m<ipython-input-40-51945c4e9986>\u001b[0m in \u001b[0;36m<module>\u001b[0;34m\u001b[0m\n\u001b[1;32m      1\u001b[0m \u001b[0;31m#test_net(net, test_env, count=1)\u001b[0m\u001b[0;34m\u001b[0m\u001b[0;34m\u001b[0m\u001b[0;34m\u001b[0m\u001b[0m\n\u001b[0;32m----> 2\u001b[0;31m \u001b[0mtest_net\u001b[0m\u001b[0;34m(\u001b[0m\u001b[0mup_net\u001b[0m\u001b[0;34m,\u001b[0m \u001b[0mtest_env\u001b[0m\u001b[0;34m,\u001b[0m \u001b[0mcount\u001b[0m\u001b[0;34m=\u001b[0m\u001b[0;36m1\u001b[0m\u001b[0;34m)\u001b[0m\u001b[0;34m\u001b[0m\u001b[0;34m\u001b[0m\u001b[0m\n\u001b[0m",
      "\u001b[0;32m<ipython-input-27-5c40a367ecb4>\u001b[0m in \u001b[0;36mtest_net\u001b[0;34m(net, env, count, device)\u001b[0m\n\u001b[1;32m     10\u001b[0m             \u001b[0mmu_v\u001b[0m \u001b[0;34m=\u001b[0m \u001b[0mnet\u001b[0m\u001b[0;34m(\u001b[0m\u001b[0mobs_v\u001b[0m\u001b[0;34m)\u001b[0m\u001b[0;34m[\u001b[0m\u001b[0;36m0\u001b[0m\u001b[0;34m]\u001b[0m\u001b[0;34m\u001b[0m\u001b[0;34m\u001b[0m\u001b[0m\n\u001b[1;32m     11\u001b[0m             \u001b[0maction\u001b[0m \u001b[0;34m=\u001b[0m \u001b[0mmu_v\u001b[0m\u001b[0;34m.\u001b[0m\u001b[0msqueeze\u001b[0m\u001b[0;34m(\u001b[0m\u001b[0mdim\u001b[0m\u001b[0;34m=\u001b[0m\u001b[0;36m0\u001b[0m\u001b[0;34m)\u001b[0m\u001b[0;34m.\u001b[0m\u001b[0mdata\u001b[0m\u001b[0;34m.\u001b[0m\u001b[0mcpu\u001b[0m\u001b[0;34m(\u001b[0m\u001b[0;34m)\u001b[0m\u001b[0;34m.\u001b[0m\u001b[0mnumpy\u001b[0m\u001b[0;34m(\u001b[0m\u001b[0;34m)\u001b[0m\u001b[0;34m\u001b[0m\u001b[0;34m\u001b[0m\u001b[0m\n\u001b[0;32m---> 12\u001b[0;31m             \u001b[0mstate\u001b[0m\u001b[0;34m,\u001b[0m \u001b[0mreward\u001b[0m\u001b[0;34m,\u001b[0m \u001b[0mdone\u001b[0m\u001b[0;34m,\u001b[0m \u001b[0m_\u001b[0m \u001b[0;34m=\u001b[0m \u001b[0menv\u001b[0m\u001b[0;34m.\u001b[0m\u001b[0mstep\u001b[0m\u001b[0;34m(\u001b[0m\u001b[0maction\u001b[0m\u001b[0;34m)\u001b[0m\u001b[0;34m\u001b[0m\u001b[0;34m\u001b[0m\u001b[0m\n\u001b[0m\u001b[1;32m     13\u001b[0m             \u001b[0mrewards\u001b[0m \u001b[0;34m+=\u001b[0m \u001b[0mreward\u001b[0m\u001b[0;34m\u001b[0m\u001b[0;34m\u001b[0m\u001b[0m\n\u001b[1;32m     14\u001b[0m             \u001b[0msteps\u001b[0m \u001b[0;34m+=\u001b[0m \u001b[0;36m1\u001b[0m\u001b[0;34m\u001b[0m\u001b[0;34m\u001b[0m\u001b[0m\n",
      "\u001b[0;32m<ipython-input-26-d589a39a488c>\u001b[0m in \u001b[0;36mstep\u001b[0;34m(self, action)\u001b[0m\n\u001b[1;32m    182\u001b[0m                                           \u001b[0mself\u001b[0m\u001b[0;34m.\u001b[0m\u001b[0mr\u001b[0m\u001b[0;34m*\u001b[0m\u001b[0mnp\u001b[0m\u001b[0;34m.\u001b[0m\u001b[0msin\u001b[0m\u001b[0;34m(\u001b[0m\u001b[0mself\u001b[0m\u001b[0;34m.\u001b[0m\u001b[0mtheta\u001b[0m\u001b[0;34m)\u001b[0m\u001b[0;34m,\u001b[0m\u001b[0;34m\u001b[0m\u001b[0;34m\u001b[0m\u001b[0m\n\u001b[1;32m    183\u001b[0m                                           self.orientation_angle]], \n\u001b[0;32m--> 184\u001b[0;31m                                         axis=0)\n\u001b[0m\u001b[1;32m    185\u001b[0m \u001b[0;34m\u001b[0m\u001b[0m\n\u001b[1;32m    186\u001b[0m         \u001b[0;31m# reward 1 for every step not done, encouraging orbit seeking\u001b[0m\u001b[0;34m\u001b[0m\u001b[0;34m\u001b[0m\u001b[0;34m\u001b[0m\u001b[0m\n",
      "\u001b[0;32m<__array_function__ internals>\u001b[0m in \u001b[0;36mappend\u001b[0;34m(*args, **kwargs)\u001b[0m\n",
      "\u001b[0;32m~/anaconda2/envs/pytorch/lib/python3.6/site-packages/numpy/lib/function_base.py\u001b[0m in \u001b[0;36mappend\u001b[0;34m(arr, values, axis)\u001b[0m\n\u001b[1;32m   4698\u001b[0m         \u001b[0mvalues\u001b[0m \u001b[0;34m=\u001b[0m \u001b[0mravel\u001b[0m\u001b[0;34m(\u001b[0m\u001b[0mvalues\u001b[0m\u001b[0;34m)\u001b[0m\u001b[0;34m\u001b[0m\u001b[0;34m\u001b[0m\u001b[0m\n\u001b[1;32m   4699\u001b[0m         \u001b[0maxis\u001b[0m \u001b[0;34m=\u001b[0m \u001b[0marr\u001b[0m\u001b[0;34m.\u001b[0m\u001b[0mndim\u001b[0m\u001b[0;34m-\u001b[0m\u001b[0;36m1\u001b[0m\u001b[0;34m\u001b[0m\u001b[0;34m\u001b[0m\u001b[0m\n\u001b[0;32m-> 4700\u001b[0;31m     \u001b[0;32mreturn\u001b[0m \u001b[0mconcatenate\u001b[0m\u001b[0;34m(\u001b[0m\u001b[0;34m(\u001b[0m\u001b[0marr\u001b[0m\u001b[0;34m,\u001b[0m \u001b[0mvalues\u001b[0m\u001b[0;34m)\u001b[0m\u001b[0;34m,\u001b[0m \u001b[0maxis\u001b[0m\u001b[0;34m=\u001b[0m\u001b[0maxis\u001b[0m\u001b[0;34m)\u001b[0m\u001b[0;34m\u001b[0m\u001b[0;34m\u001b[0m\u001b[0m\n\u001b[0m\u001b[1;32m   4701\u001b[0m \u001b[0;34m\u001b[0m\u001b[0m\n\u001b[1;32m   4702\u001b[0m \u001b[0;34m\u001b[0m\u001b[0m\n",
      "\u001b[0;32m<__array_function__ internals>\u001b[0m in \u001b[0;36mconcatenate\u001b[0;34m(*args, **kwargs)\u001b[0m\n",
      "\u001b[0;31mKeyboardInterrupt\u001b[0m: "
     ]
    }
   ],
   "source": [
    "#test_net(net, test_env, count=1)\n",
    "test_net(up_net, test_env, count=1)"
   ]
  },
  {
   "cell_type": "code",
   "execution_count": 25,
   "metadata": {},
   "outputs": [
    {
     "data": {
      "image/png": "[encoded data removed]",
      "text/plain": [
       "<Figure size 500x500 with 1 Axes>"
      ]
     },
     "metadata": {},
     "output_type": "display_data"
    },
    {
     "data": {
      "image/png": "[encoded data removed]",
      "text/plain": [
       "<Figure size 500x500 with 3 Axes>"
      ]
     },
     "metadata": {},
     "output_type": "display_data"
    }
   ],
   "source": [
    "sns.set_style('whitegrid')\n",
    "test_env.render(sample_traj_rate=100)"
   ]
  },
  {
   "cell_type": "markdown",
   "metadata": {},
   "source": [
    "## Vanilla Policy Gradient Method"
   ]
  },
  {
   "cell_type": "code",
   "execution_count": 177,
   "metadata": {},
   "outputs": [
    {
     "name": "stdout",
     "output_type": "stream",
     "text": [
      "using device:  cpu\n"
     ]
    },
    {
     "data": {
      "text/plain": [
       "PGN(\n",
       "  (actions_mu): Sequential(\n",
       "    (0): Linear(in_features=4, out_features=128, bias=True)\n",
       "    (1): ReLU()\n",
       "    (2): Linear(in_features=128, out_features=2, bias=True)\n",
       "  )\n",
       "  (actions_var): Sequential(\n",
       "    (0): Linear(in_features=4, out_features=128, bias=True)\n",
       "    (1): ReLU()\n",
       "    (2): Linear(in_features=128, out_features=2, bias=True)\n",
       "  )\n",
       "  (values): Sequential(\n",
       "    (0): Linear(in_features=4, out_features=128, bias=True)\n",
       "    (1): ReLU()\n",
       "    (2): Linear(in_features=128, out_features=1, bias=True)\n",
       "  )\n",
       ")"
      ]
     },
     "execution_count": 177,
     "metadata": {},
     "output_type": "execute_result"
    }
   ],
   "source": [
    "device = torch.device(\"cuda\" if torch.cuda.is_available() else \"cpu\")\n",
    "print('using device: ',device)\n",
    "\n",
    "HIDDEN_SIZE = 128\n",
    "\n",
    "class PGN(nn.Module):\n",
    "    def __init__(self, in_size):\n",
    "        super(PGN,self).__init__()\n",
    "        \n",
    "        self.actions_mu = nn.Sequential(\n",
    "            nn.Linear(in_size, HIDDEN_SIZE),\n",
    "            nn.ReLU(),\n",
    "            nn.Linear(HIDDEN_SIZE, 2)\n",
    "        )\n",
    "    \n",
    "        self.actions_var = nn.Sequential(\n",
    "            nn.Linear(in_size, HIDDEN_SIZE),\n",
    "            nn.ReLU(),\n",
    "            nn.Linear(HIDDEN_SIZE, 2)\n",
    "        )\n",
    "        \n",
    "        self.values =  nn.Sequential(\n",
    "            nn.Linear(in_size, HIDDEN_SIZE),\n",
    "            nn.ReLU(),\n",
    "            nn.Linear(HIDDEN_SIZE, 1)\n",
    "        )\n",
    "    \n",
    "    def __call__(self, x):\n",
    "        return self.actions_mu(x), self.actions_var(x), self.values(x)\n",
    "    \n",
    "policy_net = PGN(4).to(device)\n",
    "\n",
    "policy_net"
   ]
  },
  {
   "cell_type": "code",
   "execution_count": 149,
   "metadata": {},
   "outputs": [],
   "source": [
    "ridx = np.random.choice(range(len(traj_s)),size = 1000)\n",
    "states_v = torch.FloatTensor(np.array(traj_s)[ridx])\n",
    "actions_v = torch.LongTensor(np.array(traj_a)[ridx])\n",
    "#actions_v = torch.eye(4)[traj_a]"
   ]
  },
  {
   "cell_type": "code",
   "execution_count": 178,
   "metadata": {},
   "outputs": [],
   "source": [
    "optimizer = optim.Adam(policy_net.parameters(), lr=0.001)"
   ]
  },
  {
   "cell_type": "code",
   "execution_count": 152,
   "metadata": {},
   "outputs": [
    {
     "name": "stdout",
     "output_type": "stream",
     "text": [
      "0.611042857170105\n",
      "0.07870986312627792\n",
      "0.04247419536113739\n",
      "0.029623961076140404\n",
      "0.0246701892465353\n",
      "0.022615090012550354\n",
      "0.021483683958649635\n",
      "0.020682865753769875\n",
      "0.01997537910938263\n",
      "0.019331539049744606\n",
      "0.01875515654683113\n",
      "0.018252111971378326\n",
      "0.017818685621023178\n",
      "0.01744617521762848\n",
      "0.01712161675095558\n",
      "0.016824597492814064\n",
      "0.01656264252960682\n",
      "0.01633056439459324\n",
      "0.016125833615660667\n",
      "0.015943657606840134\n",
      "0.015776731073856354\n",
      "0.015621383674442768\n",
      "0.015472836792469025\n",
      "0.015327652916312218\n",
      "0.01518517266958952\n",
      "0.015045098960399628\n",
      "0.01490660198032856\n",
      "0.01477011013776064\n",
      "0.014637439511716366\n",
      "0.014506872743368149\n",
      "0.014379916712641716\n",
      "0.014262971468269825\n",
      "0.014149095863103867\n",
      "0.014043898321688175\n",
      "0.013938740827143192\n",
      "0.01384030096232891\n",
      "0.013742691837251186\n",
      "0.013647002167999744\n",
      "0.013478003442287445\n",
      "0.013384887017309666\n",
      "0.013283448293805122\n",
      "0.013193108141422272\n",
      "0.013111486099660397\n",
      "0.01303156465291977\n",
      "0.012958995997905731\n",
      "0.012887602671980858\n",
      "0.012806102633476257\n",
      "0.012738815508782864\n",
      "0.012670562602579594\n",
      "0.01261019054800272\n"
     ]
    }
   ],
   "source": [
    "for e in range(5000):\n",
    "    optimizer.zero_grad()\n",
    "    mu_v, var_v, _ = policy_net(states_v)\n",
    "    \n",
    "    loss_v = ((mu_v - actions_v)**2).mean()\n",
    "    loss_v.backward()\n",
    "    optimizer.step()\n",
    "    \n",
    "    if e % 100 == 0:\n",
    "        print(loss_v.item())"
   ]
  },
  {
   "cell_type": "code",
   "execution_count": 162,
   "metadata": {},
   "outputs": [],
   "source": [
    "state = env.reset()\n",
    "episode_R = 0.0\n",
    "\n",
    "while True:\n",
    "    state_v = torch.FloatTensor([state])\n",
    "    mu_v, var_v, _ = policy_net(state_v)\n",
    "    mu = mu_v.data.cpu().numpy()[0]\n",
    "    \n",
    "    state, reward, is_done, _ = env.step(mu)\n",
    "    episode_R += reward\n",
    "    if is_done:\n",
    "        break"
   ]
  },
  {
   "cell_type": "code",
   "execution_count": 163,
   "metadata": {},
   "outputs": [
    {
     "data": {
      "text/plain": [
       "-631.6050344747143"
      ]
     },
     "execution_count": 163,
     "metadata": {},
     "output_type": "execute_result"
    }
   ],
   "source": [
    "episode_R"
   ]
  },
  {
   "cell_type": "code",
   "execution_count": 164,
   "metadata": {},
   "outputs": [
    {
     "data": {
      "image/png": "[encoded data removed]",
      "text/plain": [
       "<Figure size 500x500 with 1 Axes>"
      ]
     },
     "metadata": {},
     "output_type": "display_data"
    },
    {
     "data": {
      "image/png": "[encoded data removed]",
      "text/plain": [
       "<Figure size 500x500 with 3 Axes>"
      ]
     },
     "metadata": {},
     "output_type": "display_data"
    }
   ],
   "source": [
    "sns.set_style('whitegrid')\n",
    "env.render()"
   ]
  },
  {
   "cell_type": "code",
   "execution_count": 171,
   "metadata": {},
   "outputs": [],
   "source": [
    "def calc_logprob(mu_v, var_v, actions_v):\n",
    "    p1 = - ((mu_v - actions_v) ** 2) / (2*var_v.clamp(min=1e-3))\n",
    "    p2 = - torch.log(torch.sqrt(2 * np.pi * var_v))\n",
    "    return p1 + p2"
   ]
  },
  {
   "cell_type": "code",
   "execution_count": 181,
   "metadata": {},
   "outputs": [
    {
     "name": "stdout",
     "output_type": "stream",
     "text": [
      "tensor([[-0.2690,  0.1209],\n",
      "        [-0.2690,  0.1209],\n",
      "        [-0.2690,  0.1209],\n",
      "        [-0.2690,  0.1209],\n",
      "        [-0.2690,  0.1209],\n",
      "        [-0.2690,  0.1209],\n",
      "        [-0.2690,  0.1209],\n",
      "        [-0.2690,  0.1209],\n",
      "        [-0.2690,  0.1209],\n",
      "        [-0.2690,  0.1209]], grad_fn=<AddBackward0>)\n"
     ]
    },
    {
     "ename": "RuntimeError",
     "evalue": "The size of tensor a (10) must match the size of tensor b (2) at non-singleton dimension 1",
     "output_type": "error",
     "traceback": [
      "\u001b[0;31m---------------------------------------------------------------------------\u001b[0m",
      "\u001b[0;31mRuntimeError\u001b[0m                              Traceback (most recent call last)",
      "\u001b[0;32m<ipython-input-181-a737a5f934d4>\u001b[0m in \u001b[0;36m<module>\u001b[0;34m\u001b[0m\n\u001b[1;32m    106\u001b[0m         \u001b[0mprint\u001b[0m\u001b[0;34m(\u001b[0m\u001b[0mlog_prob_v\u001b[0m\u001b[0;34m)\u001b[0m\u001b[0;34m\u001b[0m\u001b[0;34m\u001b[0m\u001b[0m\n\u001b[1;32m    107\u001b[0m         \u001b[0;31m# Policy Loss\u001b[0m\u001b[0;34m\u001b[0m\u001b[0;34m\u001b[0m\u001b[0;34m\u001b[0m\u001b[0m\n\u001b[0;32m--> 108\u001b[0;31m         \u001b[0mloss_v\u001b[0m \u001b[0;34m=\u001b[0m \u001b[0;34m(\u001b[0m\u001b[0msample_Rs_v\u001b[0m\u001b[0;34m-\u001b[0m\u001b[0mvalues_v\u001b[0m\u001b[0;34m.\u001b[0m\u001b[0mdetach\u001b[0m\u001b[0;34m(\u001b[0m\u001b[0;34m)\u001b[0m\u001b[0;34m)\u001b[0m\u001b[0;34m*\u001b[0m\u001b[0mlog_prob_v\u001b[0m\u001b[0;34m\u001b[0m\u001b[0;34m\u001b[0m\u001b[0m\n\u001b[0m\u001b[1;32m    109\u001b[0m \u001b[0;34m\u001b[0m\u001b[0m\n\u001b[1;32m    110\u001b[0m         \u001b[0;31m# total loss, minimize this\u001b[0m\u001b[0;34m\u001b[0m\u001b[0;34m\u001b[0m\u001b[0;34m\u001b[0m\u001b[0m\n",
      "\u001b[0;31mRuntimeError\u001b[0m: The size of tensor a (10) must match the size of tensor b (2) at non-singleton dimension 1"
     ]
    }
   ],
   "source": []
  },
  {
   "cell_type": "code",
   "execution_count": 174,
   "metadata": {},
   "outputs": [
    {
     "name": "stdout",
     "output_type": "stream",
     "text": [
      "-1572.8280186113989 4055.6625553967274\n"
     ]
    },
    {
     "data": {
      "image/png": "[encoded data removed]",
      "text/plain": [
       "<Figure size 432x288 with 1 Axes>"
      ]
     },
     "metadata": {},
     "output_type": "display_data"
    }
   ],
   "source": [
    "print(np.mean(total_rewards), np.std(total_rewards))\n",
    "sns.distplot(total_rewards,kde=False);"
   ]
  },
  {
   "cell_type": "code",
   "execution_count": 176,
   "metadata": {},
   "outputs": [
    {
     "name": "stdout",
     "output_type": "stream",
     "text": [
      "Episode Reward:  -1105.2090478697733\n"
     ]
    },
    {
     "data": {
      "image/png": "[encoded data removed]",
      "text/plain": [
       "<Figure size 500x500 with 1 Axes>"
      ]
     },
     "metadata": {},
     "output_type": "display_data"
    },
    {
     "data": {
      "image/png": "[encoded data removed]",
      "text/plain": [
       "<Figure size 500x500 with 3 Axes>"
      ]
     },
     "metadata": {},
     "output_type": "display_data"
    }
   ],
   "source": [
    "s = env.reset()\n",
    "\n",
    "episode_reward = 0.0\n",
    "\n",
    "program_cmd_history = []\n",
    "\n",
    "done = False\n",
    "while not done:\n",
    "    s_v = torch.FloatTensor(s).unsqueeze(0).to(device)\n",
    "    mu_v, var_v, _ = policy_net(s_v)\n",
    "    mu = mu_v.data.cpu().numpy()\n",
    "    var = var_v.data.cpu().numpy()\n",
    "    a = [np.random.normal(loc=mu[0,0],scale=np.abs(var[0,0])),\n",
    "         np.random.normal(loc=mu[0,1],scale=np.abs(var[0,1]))]\n",
    "\n",
    "    program_cmd_history.append(a)    \n",
    "    s, r, done,_ = env.step(a)\n",
    "    episode_reward +=r\n",
    "\n",
    "print('Episode Reward: ', episode_reward)\n",
    "sns.set_style('darkgrid')\n",
    "env.render()"
   ]
  },
  {
   "cell_type": "code",
   "execution_count": 95,
   "metadata": {},
   "outputs": [
    {
     "data": {
      "image/png": "[encoded data removed]",
      "text/plain": [
       "<Figure size 1000x300 with 1 Axes>"
      ]
     },
     "metadata": {},
     "output_type": "display_data"
    }
   ],
   "source": [
    "plt.figure(figsize=(10,3), dpi=100)\n",
    "plt.plot(program_cmd_history);"
   ]
  },
  {
   "cell_type": "code",
   "execution_count": null,
   "metadata": {},
   "outputs": [],
   "source": []
  }
 ],
 "metadata": {
  "kernelspec": {
   "display_name": "Python 3",
   "language": "python",
   "name": "python3"
  },
  "language_info": {
   "codemirror_mode": {
    "name": "ipython",
    "version": 3
   },
   "file_extension": ".py",
   "mimetype": "text/x-python",
   "name": "python",
   "nbconvert_exporter": "python",
   "pygments_lexer": "ipython3",
   "version": "3.6.9"
  }
 },
 "nbformat": 4,
 "nbformat_minor": 2
}
