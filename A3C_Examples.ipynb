{
 "cells": [
  {
   "cell_type": "code",
   "execution_count": 1,
   "metadata": {},
   "outputs": [],
   "source": [
    "import os\n",
    "import gym\n",
    "import ptan\n",
    "import numpy as np\n",
    "import collections\n",
    "\n",
    "import torch\n",
    "import torch.nn.utils as nn_utils\n",
    "import torch.nn.functional as F\n",
    "import torch.optim as optim\n",
    "import torch.multiprocessing as mp"
   ]
  },
  {
   "cell_type": "code",
   "execution_count": 2,
   "metadata": {},
   "outputs": [],
   "source": [
    "GAMMA = 0.99\n",
    "LEARNING_RATE = 0.001\n",
    "ENTROPY_BETA = 0.01\n",
    "BATCH_SIZE = 128\n",
    "\n",
    "REWARD_STEPS = 4\n",
    "CLIP_GRAD = 0.1\n",
    "\n",
    "PROCESS_COUNT = 4\n",
    "NUM_ENVS = 8\n",
    "MICRO_BATCH_SIZE = 32\n",
    "\n",
    "ENV_NAME = 'LunarLander-v0'\n",
    "NAME = 'Lunar_Lander'\n",
    "REWARD_BOUND = 18"
   ]
  },
  {
   "cell_type": "code",
   "execution_count": 3,
   "metadata": {},
   "outputs": [],
   "source": [
    "def make_env():\n",
    "    return ptan.common.wrappers.wrap_dqn(gym.make(ENV_NAME))\n",
    "\n",
    "TotalReward = collections.namedtuple('TotalReward',\n",
    "                                     field_names='reward')"
   ]
  },
  {
   "cell_type": "code",
   "execution_count": 4,
   "metadata": {},
   "outputs": [],
   "source": [
    "def data_func(net, device, train_queue):\n",
    "    envs = [make_env() for _ in range(NUM_ENVS)]\n",
    "    agent = ptan.agent.PolicyAgent(lambda x: net(x)[0],\n",
    "                                   device=device,\n",
    "                                   apply_softmax=True)\n",
    "    exp_source = ptan.experience.ExperienceSourceFirstLast(\n",
    "                  envs, agent, gamma=GAMMA, steps_count=REWARD_STEPS)\n",
    "    micro_batch = []\n",
    "    \n",
    "    for exp in exp_source:\n",
    "        new_rewards = exp_source.pop_total_rewards()\n",
    "        if new_rewards:\n",
    "            data = TotalReward(reward=np.mean(new_rewards))\n",
    "            train_queue.put(data)\n",
    "        \n",
    "        micro_batch.append(exp)\n",
    "        if len(micro_batch) < MICRO_BATCH:\n",
    "            continue\n",
    "        \n",
    "        data = common.unpack_batch(micro_batch, net, device=device,\n",
    "                                  last_val_gamma=GAMMMA**REWARD_STEPS)\n",
    "        train_queue.put(data)\n",
    "        micro_batch.clear()"
   ]
  },
  {
   "cell_type": "code",
   "execution_count": 5,
   "metadata": {},
   "outputs": [],
   "source": [
    "mp.set_start_method('spawn')\n",
    "os.environ['OMP_NUM_THREADS'] = '1'\n",
    "device = 'cuda' if torch.cuda.is_available else 'cpu'"
   ]
  },
  {
   "cell_type": "code",
   "execution_count": null,
   "metadata": {},
   "outputs": [],
   "source": [
    "env = make_env()\n",
    "net = A2CNet(env.observation_space.shape[0],\n",
    "             env.action_space.n).to(device)\n",
    "\n",
    "net.share_memory()\n",
    "optimizer = optim.Adam(net.parameters(), lr=LEARNING_RATE,\n",
    "                       eps=1e-3)\n",
    "\n",
    "train_queue = mp.Queue(maxsize=PROCESSES_COUNT)\n",
    "data_proc_list = []"
   ]
  },
  {
   "cell_type": "code",
   "execution_count": null,
   "metadata": {},
   "outputs": [],
   "source": [
    "for _ in range(PROCESSES_COUNT):\n",
    "    data_proc = mp.Process(target=data_func,\n",
    "                           args=(net, device, train_queue))\n",
    "    data_proc.start()\n",
    "    data_proc_list.append(data_proc)"
   ]
  },
  {
   "cell_type": "code",
   "execution_count": null,
   "metadata": {},
   "outputs": [],
   "source": []
  }
 ],
 "metadata": {
  "kernelspec": {
   "display_name": "Environment (conda_pytorch)",
   "language": "python",
   "name": "conda_pytorch"
  },
  "language_info": {
   "codemirror_mode": {
    "name": "ipython",
    "version": 3
   },
   "file_extension": ".py",
   "mimetype": "text/x-python",
   "name": "python",
   "nbconvert_exporter": "python",
   "pygments_lexer": "ipython3",
   "version": "3.6.9"
  }
 },
 "nbformat": 4,
 "nbformat_minor": 2
}
